{
 "cells": [
  {
   "cell_type": "markdown",
   "id": "8fa3d656-b3c6-4def-8509-339e8d33e05f",
   "metadata": {},
   "source": [
    "**<h1>IMPORT LIBRARIES</h1>**"
   ]
  },
  {
   "cell_type": "code",
   "execution_count": 1,
   "id": "c38ee53d-83a9-4020-beeb-d899f9652055",
   "metadata": {},
   "outputs": [],
   "source": [
    "import chardet\n",
    "import pandas as pd\n",
    "import numpy as np\n",
    "from collections import defaultdict\n",
    "from surprise import Dataset, Reader, SVD, accuracy\n",
    "from surprise.model_selection import train_test_split, cross_validate"
   ]
  },
  {
   "cell_type": "markdown",
   "id": "44c4c069-f9db-40f7-863e-2a9a6a8955a9",
   "metadata": {},
   "source": [
    "**<h1>DATASET PRAPARATION</h1>**"
   ]
  },
  {
   "cell_type": "code",
   "execution_count": 2,
   "id": "281033cb-363a-4e67-83e4-ad9e5f2e2be8",
   "metadata": {},
   "outputs": [],
   "source": [
    "movies_path = './movies.dat'\n",
    "ratings_path = './ratings.dat'\n",
    "users_path = './users.dat'"
   ]
  },
  {
   "cell_type": "code",
   "execution_count": 3,
   "id": "e2692377-89ed-44cf-bc28-971e528dd7fc",
   "metadata": {
    "scrolled": true
   },
   "outputs": [
    {
     "name": "stdout",
     "output_type": "stream",
     "text": [
      "{'encoding': 'ISO-8859-1', 'confidence': 0.73, 'language': ''}\n",
      "{'encoding': 'ascii', 'confidence': 1.0, 'language': ''}\n",
      "{'encoding': 'ascii', 'confidence': 1.0, 'language': ''}\n"
     ]
    }
   ],
   "source": [
    "with open(movies_path, 'rb') as f:\n",
    "    movie_encoding = chardet.detect(f.read())\n",
    "    print(movie_encoding)\n",
    "with open(ratings_path, 'rb') as f:\n",
    "    rating_encoding = chardet.detect(f.read())\n",
    "    print(rating_encoding)\n",
    "with open(users_path, 'rb') as f:\n",
    "    user_encoding = chardet.detect(f.read())\n",
    "    print(user_encoding)"
   ]
  },
  {
   "cell_type": "code",
   "execution_count": 4,
   "id": "f35de99c-1f85-4cb3-a689-90566a275967",
   "metadata": {
    "scrolled": true
   },
   "outputs": [
    {
     "data": {
      "text/html": [
       "<div>\n",
       "<style scoped>\n",
       "    .dataframe tbody tr th:only-of-type {\n",
       "        vertical-align: middle;\n",
       "    }\n",
       "\n",
       "    .dataframe tbody tr th {\n",
       "        vertical-align: top;\n",
       "    }\n",
       "\n",
       "    .dataframe thead th {\n",
       "        text-align: right;\n",
       "    }\n",
       "</style>\n",
       "<table border=\"1\" class=\"dataframe\">\n",
       "  <thead>\n",
       "    <tr style=\"text-align: right;\">\n",
       "      <th></th>\n",
       "      <th>movieId</th>\n",
       "      <th>title</th>\n",
       "      <th>genres</th>\n",
       "    </tr>\n",
       "  </thead>\n",
       "  <tbody>\n",
       "    <tr>\n",
       "      <th>0</th>\n",
       "      <td>1</td>\n",
       "      <td>Toy Story (1995)</td>\n",
       "      <td>Animation|Children's|Comedy</td>\n",
       "    </tr>\n",
       "    <tr>\n",
       "      <th>1</th>\n",
       "      <td>2</td>\n",
       "      <td>Jumanji (1995)</td>\n",
       "      <td>Adventure|Children's|Fantasy</td>\n",
       "    </tr>\n",
       "    <tr>\n",
       "      <th>2</th>\n",
       "      <td>3</td>\n",
       "      <td>Grumpier Old Men (1995)</td>\n",
       "      <td>Comedy|Romance</td>\n",
       "    </tr>\n",
       "    <tr>\n",
       "      <th>3</th>\n",
       "      <td>4</td>\n",
       "      <td>Waiting to Exhale (1995)</td>\n",
       "      <td>Comedy|Drama</td>\n",
       "    </tr>\n",
       "    <tr>\n",
       "      <th>4</th>\n",
       "      <td>5</td>\n",
       "      <td>Father of the Bride Part II (1995)</td>\n",
       "      <td>Comedy</td>\n",
       "    </tr>\n",
       "    <tr>\n",
       "      <th>...</th>\n",
       "      <td>...</td>\n",
       "      <td>...</td>\n",
       "      <td>...</td>\n",
       "    </tr>\n",
       "    <tr>\n",
       "      <th>3878</th>\n",
       "      <td>3948</td>\n",
       "      <td>Meet the Parents (2000)</td>\n",
       "      <td>Comedy</td>\n",
       "    </tr>\n",
       "    <tr>\n",
       "      <th>3879</th>\n",
       "      <td>3949</td>\n",
       "      <td>Requiem for a Dream (2000)</td>\n",
       "      <td>Drama</td>\n",
       "    </tr>\n",
       "    <tr>\n",
       "      <th>3880</th>\n",
       "      <td>3950</td>\n",
       "      <td>Tigerland (2000)</td>\n",
       "      <td>Drama</td>\n",
       "    </tr>\n",
       "    <tr>\n",
       "      <th>3881</th>\n",
       "      <td>3951</td>\n",
       "      <td>Two Family House (2000)</td>\n",
       "      <td>Drama</td>\n",
       "    </tr>\n",
       "    <tr>\n",
       "      <th>3882</th>\n",
       "      <td>3952</td>\n",
       "      <td>Contender, The (2000)</td>\n",
       "      <td>Drama|Thriller</td>\n",
       "    </tr>\n",
       "  </tbody>\n",
       "</table>\n",
       "<p>3883 rows × 3 columns</p>\n",
       "</div>"
      ],
      "text/plain": [
       "      movieId                               title  \\\n",
       "0           1                    Toy Story (1995)   \n",
       "1           2                      Jumanji (1995)   \n",
       "2           3             Grumpier Old Men (1995)   \n",
       "3           4            Waiting to Exhale (1995)   \n",
       "4           5  Father of the Bride Part II (1995)   \n",
       "...       ...                                 ...   \n",
       "3878     3948             Meet the Parents (2000)   \n",
       "3879     3949          Requiem for a Dream (2000)   \n",
       "3880     3950                    Tigerland (2000)   \n",
       "3881     3951             Two Family House (2000)   \n",
       "3882     3952               Contender, The (2000)   \n",
       "\n",
       "                            genres  \n",
       "0      Animation|Children's|Comedy  \n",
       "1     Adventure|Children's|Fantasy  \n",
       "2                   Comedy|Romance  \n",
       "3                     Comedy|Drama  \n",
       "4                           Comedy  \n",
       "...                            ...  \n",
       "3878                        Comedy  \n",
       "3879                         Drama  \n",
       "3880                         Drama  \n",
       "3881                         Drama  \n",
       "3882                Drama|Thriller  \n",
       "\n",
       "[3883 rows x 3 columns]"
      ]
     },
     "execution_count": 4,
     "metadata": {},
     "output_type": "execute_result"
    }
   ],
   "source": [
    "movies = pd.read_csv(\n",
    "    movies_path,\n",
    "    sep='::',\n",
    "    engine='python',\n",
    "    names=['movieId', 'title', 'genres'],\n",
    "    encoding='ISO-8859-1'\n",
    ")\n",
    "movies"
   ]
  },
  {
   "cell_type": "code",
   "execution_count": 5,
   "id": "1b495955-1dfb-429d-942a-8017df85d2d0",
   "metadata": {},
   "outputs": [
    {
     "data": {
      "text/html": [
       "<div>\n",
       "<style scoped>\n",
       "    .dataframe tbody tr th:only-of-type {\n",
       "        vertical-align: middle;\n",
       "    }\n",
       "\n",
       "    .dataframe tbody tr th {\n",
       "        vertical-align: top;\n",
       "    }\n",
       "\n",
       "    .dataframe thead th {\n",
       "        text-align: right;\n",
       "    }\n",
       "</style>\n",
       "<table border=\"1\" class=\"dataframe\">\n",
       "  <thead>\n",
       "    <tr style=\"text-align: right;\">\n",
       "      <th></th>\n",
       "      <th>userId</th>\n",
       "      <th>movieId</th>\n",
       "      <th>rating</th>\n",
       "      <th>timestamp</th>\n",
       "    </tr>\n",
       "  </thead>\n",
       "  <tbody>\n",
       "    <tr>\n",
       "      <th>0</th>\n",
       "      <td>1</td>\n",
       "      <td>1193</td>\n",
       "      <td>5</td>\n",
       "      <td>978300760</td>\n",
       "    </tr>\n",
       "    <tr>\n",
       "      <th>1</th>\n",
       "      <td>1</td>\n",
       "      <td>661</td>\n",
       "      <td>3</td>\n",
       "      <td>978302109</td>\n",
       "    </tr>\n",
       "    <tr>\n",
       "      <th>2</th>\n",
       "      <td>1</td>\n",
       "      <td>914</td>\n",
       "      <td>3</td>\n",
       "      <td>978301968</td>\n",
       "    </tr>\n",
       "    <tr>\n",
       "      <th>3</th>\n",
       "      <td>1</td>\n",
       "      <td>3408</td>\n",
       "      <td>4</td>\n",
       "      <td>978300275</td>\n",
       "    </tr>\n",
       "    <tr>\n",
       "      <th>4</th>\n",
       "      <td>1</td>\n",
       "      <td>2355</td>\n",
       "      <td>5</td>\n",
       "      <td>978824291</td>\n",
       "    </tr>\n",
       "    <tr>\n",
       "      <th>...</th>\n",
       "      <td>...</td>\n",
       "      <td>...</td>\n",
       "      <td>...</td>\n",
       "      <td>...</td>\n",
       "    </tr>\n",
       "    <tr>\n",
       "      <th>1000204</th>\n",
       "      <td>6040</td>\n",
       "      <td>1091</td>\n",
       "      <td>1</td>\n",
       "      <td>956716541</td>\n",
       "    </tr>\n",
       "    <tr>\n",
       "      <th>1000205</th>\n",
       "      <td>6040</td>\n",
       "      <td>1094</td>\n",
       "      <td>5</td>\n",
       "      <td>956704887</td>\n",
       "    </tr>\n",
       "    <tr>\n",
       "      <th>1000206</th>\n",
       "      <td>6040</td>\n",
       "      <td>562</td>\n",
       "      <td>5</td>\n",
       "      <td>956704746</td>\n",
       "    </tr>\n",
       "    <tr>\n",
       "      <th>1000207</th>\n",
       "      <td>6040</td>\n",
       "      <td>1096</td>\n",
       "      <td>4</td>\n",
       "      <td>956715648</td>\n",
       "    </tr>\n",
       "    <tr>\n",
       "      <th>1000208</th>\n",
       "      <td>6040</td>\n",
       "      <td>1097</td>\n",
       "      <td>4</td>\n",
       "      <td>956715569</td>\n",
       "    </tr>\n",
       "  </tbody>\n",
       "</table>\n",
       "<p>1000209 rows × 4 columns</p>\n",
       "</div>"
      ],
      "text/plain": [
       "         userId  movieId  rating  timestamp\n",
       "0             1     1193       5  978300760\n",
       "1             1      661       3  978302109\n",
       "2             1      914       3  978301968\n",
       "3             1     3408       4  978300275\n",
       "4             1     2355       5  978824291\n",
       "...         ...      ...     ...        ...\n",
       "1000204    6040     1091       1  956716541\n",
       "1000205    6040     1094       5  956704887\n",
       "1000206    6040      562       5  956704746\n",
       "1000207    6040     1096       4  956715648\n",
       "1000208    6040     1097       4  956715569\n",
       "\n",
       "[1000209 rows x 4 columns]"
      ]
     },
     "execution_count": 5,
     "metadata": {},
     "output_type": "execute_result"
    }
   ],
   "source": [
    "ratings = pd.read_csv(\n",
    "    ratings_path,\n",
    "    sep='::',\n",
    "    engine='python',\n",
    "    names=['userId', 'movieId', 'rating', 'timestamp'],\n",
    "    encoding='ascii'\n",
    ")\n",
    "ratings"
   ]
  },
  {
   "cell_type": "code",
   "execution_count": 6,
   "id": "8dfe10ff-0494-4e4c-874c-a8c9e7a1f84e",
   "metadata": {},
   "outputs": [
    {
     "data": {
      "text/html": [
       "<div>\n",
       "<style scoped>\n",
       "    .dataframe tbody tr th:only-of-type {\n",
       "        vertical-align: middle;\n",
       "    }\n",
       "\n",
       "    .dataframe tbody tr th {\n",
       "        vertical-align: top;\n",
       "    }\n",
       "\n",
       "    .dataframe thead th {\n",
       "        text-align: right;\n",
       "    }\n",
       "</style>\n",
       "<table border=\"1\" class=\"dataframe\">\n",
       "  <thead>\n",
       "    <tr style=\"text-align: right;\">\n",
       "      <th></th>\n",
       "      <th>userId</th>\n",
       "      <th>gender</th>\n",
       "      <th>age</th>\n",
       "      <th>occupation</th>\n",
       "      <th>zip-code</th>\n",
       "    </tr>\n",
       "  </thead>\n",
       "  <tbody>\n",
       "    <tr>\n",
       "      <th>0</th>\n",
       "      <td>1</td>\n",
       "      <td>F</td>\n",
       "      <td>1</td>\n",
       "      <td>10</td>\n",
       "      <td>48067</td>\n",
       "    </tr>\n",
       "    <tr>\n",
       "      <th>1</th>\n",
       "      <td>2</td>\n",
       "      <td>M</td>\n",
       "      <td>56</td>\n",
       "      <td>16</td>\n",
       "      <td>70072</td>\n",
       "    </tr>\n",
       "    <tr>\n",
       "      <th>2</th>\n",
       "      <td>3</td>\n",
       "      <td>M</td>\n",
       "      <td>25</td>\n",
       "      <td>15</td>\n",
       "      <td>55117</td>\n",
       "    </tr>\n",
       "    <tr>\n",
       "      <th>3</th>\n",
       "      <td>4</td>\n",
       "      <td>M</td>\n",
       "      <td>45</td>\n",
       "      <td>7</td>\n",
       "      <td>02460</td>\n",
       "    </tr>\n",
       "    <tr>\n",
       "      <th>4</th>\n",
       "      <td>5</td>\n",
       "      <td>M</td>\n",
       "      <td>25</td>\n",
       "      <td>20</td>\n",
       "      <td>55455</td>\n",
       "    </tr>\n",
       "    <tr>\n",
       "      <th>...</th>\n",
       "      <td>...</td>\n",
       "      <td>...</td>\n",
       "      <td>...</td>\n",
       "      <td>...</td>\n",
       "      <td>...</td>\n",
       "    </tr>\n",
       "    <tr>\n",
       "      <th>6035</th>\n",
       "      <td>6036</td>\n",
       "      <td>F</td>\n",
       "      <td>25</td>\n",
       "      <td>15</td>\n",
       "      <td>32603</td>\n",
       "    </tr>\n",
       "    <tr>\n",
       "      <th>6036</th>\n",
       "      <td>6037</td>\n",
       "      <td>F</td>\n",
       "      <td>45</td>\n",
       "      <td>1</td>\n",
       "      <td>76006</td>\n",
       "    </tr>\n",
       "    <tr>\n",
       "      <th>6037</th>\n",
       "      <td>6038</td>\n",
       "      <td>F</td>\n",
       "      <td>56</td>\n",
       "      <td>1</td>\n",
       "      <td>14706</td>\n",
       "    </tr>\n",
       "    <tr>\n",
       "      <th>6038</th>\n",
       "      <td>6039</td>\n",
       "      <td>F</td>\n",
       "      <td>45</td>\n",
       "      <td>0</td>\n",
       "      <td>01060</td>\n",
       "    </tr>\n",
       "    <tr>\n",
       "      <th>6039</th>\n",
       "      <td>6040</td>\n",
       "      <td>M</td>\n",
       "      <td>25</td>\n",
       "      <td>6</td>\n",
       "      <td>11106</td>\n",
       "    </tr>\n",
       "  </tbody>\n",
       "</table>\n",
       "<p>6040 rows × 5 columns</p>\n",
       "</div>"
      ],
      "text/plain": [
       "      userId gender  age  occupation zip-code\n",
       "0          1      F    1          10    48067\n",
       "1          2      M   56          16    70072\n",
       "2          3      M   25          15    55117\n",
       "3          4      M   45           7    02460\n",
       "4          5      M   25          20    55455\n",
       "...      ...    ...  ...         ...      ...\n",
       "6035    6036      F   25          15    32603\n",
       "6036    6037      F   45           1    76006\n",
       "6037    6038      F   56           1    14706\n",
       "6038    6039      F   45           0    01060\n",
       "6039    6040      M   25           6    11106\n",
       "\n",
       "[6040 rows x 5 columns]"
      ]
     },
     "execution_count": 6,
     "metadata": {},
     "output_type": "execute_result"
    }
   ],
   "source": [
    "users = pd.read_csv(\n",
    "    users_path, \n",
    "    sep='::', \n",
    "    engine=\"python\", \n",
    "    names=['userId', 'gender', 'age', 'occupation', 'zip-code'],\n",
    "    encoding='ascii'\n",
    ")\n",
    "users"
   ]
  },
  {
   "cell_type": "code",
   "execution_count": 7,
   "id": "f4ab1542-8b30-46dd-b57b-bae862545929",
   "metadata": {},
   "outputs": [],
   "source": [
    "ratings_with_movies = pd.merge(ratings, movies, on='movieId')\n",
    "full_data = pd.merge(ratings_with_movies, users, on='userId')\n",
    "full_data = full_data.drop(columns=['timestamp', 'zip-code'])"
   ]
  },
  {
   "cell_type": "code",
   "execution_count": 8,
   "id": "56a3f267-e023-451a-86ff-16c44df493f7",
   "metadata": {},
   "outputs": [],
   "source": [
    "data = Dataset.load_from_df(ratings[['userId', 'movieId', 'rating']], Reader(rating_scale=(1, 5)))"
   ]
  },
  {
   "cell_type": "code",
   "execution_count": null,
   "id": "59f48782-29a1-4f64-8d3d-2becc694cf11",
   "metadata": {},
   "outputs": [],
   "source": []
  },
  {
   "cell_type": "code",
   "execution_count": 9,
   "id": "a863b424-3d29-4bbf-8ac8-f3cd84e17d2e",
   "metadata": {},
   "outputs": [],
   "source": [
    "interaction_counts = full_data['userId'].value_counts()\n",
    "cold_start_users = interaction_counts[interaction_counts == 0].index"
   ]
  },
  {
   "cell_type": "code",
   "execution_count": 10,
   "id": "d42b9f0b-ad7d-4aea-8cf3-ea78f6f3210c",
   "metadata": {},
   "outputs": [],
   "source": [
    "cold_start_data = full_data[full_data['userId'].isin(cold_start_users)]"
   ]
  },
  {
   "cell_type": "code",
   "execution_count": 11,
   "id": "f32d9cce-ce0e-4332-bdb4-16cfd17f99e7",
   "metadata": {},
   "outputs": [],
   "source": [
    "train_data, test_data = train_test_split(data, test_size=0.2)"
   ]
  },
  {
   "cell_type": "code",
   "execution_count": 12,
   "id": "e03810e7-9073-4336-897c-3b000b3ad050",
   "metadata": {},
   "outputs": [
    {
     "data": {
      "text/plain": [
       "<surprise.prediction_algorithms.matrix_factorization.SVD at 0x1a7922b5930>"
      ]
     },
     "execution_count": 12,
     "metadata": {},
     "output_type": "execute_result"
    }
   ],
   "source": [
    "model = SVD()\n",
    "model.fit(train_data)"
   ]
  },
  {
   "cell_type": "code",
   "execution_count": 13,
   "id": "139305e2-8158-4439-8177-2267f84dc058",
   "metadata": {},
   "outputs": [
    {
     "name": "stdout",
     "output_type": "stream",
     "text": [
      "RMSE: 0.8741\n",
      "RMSE: 0.8741096919311383\n",
      "MAE:  0.6863\n",
      "MAE: 0.6862969933884746\n"
     ]
    }
   ],
   "source": [
    "predictions = model.test(test_data)\n",
    "print(f\"RMSE: {accuracy.rmse(predictions)}\")\n",
    "print(f\"MAE: {accuracy.mae(predictions)}\")"
   ]
  },
  {
   "cell_type": "code",
   "execution_count": null,
   "id": "1fd85d9f-df0e-4e29-a593-d912734f3bc0",
   "metadata": {},
   "outputs": [],
   "source": []
  },
  {
   "cell_type": "code",
   "execution_count": 14,
   "id": "ef1b3f43-57c3-448e-986e-9ae043c5e45e",
   "metadata": {},
   "outputs": [],
   "source": [
    "def get_user_item_predictions(predictions):\n",
    "    user_item_ratings = defaultdict(list)\n",
    "    for pred in predictions:\n",
    "        user_item_ratings[pred.uid].append((pred.iid, pred.est, pred.r_ui))\n",
    "    return user_item_ratings"
   ]
  },
  {
   "cell_type": "code",
   "execution_count": 15,
   "id": "da418282-49f5-4b69-a8ff-d05492cb0d78",
   "metadata": {},
   "outputs": [],
   "source": [
    "user_item_ratings = get_user_item_predictions(predictions)"
   ]
  },
  {
   "cell_type": "code",
   "execution_count": 16,
   "id": "b34a3834-b419-425c-99d6-8e33b6a45257",
   "metadata": {},
   "outputs": [],
   "source": [
    "def calculate_ndcg(user_item_ratings, k=10):\n",
    "    ndcg_scores = []\n",
    "\n",
    "    for user, items in user_item_ratings.items():\n",
    "        items_sorted_by_pred = sorted(items, key=lambda x: x[1], reverse=True)\n",
    "\n",
    "        items_sorted_by_true = sorted(items, key=lambda x: x[2], reverse=True)\n",
    "\n",
    "        predicted_relevance = [x[2] for x in items_sorted_by_pred[:k]]\n",
    "        true_relevance = [x[2] for x in items_sorted_by_true[:k]]\n",
    "\n",
    "        dcg = sum((2**rel - 1) / np.log2(idx + 2) for idx, rel in enumerate(predicted_relevance))\n",
    "\n",
    "        idcg = sum((2**rel - 1) / np.log2(idx + 2) for idx, rel in enumerate(true_relevance))\n",
    "\n",
    "        ndcg = dcg / idcg if idcg > 0 else 0\n",
    "        ndcg_scores.append(ndcg)\n",
    "\n",
    "    return np.mean(ndcg_scores)"
   ]
  },
  {
   "cell_type": "code",
   "execution_count": 17,
   "id": "5b1d67f0-bc9c-4417-a30b-71145266fa6c",
   "metadata": {},
   "outputs": [
    {
     "name": "stdout",
     "output_type": "stream",
     "text": [
      "NDCG@10: 0.8261\n"
     ]
    }
   ],
   "source": [
    "ndcg_score = calculate_ndcg(user_item_ratings, k=10)\n",
    "print(f\"NDCG@10: {ndcg_score:.4f}\")"
   ]
  },
  {
   "cell_type": "code",
   "execution_count": null,
   "id": "c97083c9-0fb4-4259-b80b-941f040260fb",
   "metadata": {},
   "outputs": [],
   "source": []
  },
  {
   "cell_type": "code",
   "execution_count": null,
   "id": "76f39268-00f2-497d-bf8f-44aae068ddc4",
   "metadata": {},
   "outputs": [],
   "source": []
  }
 ],
 "metadata": {
  "kernelspec": {
   "display_name": "Python 3 (ipykernel)",
   "language": "python",
   "name": "python3"
  },
  "language_info": {
   "codemirror_mode": {
    "name": "ipython",
    "version": 3
   },
   "file_extension": ".py",
   "mimetype": "text/x-python",
   "name": "python",
   "nbconvert_exporter": "python",
   "pygments_lexer": "ipython3",
   "version": "3.10.14"
  }
 },
 "nbformat": 4,
 "nbformat_minor": 5
}
