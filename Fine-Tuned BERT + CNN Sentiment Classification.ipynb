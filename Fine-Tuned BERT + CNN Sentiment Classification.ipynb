{
 "cells": [
  {
   "cell_type": "markdown",
   "metadata": {
    "id": "FRLQsbyRicKz"
   },
   "source": [
    "**<h1>IMPORT LIBRARIES</h1>**"
   ]
  },
  {
   "cell_type": "code",
   "execution_count": 1,
   "metadata": {
    "executionInfo": {
     "elapsed": 8298,
     "status": "ok",
     "timestamp": 1719799447055,
     "user": {
      "displayName": "Ciko The Black Nose",
      "userId": "11174974504212092443"
     },
     "user_tz": -480
    },
    "id": "F_hXUL9DicUP",
    "scrolled": true
   },
   "outputs": [],
   "source": [
    "import os\n",
    "import re\n",
    "import pickle\n",
    "import shap\n",
    "import pandas as pd\n",
    "import tensorflow as tf\n",
    "import numpy as np\n",
    "import seaborn as sns\n",
    "import matplotlib.pyplot as plt\n",
    "from transformers import BertTokenizer, TFBertForSequenceClassification\n",
    "from tensorflow.keras import regularizers\n",
    "from tensorflow.keras.utils import to_categorical\n",
    "from tensorflow.keras.optimizers import Adam\n",
    "from tensorflow.keras.callbacks import EarlyStopping, ReduceLROnPlateau, ModelCheckpoint\n",
    "from tensorflow.keras.layers import Input, Conv1D, MaxPooling1D, GlobalMaxPooling1D, Dropout, Dense, BatchNormalization\n",
    "from tensorflow.keras.models import Model, load_model\n",
    "from sklearn.metrics import ndcg_score\n",
    "from sklearn.model_selection import train_test_split\n",
    "from sklearn.metrics import confusion_matrix, classification_report\n",
    "from scipy.optimize import minimize"
   ]
  },
  {
   "cell_type": "markdown",
   "metadata": {
    "id": "D_j68t4zifZL"
   },
   "source": [
    "**<h1>READ DATASET</h1>**"
   ]
  },
  {
   "cell_type": "code",
   "execution_count": null,
   "metadata": {
    "executionInfo": {
     "elapsed": 10781,
     "status": "ok",
     "timestamp": 1719799457832,
     "user": {
      "displayName": "Ciko The Black Nose",
      "userId": "11174974504212092443"
     },
     "user_tz": -480
    },
    "id": "NImryeiUieQQ"
   },
   "outputs": [],
   "source": [
    "data = pd.read_csv('./resetted_index_cleaned_polarity_roberta.csv', index_col=0)\n",
    "data"
   ]
  },
  {
   "cell_type": "code",
   "execution_count": null,
   "metadata": {
    "executionInfo": {
     "elapsed": 11,
     "status": "ok",
     "timestamp": 1719799457834,
     "user": {
      "displayName": "Ciko The Black Nose",
      "userId": "11174974504212092443"
     },
     "user_tz": -480
    },
    "id": "HyU3LAmHkYgc"
   },
   "outputs": [],
   "source": [
    "pos = data[data['sentiment'] == 'positive'].head(312564)\n",
    "neu = data[data['sentiment'] == 'neutral'].head(312564)\n",
    "neg = data[data['sentiment'] == 'negative'].head(312564)\n",
    "df = pd.concat([pos, neu, neg], ignore_index=True)"
   ]
  },
  {
   "cell_type": "code",
   "execution_count": null,
   "metadata": {
    "colab": {
     "base_uri": "https://localhost:8080/",
     "height": 258
    },
    "executionInfo": {
     "elapsed": 630,
     "status": "ok",
     "timestamp": 1719799458457,
     "user": {
      "displayName": "Ciko The Black Nose",
      "userId": "11174974504212092443"
     },
     "user_tz": -480
    },
    "id": "Lc9RSXankYqE",
    "outputId": "7a19f23d-fc8f-404b-b3b8-aed83979c3c1"
   },
   "outputs": [],
   "source": [
    "df['sentiment'] = df['sentiment'].replace({'positive': 0, 'negative': 1, 'neutral': 2})\n",
    "df.head()"
   ]
  },
  {
   "cell_type": "markdown",
   "metadata": {
    "id": "tS6kZJTIjs3y"
   },
   "source": [
    "**<h1>SPLIT DATASET</h1>**"
   ]
  },
  {
   "cell_type": "code",
   "execution_count": null,
   "metadata": {
    "executionInfo": {
     "elapsed": 505,
     "status": "ok",
     "timestamp": 1719799458955,
     "user": {
      "displayName": "Ciko The Black Nose",
      "userId": "11174974504212092443"
     },
     "user_tz": -480
    },
    "id": "IkhcZl8VjsG6"
   },
   "outputs": [],
   "source": [
    "X = df['cleaned_review'].tolist()\n",
    "for index, value in enumerate(X):\n",
    "    if isinstance(value, float):\n",
    "        X[index] = str(value)"
   ]
  },
  {
   "cell_type": "code",
   "execution_count": null,
   "metadata": {
    "executionInfo": {
     "elapsed": 11,
     "status": "ok",
     "timestamp": 1719799458956,
     "user": {
      "displayName": "Ciko The Black Nose",
      "userId": "11174974504212092443"
     },
     "user_tz": -480
    },
    "id": "0tqSP4Wljwup"
   },
   "outputs": [],
   "source": [
    "y = to_categorical(df['sentiment'])\n",
    "y = np.array(y)"
   ]
  },
  {
   "cell_type": "code",
   "execution_count": null,
   "metadata": {
    "executionInfo": {
     "elapsed": 11,
     "status": "ok",
     "timestamp": 1719799458957,
     "user": {
      "displayName": "Ciko The Black Nose",
      "userId": "11174974504212092443"
     },
     "user_tz": -480
    },
    "id": "4n57dNPajz52"
   },
   "outputs": [],
   "source": [
    "X_train, X_test, y_train, y_test = train_test_split(X, y, test_size=0.3, random_state=0)"
   ]
  },
  {
   "cell_type": "markdown",
   "metadata": {
    "id": "q7YO07UnpGRt"
   },
   "source": [
    "**<h1>TOKENIZATION</h1>**"
   ]
  },
  {
   "cell_type": "code",
   "execution_count": 2,
   "metadata": {
    "colab": {
     "base_uri": "https://localhost:8080/",
     "height": 382,
     "referenced_widgets": [
      "c0ce659661794738961e0fa62f5ad790",
      "e470c875d23148b18363c32b3f03c4a9",
      "101542b381de4038ab00c9ec1ef4b3c7",
      "e4b7bcf06885460f82c16a8e2289c0ef",
      "c40cd20700a14b58996017c9d1521e0a",
      "3504eb03afc2443a957b44cf8a5f751e",
      "80b2cf177ead43c5a5a051d9a4312316",
      "d770251998d64b18a9f4087c27a96b88",
      "0f5a1de38c9e4abe9004d5509e3f9b83",
      "6a39c4b2409244f9b3b147cd1d6eb99f",
      "137a3a66d524483c9f01dc3715fae59e",
      "15c81794660a42a7b87c8e1f4c1ab188",
      "d433a3f106b04d7994a0d43b234599e4",
      "463e5023e2474211a42989515a072a9c",
      "5adc149ff3dd49d9be2d1b5a02dec841",
      "c4a046a7963e454998b5845005b1e6b6",
      "77c99253fc6446a2b9f784d037737fc3",
      "ca672fa8ce424a9381491ab96adcae5a",
      "5e8d1726ff7249ef82daa895d6f3b9c8",
      "837a518cd3c04179b29d2b33f6a38826",
      "0f175ec0e82f44c5a72eb8d28d90a67f",
      "0fd4d91176294b57ad81771b9ce3d529",
      "a2a7d975ef2d4cb09b804e32288dcf92",
      "22ce55eaca344eeda5323cc49e6934a1",
      "c56f9d85ec844a0fa646bf8c4944e3d1",
      "99a65858f74f4d87be2166d7d95c0db0",
      "8fda7f0d14704d82942b1336796d7f27",
      "818989f8309e4111af2316043126f3d0",
      "559e5495365b49848f500996a727f60e",
      "b767f64273e2490cb6a79111810310bc",
      "aec18e0749a04b658bc8dd5b89fb1d7e",
      "ce1d4ef1fbb94414ab0aaab8d3ef6af1",
      "845024fb8e964d79b08bd1db947a503a",
      "91a4e84200c340758e462173ed3201e6",
      "cb4c0141ceaa4750a21aa5f731c80cfb",
      "0613b33cda5a4c9ebe0535fabcbb3d69",
      "31c5faf1a37d42db8e711b491167b784",
      "d7f66b9d8b054a8a9906d9c229a9ed6a",
      "ecb86a8ed0834233a02806b49a43407f",
      "ea443ed643b942899f41f97d65c15ec7",
      "72d2a0683105468c8e6a7f7ef2382cee",
      "3738cee36ffb4d69999560058d7a66a1",
      "4a2b540f1ecf48cab3234de0bd71fb73",
      "fb54412677444c37a86de9d34974c921"
     ]
    },
    "executionInfo": {
     "elapsed": 12275,
     "status": "ok",
     "timestamp": 1719799471222,
     "user": {
      "displayName": "Ciko The Black Nose",
      "userId": "11174974504212092443"
     },
     "user_tz": -480
    },
    "id": "A8sMA87HpFby",
    "outputId": "01d736b3-5030-4d3a-b79b-65378cf0475c"
   },
   "outputs": [
    {
     "name": "stderr",
     "output_type": "stream",
     "text": [
      "All PyTorch model weights were used when initializing TFBertForSequenceClassification.\n",
      "\n",
      "Some weights or buffers of the TF 2.0 model TFBertForSequenceClassification were not initialized from the PyTorch model and are newly initialized: ['classifier.weight', 'classifier.bias']\n",
      "You should probably TRAIN this model on a down-stream task to be able to use it for predictions and inference.\n"
     ]
    }
   ],
   "source": [
    "model_name = 'bert-base-uncased'\n",
    "tokenizer = BertTokenizer.from_pretrained(model_name)\n",
    "bert_model = TFBertForSequenceClassification.from_pretrained(model_name, num_labels=3)"
   ]
  },
  {
   "cell_type": "code",
   "execution_count": 3,
   "metadata": {
    "executionInfo": {
     "elapsed": 10,
     "status": "ok",
     "timestamp": 1719799471223,
     "user": {
      "displayName": "Ciko The Black Nose",
      "userId": "11174974504212092443"
     },
     "user_tz": -480
    },
    "id": "DTXd-AkUogEt"
   },
   "outputs": [],
   "source": [
    "shape = 96\n",
    "batch_size = 64"
   ]
  },
  {
   "cell_type": "code",
   "execution_count": null,
   "metadata": {
    "executionInfo": {
     "elapsed": 352916,
     "status": "ok",
     "timestamp": 1719799824132,
     "user": {
      "displayName": "Ciko The Black Nose",
      "userId": "11174974504212092443"
     },
     "user_tz": -480
    },
    "id": "R1pDU4TXpLHr"
   },
   "outputs": [],
   "source": [
    "train_encodings = tokenizer(X_train, padding='max_length', truncation=True, max_length=shape, return_tensors='tf')"
   ]
  },
  {
   "cell_type": "code",
   "execution_count": null,
   "metadata": {
    "executionInfo": {
     "elapsed": 150274,
     "status": "ok",
     "timestamp": 1719799974364,
     "user": {
      "displayName": "Ciko The Black Nose",
      "userId": "11174974504212092443"
     },
     "user_tz": -480
    },
    "id": "NKKSJuZ6pRKG"
   },
   "outputs": [],
   "source": [
    "test_encodings = tokenizer(X_test, padding='max_length', truncation=True, max_length=shape, return_tensors='tf')"
   ]
  },
  {
   "cell_type": "markdown",
   "metadata": {},
   "source": [
    "## **SAVE TOKENIZATION**"
   ]
  },
  {
   "cell_type": "code",
   "execution_count": 4,
   "metadata": {},
   "outputs": [],
   "source": [
    "save_path_train = './fix/train_encodings/'\n",
    "save_path_test = './fix/test_encodings/'\n",
    "save_path_y_train = './fix/y_train/y_train.tfrecord'\n",
    "save_path_y_test = './fix/y_test/y_test.tfrecord'"
   ]
  },
  {
   "cell_type": "code",
   "execution_count": null,
   "metadata": {},
   "outputs": [],
   "source": [
    "for key, value in train_encodings.items():\n",
    "    tf.io.write_file(f\"{save_path_train}/{key}.tfrecord\", tf.io.serialize_tensor(value))"
   ]
  },
  {
   "cell_type": "code",
   "execution_count": null,
   "metadata": {},
   "outputs": [],
   "source": [
    "for key, value in test_encodings.items():\n",
    "    tf.io.write_file(f\"{save_path_test}/{key}.tfrecord\", tf.io.serialize_tensor(value))"
   ]
  },
  {
   "cell_type": "code",
   "execution_count": null,
   "metadata": {},
   "outputs": [],
   "source": [
    "y_train_tensor = tf.convert_to_tensor(y_train, dtype=tf.float32)\n",
    "y_test_tensor = tf.convert_to_tensor(y_test, dtype=tf.float32)"
   ]
  },
  {
   "cell_type": "code",
   "execution_count": null,
   "metadata": {},
   "outputs": [],
   "source": [
    "serialized_tensor_train = tf.io.serialize_tensor(y_train_tensor)\n",
    "serialized_tensor_test = tf.io.serialize_tensor(y_test_tensor)"
   ]
  },
  {
   "cell_type": "code",
   "execution_count": null,
   "metadata": {},
   "outputs": [],
   "source": [
    "os.makedirs(os.path.dirname(save_path_y_train), exist_ok=True)\n",
    "os.makedirs(os.path.dirname(save_path_y_test), exist_ok=True)"
   ]
  },
  {
   "cell_type": "code",
   "execution_count": null,
   "metadata": {},
   "outputs": [],
   "source": [
    "tf.io.write_file(save_path_y_train, serialized_tensor_train)\n",
    "tf.io.write_file(save_path_y_test, serialized_tensor_test)"
   ]
  },
  {
   "cell_type": "markdown",
   "metadata": {},
   "source": [
    "## **LOAD TOKENIZATION**"
   ]
  },
  {
   "cell_type": "code",
   "execution_count": 5,
   "metadata": {},
   "outputs": [],
   "source": [
    "serialized_tensor_train = tf.io.read_file(save_path_y_train)\n",
    "serialized_tensor_test = tf.io.read_file(save_path_y_test)"
   ]
  },
  {
   "cell_type": "code",
   "execution_count": 6,
   "metadata": {},
   "outputs": [],
   "source": [
    "loaded_tensor_train = tf.io.parse_tensor(serialized_tensor_train, out_type=tf.float32)\n",
    "loaded_tensor_test = tf.io.parse_tensor(serialized_tensor_test, out_type=tf.float32)"
   ]
  },
  {
   "cell_type": "code",
   "execution_count": 7,
   "metadata": {},
   "outputs": [],
   "source": [
    "loaded_y_train = loaded_tensor_train.numpy()\n",
    "loaded_y_test = loaded_tensor_test.numpy()"
   ]
  },
  {
   "cell_type": "code",
   "execution_count": 8,
   "metadata": {},
   "outputs": [],
   "source": [
    "loaded_train_encodings = {}\n",
    "for key in ['input_ids', 'attention_mask', 'token_type_ids']:\n",
    "    tensor = tf.io.read_file(f\"{save_path_train}/{key}.tfrecord\")\n",
    "    loaded_train_encodings[key] = tf.io.parse_tensor(tensor, out_type=tf.int32)"
   ]
  },
  {
   "cell_type": "code",
   "execution_count": 9,
   "metadata": {},
   "outputs": [],
   "source": [
    "loaded_test_encodings = {}\n",
    "for key in ['input_ids', 'attention_mask', 'token_type_ids']:\n",
    "    tensor = tf.io.read_file(f\"{save_path_test}/{key}.tfrecord\")\n",
    "    loaded_test_encodings[key] = tf.io.parse_tensor(tensor, out_type=tf.int32)"
   ]
  },
  {
   "cell_type": "markdown",
   "metadata": {
    "id": "S4w0Es6RmeM7"
   },
   "source": [
    "**<h1>CONVERT TO TENSORFLOW DATASET</h1>**"
   ]
  },
  {
   "cell_type": "code",
   "execution_count": 10,
   "metadata": {
    "executionInfo": {
     "elapsed": 51,
     "status": "ok",
     "timestamp": 1719799974365,
     "user": {
      "displayName": "Ciko The Black Nose",
      "userId": "11174974504212092443"
     },
     "user_tz": -480
    },
    "id": "S2XgaUML3b4e"
   },
   "outputs": [],
   "source": [
    "def create_tf_dataset(encodings, labels):\n",
    "    return tf.data.Dataset.from_tensor_slices((\n",
    "        {\n",
    "            'input_ids': encodings['input_ids'],\n",
    "            'attention_mask': encodings['attention_mask'],\n",
    "            'token_type_ids': encodings['token_type_ids']\n",
    "        },\n",
    "        tf.constant(labels)\n",
    "    )).batch(batch_size, drop_remainder=True)"
   ]
  },
  {
   "cell_type": "code",
   "execution_count": null,
   "metadata": {
    "executionInfo": {
     "elapsed": 49,
     "status": "ok",
     "timestamp": 1719799974365,
     "user": {
      "displayName": "Ciko The Black Nose",
      "userId": "11174974504212092443"
     },
     "user_tz": -480
    },
    "id": "syvvoc9lp7rO"
   },
   "outputs": [],
   "source": [
    "train_tf_dataset = create_tf_dataset(train_encodings, y_train)\n",
    "test_tf_dataset = create_tf_dataset(test_encodings, y_test)"
   ]
  },
  {
   "cell_type": "code",
   "execution_count": 11,
   "metadata": {},
   "outputs": [],
   "source": [
    "train_tf_dataset = create_tf_dataset(loaded_train_encodings, loaded_y_train)\n",
    "test_tf_dataset = create_tf_dataset(loaded_test_encodings, loaded_y_test)"
   ]
  },
  {
   "cell_type": "markdown",
   "metadata": {
    "id": "8JYNmg6t03ty"
   },
   "source": [
    "**<h1>CNN MODEL</h1>**"
   ]
  },
  {
   "cell_type": "code",
   "execution_count": null,
   "metadata": {
    "executionInfo": {
     "elapsed": 48,
     "status": "ok",
     "timestamp": 1719799974366,
     "user": {
      "displayName": "Ciko The Black Nose",
      "userId": "11174974504212092443"
     },
     "user_tz": -480
    },
    "id": "3PRBEQoDpVFv"
   },
   "outputs": [],
   "source": [
    "#bert_model.bert.pooler.trainable = False\n",
    "#bert_model.classifier.trainable = False"
   ]
  },
  {
   "cell_type": "code",
   "execution_count": 12,
   "metadata": {
    "executionInfo": {
     "elapsed": 10,
     "status": "ok",
     "timestamp": 1719799974366,
     "user": {
      "displayName": "Ciko The Black Nose",
      "userId": "11174974504212092443"
     },
     "user_tz": -480
    },
    "id": "1MfGge5nFvX8"
   },
   "outputs": [],
   "source": [
    "input_ids = Input(shape=(shape,), dtype=tf.int32, name='input_ids')\n",
    "token_type_ids = Input(shape=(shape,), dtype=tf.int32, name='token_type_ids')\n",
    "attention_mask = Input(shape=(shape,), dtype=tf.int32, name='attention_mask')"
   ]
  },
  {
   "cell_type": "code",
   "execution_count": 13,
   "metadata": {
    "executionInfo": {
     "elapsed": 13557,
     "status": "ok",
     "timestamp": 1719799987914,
     "user": {
      "displayName": "Ciko The Black Nose",
      "userId": "11174974504212092443"
     },
     "user_tz": -480
    },
    "id": "vA0cHwPTF6Vz"
   },
   "outputs": [],
   "source": [
    "bert_outputs = bert_model([input_ids, token_type_ids, attention_mask], output_hidden_states=True)\n",
    "hidden_states = bert_outputs.hidden_states[-1]\n",
    "logits = bert_outputs.logits"
   ]
  },
  {
   "cell_type": "code",
   "execution_count": 14,
   "metadata": {
    "executionInfo": {
     "elapsed": 60,
     "status": "ok",
     "timestamp": 1719799987917,
     "user": {
      "displayName": "Ciko The Black Nose",
      "userId": "11174974504212092443"
     },
     "user_tz": -480
    },
    "id": "L7Mi0bb7d5UR"
   },
   "outputs": [],
   "source": [
    "conv1d_layer = Conv1D(64, 8, activation='relu', kernel_regularizer=regularizers.l2(0.025))(hidden_states) #just recently added regularization\n",
    "maxpooling1d_layer = MaxPooling1D(2)(conv1d_layer)\n",
    "dropout_layer_1 = Dropout(0.45)(maxpooling1d_layer)\n",
    "\n",
    "conv1d_layer_2 = Conv1D(128, 5, activation='relu', kernel_regularizer=regularizers.l2(0.025))(dropout_layer_1) #just recently added regularization\n",
    "maxpooling1d_layer_2 = MaxPooling1D(2)(conv1d_layer_2)\n",
    "dropout_layer_2 = Dropout(0.45)(maxpooling1d_layer_2)\n",
    "\n",
    "conv1d_layer_3 = Conv1D(256, 3, activation='relu', kernel_regularizer=regularizers.l2(0.025))(dropout_layer_2) #just recently added regularization\n",
    "globalmaxpooling1d_layer = GlobalMaxPooling1D()(conv1d_layer_3)\n",
    "\n",
    "combined_features = tf.concat([logits, globalmaxpooling1d_layer], axis=-1)\n",
    "\n",
    "dense_layer = Dense(64, activation='relu', kernel_regularizer=regularizers.l2(0.025))(combined_features)\n",
    "output_layer = Dense(3, activation='softmax')(dense_layer)"
   ]
  },
  {
   "cell_type": "markdown",
   "metadata": {
    "id": "_twvAKOmf9jC"
   },
   "source": [
    "**<h1>TRAIN MODEL</h1>**"
   ]
  },
  {
   "cell_type": "code",
   "execution_count": 15,
   "metadata": {
    "executionInfo": {
     "elapsed": 46,
     "status": "ok",
     "timestamp": 1719799987917,
     "user": {
      "displayName": "Ciko The Black Nose",
      "userId": "11174974504212092443"
     },
     "user_tz": -480
    },
    "id": "HqxTzxPLoKES"
   },
   "outputs": [],
   "source": [
    "combined_model = Model(inputs=[input_ids, token_type_ids, attention_mask], outputs=output_layer)\n",
    "combined_model.compile(optimizer=Adam(learning_rate=3e-6), loss='categorical_crossentropy', metrics=['accuracy'])"
   ]
  },
  {
   "cell_type": "code",
   "execution_count": 16,
   "metadata": {
    "executionInfo": {
     "elapsed": 45,
     "status": "ok",
     "timestamp": 1719799987917,
     "user": {
      "displayName": "Ciko The Black Nose",
      "userId": "11174974504212092443"
     },
     "user_tz": -480
    },
    "id": "Axef7RruSRVH"
   },
   "outputs": [],
   "source": [
    "early_stopping = EarlyStopping(monitor='val_loss', patience=3, restore_best_weights=True)\n",
    "reduce_lr = ReduceLROnPlateau(monitor='val_loss', factor=0.2, patience=2, min_lr=1e-6)\n",
    "checkpoint = ModelCheckpoint('./fix/bert_cnn_best_model_batch_testing.keras', save_best_only=True, monitor='val_loss', mode='min')"
   ]
  },
  {
   "cell_type": "code",
   "execution_count": 17,
   "metadata": {
    "colab": {
     "base_uri": "https://localhost:8080/",
     "height": 586
    },
    "executionInfo": {
     "elapsed": 23626191,
     "status": "error",
     "timestamp": 1719823614064,
     "user": {
      "displayName": "Ciko The Black Nose",
      "userId": "11174974504212092443"
     },
     "user_tz": -480
    },
    "id": "6t8oNR2PoCfG",
    "outputId": "6fe77f93-e591-4914-b7dc-d40e50623061"
   },
   "outputs": [
    {
     "name": "stdout",
     "output_type": "stream",
     "text": [
      "Epoch 1/50\n",
      "10256/10256 [==============================] - 6962s 678ms/step - loss: 10.3727 - accuracy: 0.7488 - val_loss: 7.9237 - val_accuracy: 0.7910 - lr: 3.0000e-06\n",
      "Epoch 2/50\n",
      "10256/10256 [==============================] - 6875s 670ms/step - loss: 5.6836 - accuracy: 0.8333 - val_loss: 4.0274 - val_accuracy: 0.8235 - lr: 3.0000e-06\n",
      "Epoch 3/50\n",
      "10256/10256 [==============================] - 6875s 670ms/step - loss: 2.7796 - accuracy: 0.8569 - val_loss: 1.9538 - val_accuracy: 0.8499 - lr: 3.0000e-06\n",
      "Epoch 4/50\n",
      "10256/10256 [==============================] - 6875s 670ms/step - loss: 1.3643 - accuracy: 0.8745 - val_loss: 1.0182 - val_accuracy: 0.8584 - lr: 3.0000e-06\n",
      "Epoch 5/50\n",
      "10256/10256 [==============================] - 6873s 670ms/step - loss: 0.7403 - accuracy: 0.8885 - val_loss: 0.6350 - val_accuracy: 0.8637 - lr: 3.0000e-06\n",
      "Epoch 6/50\n",
      "10256/10256 [==============================] - 6866s 669ms/step - loss: 0.4661 - accuracy: 0.9007 - val_loss: 0.4751 - val_accuracy: 0.8705 - lr: 3.0000e-06\n",
      "Epoch 7/50\n",
      "10256/10256 [==============================] - 6875s 670ms/step - loss: 0.3376 - accuracy: 0.9118 - val_loss: 0.4166 - val_accuracy: 0.8718 - lr: 3.0000e-06\n",
      "Epoch 8/50\n",
      "10256/10256 [==============================] - 6875s 670ms/step - loss: 0.2662 - accuracy: 0.9219 - val_loss: 0.3990 - val_accuracy: 0.8715 - lr: 3.0000e-06\n",
      "Epoch 9/50\n",
      "10256/10256 [==============================] - 6852s 668ms/step - loss: 0.2196 - accuracy: 0.9311 - val_loss: 0.3825 - val_accuracy: 0.8746 - lr: 3.0000e-06\n",
      "Epoch 10/50\n",
      "10256/10256 [==============================] - 6851s 668ms/step - loss: 0.1872 - accuracy: 0.9390 - val_loss: 0.3847 - val_accuracy: 0.8765 - lr: 3.0000e-06\n",
      "Epoch 11/50\n",
      "10256/10256 [==============================] - 6872s 670ms/step - loss: 0.1619 - accuracy: 0.9464 - val_loss: 0.4135 - val_accuracy: 0.8725 - lr: 3.0000e-06\n",
      "Epoch 12/50\n",
      "10256/10256 [==============================] - 6885s 671ms/step - loss: 0.1355 - accuracy: 0.9558 - val_loss: 0.4241 - val_accuracy: 0.8787 - lr: 1.0000e-06\n"
     ]
    }
   ],
   "source": [
    "history = combined_model.fit(train_tf_dataset, epochs=50, validation_data=(test_tf_dataset), callbacks=[checkpoint, early_stopping, reduce_lr])"
   ]
  },
  {
   "cell_type": "markdown",
   "metadata": {
    "id": "TjPfAeEj3mHg"
   },
   "source": [
    "**<h1>HISTORY LOG</h1>**"
   ]
  },
  {
   "cell_type": "code",
   "execution_count": 18,
   "metadata": {
    "id": "jL0eU9Sq3VPK"
   },
   "outputs": [],
   "source": [
    "with open('./fix/training_history_bert_cnn_best_model_batch_testing.pkl', 'wb') as file_pi:\n",
    "    pickle.dump(history.history, file_pi)"
   ]
  },
  {
   "cell_type": "code",
   "execution_count": 19,
   "metadata": {
    "colab": {
     "base_uri": "https://localhost:8080/"
    },
    "executionInfo": {
     "elapsed": 8,
     "status": "ok",
     "timestamp": 1719734804304,
     "user": {
      "displayName": "Tabita Simorangkir",
      "userId": "14213263948495410283"
     },
     "user_tz": -480
    },
    "id": "ZzIAZdcm3pbi",
    "outputId": "07a3fec5-e77e-4412-e8fd-7a5789575f3a",
    "scrolled": true
   },
   "outputs": [
    {
     "name": "stdout",
     "output_type": "stream",
     "text": [
      "{'loss': [10.372664451599121, 5.683585166931152, 2.779581069946289, 1.3642979860305786, 0.7402555346488953, 0.4660894572734833, 0.3375885784626007, 0.26620548963546753, 0.21958506107330322, 0.18724600970745087, 0.1619308441877365, 0.13551753759384155], 'accuracy': [0.7488162517547607, 0.833324670791626, 0.8569358587265015, 0.8745307922363281, 0.8884646892547607, 0.9007014036178589, 0.9117787480354309, 0.9218582510948181, 0.9311058521270752, 0.93900066614151, 0.94637131690979, 0.955814003944397], 'val_loss': [7.92369270324707, 4.027375221252441, 1.9537653923034668, 1.0182350873947144, 0.6349844932556152, 0.4751453697681427, 0.416605144739151, 0.3989916443824768, 0.38253501057624817, 0.3847268521785736, 0.4134638011455536, 0.4240821897983551], 'val_accuracy': [0.7909769415855408, 0.8234854936599731, 0.8499040007591248, 0.8584328889846802, 0.8637016415596008, 0.8704991340637207, 0.871811032295227, 0.8714554905891418, 0.8746089339256287, 0.8765074014663696, 0.8725113868713379, 0.8786831498146057], 'lr': [3e-06, 3e-06, 3e-06, 3e-06, 3e-06, 3e-06, 3e-06, 3e-06, 3e-06, 3e-06, 3e-06, 1e-06]}\n"
     ]
    }
   ],
   "source": [
    "with open('./fix/training_history_bert_cnn_best_model_batch_testing.pkl', 'rb') as file_pi:\n",
    "    loaded_history = pickle.load(file_pi)\n",
    "\n",
    "print(loaded_history)"
   ]
  },
  {
   "cell_type": "code",
   "execution_count": 20,
   "metadata": {
    "colab": {
     "base_uri": "https://localhost:8080/",
     "height": 319
    },
    "executionInfo": {
     "elapsed": 875,
     "status": "ok",
     "timestamp": 1719735021307,
     "user": {
      "displayName": "Tabita Simorangkir",
      "userId": "14213263948495410283"
     },
     "user_tz": -480
    },
    "id": "CGCPLcJ6MUlN",
    "outputId": "bd125657-fe74-4eaf-8d01-79f05ef678a8"
   },
   "outputs": [
    {
     "data": {
      "image/png": "[encoded data removed]",
      "text/plain": [
       "<Figure size 1200x400 with 2 Axes>"
      ]
     },
     "metadata": {},
     "output_type": "display_data"
    }
   ],
   "source": [
    "def plot_training_history(history):\n",
    "    # Plot training & validation accuracy values\n",
    "    plt.figure(figsize=(12, 4))\n",
    "\n",
    "    plt.subplot(1, 2, 1)\n",
    "    plt.plot(history.history['accuracy'])\n",
    "    plt.plot(history.history['val_accuracy'])\n",
    "    plt.title('Model Accuracy Batch Size 32')\n",
    "    plt.ylabel('Accuracy')\n",
    "    plt.xlabel('Epoch')\n",
    "    plt.legend(['Train', 'Validation'], loc='upper left')\n",
    "\n",
    "    # Plot training & validation loss values\n",
    "    plt.subplot(1, 2, 2)\n",
    "    plt.plot(history.history['loss'])\n",
    "    plt.plot(history.history['val_loss'])\n",
    "    plt.title('Model Loss Batch Size 32')\n",
    "    plt.ylabel('Loss')\n",
    "    plt.xlabel('Epoch')\n",
    "    plt.legend(['Train', 'Validation'], loc='upper left')\n",
    "\n",
    "    plt.show()\n",
    "\n",
    "plot_training_history(history)"
   ]
  },
  {
   "cell_type": "code",
   "execution_count": null,
   "metadata": {},
   "outputs": [],
   "source": [
    "def plot_training_loaded_history(loaded_history):\n",
    "    # Extracting the keys from the dictionary\n",
    "    accuracy = loaded_history['accuracy']\n",
    "    val_accuracy = loaded_history['val_accuracy']\n",
    "    loss = loaded_history['loss']\n",
    "    val_loss = loaded_history['val_loss']\n",
    "    \n",
    "    # Get the number of epochs\n",
    "    epochs = range(len(accuracy))\n",
    "    \n",
    "    # Plot training & validation accuracy values\n",
    "    plt.figure(figsize=(12, 4))\n",
    "\n",
    "    plt.subplot(1, 2, 1)\n",
    "    plt.plot(epochs, accuracy)\n",
    "    plt.plot(epochs, val_accuracy)\n",
    "    plt.title('Model Accuracy Batch Size 16')\n",
    "    plt.ylabel('Accuracy')\n",
    "    plt.xlabel('Epoch')\n",
    "    plt.xticks(np.arange(len(epochs)))  # Force x-axis to have integer ticks\n",
    "    plt.legend(['Train', 'Validation'], loc='upper left')\n",
    "\n",
    "    # Plot training & validation loss values\n",
    "    plt.subplot(1, 2, 2)\n",
    "    plt.plot(epochs, loss)\n",
    "    plt.plot(epochs, val_loss)\n",
    "    plt.title('Model Loss Batch Size 16')\n",
    "    plt.ylabel('Loss')\n",
    "    plt.xlabel('Epoch')\n",
    "    plt.xticks(np.arange(len(epochs)))  # Force x-axis to have integer ticks\n",
    "    plt.legend(['Train', 'Validation'], loc='upper left')\n",
    "\n",
    "    plt.show()\n",
    "\n",
    "# Assuming `loaded_history` is the dictionary with the training history data\n",
    "plot_training_loaded_history(loaded_history)"
   ]
  },
  {
   "cell_type": "markdown",
   "metadata": {
    "id": "FzaYfmd_2WXL"
   },
   "source": [
    "**<h1>SAVE MODEL</h1>**"
   ]
  },
  {
   "cell_type": "code",
   "execution_count": null,
   "metadata": {},
   "outputs": [],
   "source": [
    "#combined_model.save('./fix/cnn_classifier_model.keras')"
   ]
  },
  {
   "cell_type": "code",
   "execution_count": null,
   "metadata": {},
   "outputs": [],
   "source": [
    "#combined_model.save_weights('./fix/bert_cnn_model_tfbertmodel_weights')"
   ]
  },
  {
   "cell_type": "markdown",
   "metadata": {
    "id": "U97Z2tI8AoHI"
   },
   "source": [
    "**<h1>LOAD MODEL</h1>**"
   ]
  },
  {
   "cell_type": "code",
   "execution_count": 4,
   "metadata": {},
   "outputs": [],
   "source": [
    "custom_objects = {'TFBertForSequenceClassification': TFBertForSequenceClassification}\n",
    "loaded_model = load_model('./fix/bert_cnn_best_model.keras', custom_objects=custom_objects)"
   ]
  },
  {
   "cell_type": "code",
   "execution_count": null,
   "metadata": {},
   "outputs": [],
   "source": [
    "#custom_objects = {'TFBertForSequenceClassification': TFBertForSequenceClassification}\n",
    "#loaded_model = load_model('./fix/bert_cnn_model_64_batch.keras', custom_objects=custom_objects, compile=False)\n",
    "#optimizer = Adam(1e-6)\n",
    "#loaded_model.compile(optimizer=optimizer, loss='categorical_crossentropy', metrics=['accuracy'])\n",
    "#loaded_model.load_weights('./fix/bert_cnn_model_64_batch_weights')"
   ]
  },
  {
   "cell_type": "code",
   "execution_count": 5,
   "metadata": {},
   "outputs": [
    {
     "name": "stdout",
     "output_type": "stream",
     "text": [
      "Model: \"model\"\n",
      "__________________________________________________________________________________________________\n",
      " Layer (type)                   Output Shape         Param #     Connected to                     \n",
      "==================================================================================================\n",
      " input_ids (InputLayer)         [(None, 96)]         0           []                               \n",
      "                                                                                                  \n",
      " token_type_ids (InputLayer)    [(None, 96)]         0           []                               \n",
      "                                                                                                  \n",
      " attention_mask (InputLayer)    [(None, 96)]         0           []                               \n",
      "                                                                                                  \n",
      " tf_bert_for_sequence_classific  TFSequenceClassifie  109484547  ['input_ids[0][0]',              \n",
      " ation_1 (TFBertForSequenceClas  rOutput(loss=None,               'token_type_ids[0][0]',         \n",
      " sification)                    logits=(None, 3),                 'attention_mask[0][0]']         \n",
      "                                 hidden_states=((No                                               \n",
      "                                ne, 96, 768),                                                     \n",
      "                                 (None, 96, 768),                                                 \n",
      "                                 (None, 96, 768),                                                 \n",
      "                                 (None, 96, 768),                                                 \n",
      "                                 (None, 96, 768),                                                 \n",
      "                                 (None, 96, 768),                                                 \n",
      "                                 (None, 96, 768),                                                 \n",
      "                                 (None, 96, 768),                                                 \n",
      "                                 (None, 96, 768),                                                 \n",
      "                                 (None, 96, 768),                                                 \n",
      "                                 (None, 96, 768),                                                 \n",
      "                                 (None, 96, 768),                                                 \n",
      "                                 (None, 96, 768)),                                                \n",
      "                                 attentions=None)                                                 \n",
      "                                                                                                  \n",
      " conv1d (Conv1D)                (None, 89, 64)       393280      ['tf_bert_for_sequence_classifica\n",
      "                                                                 tion_1[0][12]']                  \n",
      "                                                                                                  \n",
      " max_pooling1d (MaxPooling1D)   (None, 44, 64)       0           ['conv1d[0][0]']                 \n",
      "                                                                                                  \n",
      " dropout_38 (Dropout)           (None, 44, 64)       0           ['max_pooling1d[0][0]']          \n",
      "                                                                                                  \n",
      " conv1d_1 (Conv1D)              (None, 40, 128)      41088       ['dropout_38[0][0]']             \n",
      "                                                                                                  \n",
      " max_pooling1d_1 (MaxPooling1D)  (None, 20, 128)     0           ['conv1d_1[0][0]']               \n",
      "                                                                                                  \n",
      " dropout_39 (Dropout)           (None, 20, 128)      0           ['max_pooling1d_1[0][0]']        \n",
      "                                                                                                  \n",
      " conv1d_2 (Conv1D)              (None, 18, 256)      98560       ['dropout_39[0][0]']             \n",
      "                                                                                                  \n",
      " global_max_pooling1d (GlobalMa  (None, 256)         0           ['conv1d_2[0][0]']               \n",
      " xPooling1D)                                                                                      \n",
      "                                                                                                  \n",
      " tf.concat (TFOpLambda)         (None, 259)          0           ['tf_bert_for_sequence_classifica\n",
      "                                                                 tion_1[0][13]',                  \n",
      "                                                                  'global_max_pooling1d[0][0]']   \n",
      "                                                                                                  \n",
      " dense (Dense)                  (None, 64)           16640       ['tf.concat[0][0]']              \n",
      "                                                                                                  \n",
      " dense_1 (Dense)                (None, 3)            195         ['dense[0][0]']                  \n",
      "                                                                                                  \n",
      "==================================================================================================\n",
      "Total params: 110,034,310\n",
      "Trainable params: 110,034,310\n",
      "Non-trainable params: 0\n",
      "__________________________________________________________________________________________________\n"
     ]
    }
   ],
   "source": [
    "loaded_model.summary()"
   ]
  },
  {
   "cell_type": "markdown",
   "metadata": {},
   "source": [
    "**<h1>MINI TESTING</h1>**"
   ]
  },
  {
   "cell_type": "code",
   "execution_count": 5,
   "metadata": {},
   "outputs": [],
   "source": [
    "sentiment_mapping = {\n",
    "    0: 'Positive',\n",
    "    1: 'Negative',\n",
    "    2: 'Neutral'\n",
    "}"
   ]
  },
  {
   "cell_type": "code",
   "execution_count": 6,
   "metadata": {},
   "outputs": [],
   "source": [
    "def predict_sentiments(texts):\n",
    "    encoded_inputs = tokenizer(texts, padding='max_length', truncation=True, max_length=shape, return_tensors='tf')\n",
    "    input_ids = encoded_inputs['input_ids']\n",
    "    token_type_ids = encoded_inputs['token_type_ids']\n",
    "    attention_mask = encoded_inputs['attention_mask']\n",
    "    \n",
    "    predictions = loaded_model.predict([input_ids, token_type_ids, attention_mask])\n",
    "    \n",
    "    predicted_classes = np.argmax(predictions, axis=1)\n",
    "    mapped_predictions = [sentiment_mapping[class_index] for class_index in predicted_classes]\n",
    "    \n",
    "    return mapped_predictions"
   ]
  },
  {
   "cell_type": "code",
   "execution_count": null,
   "metadata": {},
   "outputs": [],
   "source": [
    "new_texts = [\"I hate this.\", \"This is great!\", \"It's just fine.\"]\n",
    "predictions = predict_sentiments(new_texts)\n",
    "print(\"Predicted sentiments:\", predictions)"
   ]
  },
  {
   "cell_type": "markdown",
   "metadata": {},
   "source": [
    "**<h1>VALIDATION</h1>**"
   ]
  },
  {
   "cell_type": "code",
   "execution_count": 13,
   "metadata": {},
   "outputs": [
    {
     "name": "stdout",
     "output_type": "stream",
     "text": [
      "4395/4395 [==============================] - 839s 189ms/step\n"
     ]
    }
   ],
   "source": [
    "y_pred_prob = loaded_model.predict(test_tf_dataset)\n",
    "y_pred = np.argmax(y_pred_prob, axis=1)"
   ]
  },
  {
   "cell_type": "code",
   "execution_count": 14,
   "metadata": {},
   "outputs": [],
   "source": [
    "y_true = np.concatenate([y for x, y in test_tf_dataset], axis=0)\n",
    "y_true = np.argmax(y_true, axis=1)"
   ]
  },
  {
   "cell_type": "code",
   "execution_count": 15,
   "metadata": {},
   "outputs": [],
   "source": [
    "conf_matrix = confusion_matrix(y_true, y_pred)"
   ]
  },
  {
   "cell_type": "code",
   "execution_count": 16,
   "metadata": {
    "scrolled": true
   },
   "outputs": [
    {
     "data": {
      "image/png": "[encoded data removed]",
      "text/plain": [
       "<Figure size 1000x700 with 2 Axes>"
      ]
     },
     "metadata": {},
     "output_type": "display_data"
    }
   ],
   "source": [
    "plt.figure(figsize=(10, 7))\n",
    "sns.heatmap(conf_matrix, annot=True, fmt='d', cmap='Blues', xticklabels=['Positive', 'Negative', 'Neutral'], yticklabels=['Positive', 'Negative', 'Neutral'])\n",
    "plt.xlabel('Predicted', fontsize=14, fontweight='bold')\n",
    "plt.ylabel('Actual', fontsize=14, fontweight='bold')\n",
    "plt.show()"
   ]
  },
  {
   "cell_type": "code",
   "execution_count": 17,
   "metadata": {},
   "outputs": [
    {
     "name": "stdout",
     "output_type": "stream",
     "text": [
      "              precision    recall  f1-score   support\n",
      "\n",
      "    Positive       0.88      0.94      0.91     93727\n",
      "    Negative       0.91      0.89      0.90     93579\n",
      "     Neutral       0.83      0.79      0.81     93974\n",
      "\n",
      "    accuracy                           0.87    281280\n",
      "   macro avg       0.87      0.87      0.87    281280\n",
      "weighted avg       0.87      0.87      0.87    281280\n",
      "\n"
     ]
    }
   ],
   "source": [
    "print(classification_report(y_true, y_pred, target_names=['Positive', 'Negative', 'Neutral']))"
   ]
  },
  {
   "cell_type": "markdown",
   "metadata": {},
   "source": [
    "**<h1>BAYESIAN WEIGHTING MOVIE RECOMMENDATION**</h1>"
   ]
  },
  {
   "cell_type": "code",
   "execution_count": 7,
   "metadata": {},
   "outputs": [
    {
     "data": {
      "text/html": [
       "<div>\n",
       "<style scoped>\n",
       "    .dataframe tbody tr th:only-of-type {\n",
       "        vertical-align: middle;\n",
       "    }\n",
       "\n",
       "    .dataframe tbody tr th {\n",
       "        vertical-align: top;\n",
       "    }\n",
       "\n",
       "    .dataframe thead th {\n",
       "        text-align: right;\n",
       "    }\n",
       "</style>\n",
       "<table border=\"1\" class=\"dataframe\">\n",
       "  <thead>\n",
       "    <tr style=\"text-align: right;\">\n",
       "      <th></th>\n",
       "      <th>Movie Title</th>\n",
       "      <th>Username</th>\n",
       "      <th>Full Review</th>\n",
       "    </tr>\n",
       "  </thead>\n",
       "  <tbody>\n",
       "    <tr>\n",
       "      <th>0</th>\n",
       "      <td>What’s Up with Cinta?</td>\n",
       "      <td>yves</td>\n",
       "      <td>men should apologize for not being nicholas sa...</td>\n",
       "    </tr>\n",
       "    <tr>\n",
       "      <th>1</th>\n",
       "      <td>What’s Up with Cinta?</td>\n",
       "      <td>cordmer</td>\n",
       "      <td>poetic guy can do anything</td>\n",
       "    </tr>\n",
       "    <tr>\n",
       "      <th>2</th>\n",
       "      <td>What’s Up with Cinta?</td>\n",
       "      <td>Aditya Nathan</td>\n",
       "      <td>“What's Up with Cinta?” is a staple of Indones...</td>\n",
       "    </tr>\n",
       "    <tr>\n",
       "      <th>3</th>\n",
       "      <td>What’s Up with Cinta?</td>\n",
       "      <td>kiara :]</td>\n",
       "      <td>before the burn book there was diary book</td>\n",
       "    </tr>\n",
       "    <tr>\n",
       "      <th>4</th>\n",
       "      <td>What’s Up with Cinta?</td>\n",
       "      <td>BILLY</td>\n",
       "      <td>why do you (as a man) not act like Rangga</td>\n",
       "    </tr>\n",
       "    <tr>\n",
       "      <th>...</th>\n",
       "      <td>...</td>\n",
       "      <td>...</td>\n",
       "      <td>...</td>\n",
       "    </tr>\n",
       "    <tr>\n",
       "      <th>1734</th>\n",
       "      <td>In the Absence of the Sun</td>\n",
       "      <td>Artyesha</td>\n",
       "      <td>I love it how this movie describes Jakarta cit...</td>\n",
       "    </tr>\n",
       "    <tr>\n",
       "      <th>1735</th>\n",
       "      <td>In the Absence of the Sun</td>\n",
       "      <td>_losingdog</td>\n",
       "      <td>hits too close to home</td>\n",
       "    </tr>\n",
       "    <tr>\n",
       "      <th>1736</th>\n",
       "      <td>In the Absence of the Sun</td>\n",
       "      <td>imam</td>\n",
       "      <td>I'm not even from Jakarta but Lucky Kuswandi m...</td>\n",
       "    </tr>\n",
       "    <tr>\n",
       "      <th>1737</th>\n",
       "      <td>In the Absence of the Sun</td>\n",
       "      <td>hfzfia</td>\n",
       "      <td>this film is both a love letter to jakarta and...</td>\n",
       "    </tr>\n",
       "    <tr>\n",
       "      <th>1738</th>\n",
       "      <td>In the Absence of the Sun</td>\n",
       "      <td>Yesiska Putri</td>\n",
       "      <td>Over the years, this has become my must watch ...</td>\n",
       "    </tr>\n",
       "  </tbody>\n",
       "</table>\n",
       "<p>1739 rows × 3 columns</p>\n",
       "</div>"
      ],
      "text/plain": [
       "                    Movie Title       Username  \\\n",
       "0         What’s Up with Cinta?           yves   \n",
       "1         What’s Up with Cinta?        cordmer   \n",
       "2         What’s Up with Cinta?  Aditya Nathan   \n",
       "3         What’s Up with Cinta?       kiara :]   \n",
       "4         What’s Up with Cinta?          BILLY   \n",
       "...                         ...            ...   \n",
       "1734  In the Absence of the Sun       Artyesha   \n",
       "1735  In the Absence of the Sun     _losingdog   \n",
       "1736  In the Absence of the Sun           imam   \n",
       "1737  In the Absence of the Sun         hfzfia   \n",
       "1738  In the Absence of the Sun  Yesiska Putri   \n",
       "\n",
       "                                            Full Review  \n",
       "0     men should apologize for not being nicholas sa...  \n",
       "1                            poetic guy can do anything  \n",
       "2     “What's Up with Cinta?” is a staple of Indones...  \n",
       "3             before the burn book there was diary book  \n",
       "4             why do you (as a man) not act like Rangga  \n",
       "...                                                 ...  \n",
       "1734  I love it how this movie describes Jakarta cit...  \n",
       "1735                             hits too close to home  \n",
       "1736  I'm not even from Jakarta but Lucky Kuswandi m...  \n",
       "1737  this film is both a love letter to jakarta and...  \n",
       "1738  Over the years, this has become my must watch ...  \n",
       "\n",
       "[1739 rows x 3 columns]"
      ]
     },
     "execution_count": 7,
     "metadata": {},
     "output_type": "execute_result"
    }
   ],
   "source": [
    "new_data = pd.read_csv('./letterboxd_movie_reviews_scraped2.csv')\n",
    "new_data"
   ]
  },
  {
   "cell_type": "code",
   "execution_count": 8,
   "metadata": {},
   "outputs": [],
   "source": [
    "def clean_string(text):\n",
    "    if not isinstance(text, str):\n",
    "        return text\n",
    "    text = re.sub(r'\\([^)]*\\)', '', text)\n",
    "    text = re.sub(r'[^\\w\\s.]', '', text)\n",
    "    sentences = text.split('.')\n",
    "    sentences = [sentence.strip() for sentence in sentences if sentence.strip()]\n",
    "    return ' '.join(sentences)"
   ]
  },
  {
   "cell_type": "code",
   "execution_count": 9,
   "metadata": {},
   "outputs": [],
   "source": [
    "new_data['Cleaned Review'] = new_data['Full Review'].apply(clean_string)"
   ]
  },
  {
   "cell_type": "code",
   "execution_count": 10,
   "metadata": {},
   "outputs": [],
   "source": [
    "reviews_list = new_data['Cleaned Review'].tolist()\n",
    "for index, value in enumerate(reviews_list):\n",
    "    if isinstance(value, float):\n",
    "        reviews_list[index] = str(value)"
   ]
  },
  {
   "cell_type": "code",
   "execution_count": 11,
   "metadata": {},
   "outputs": [
    {
     "name": "stdout",
     "output_type": "stream",
     "text": [
      "55/55 [==============================] - 12s 114ms/step\n"
     ]
    }
   ],
   "source": [
    "predictions = predict_sentiments(reviews_list)"
   ]
  },
  {
   "cell_type": "code",
   "execution_count": 12,
   "metadata": {},
   "outputs": [
    {
     "data": {
      "text/html": [
       "<div>\n",
       "<style scoped>\n",
       "    .dataframe tbody tr th:only-of-type {\n",
       "        vertical-align: middle;\n",
       "    }\n",
       "\n",
       "    .dataframe tbody tr th {\n",
       "        vertical-align: top;\n",
       "    }\n",
       "\n",
       "    .dataframe thead th {\n",
       "        text-align: right;\n",
       "    }\n",
       "</style>\n",
       "<table border=\"1\" class=\"dataframe\">\n",
       "  <thead>\n",
       "    <tr style=\"text-align: right;\">\n",
       "      <th></th>\n",
       "      <th>Movie Title</th>\n",
       "      <th>Username</th>\n",
       "      <th>Full Review</th>\n",
       "      <th>Cleaned Review</th>\n",
       "      <th>Predicted Sentiment</th>\n",
       "    </tr>\n",
       "  </thead>\n",
       "  <tbody>\n",
       "    <tr>\n",
       "      <th>0</th>\n",
       "      <td>What’s Up with Cinta?</td>\n",
       "      <td>yves</td>\n",
       "      <td>men should apologize for not being nicholas sa...</td>\n",
       "      <td>men should apologize for not being nicholas sa...</td>\n",
       "      <td>Neutral</td>\n",
       "    </tr>\n",
       "    <tr>\n",
       "      <th>1</th>\n",
       "      <td>What’s Up with Cinta?</td>\n",
       "      <td>cordmer</td>\n",
       "      <td>poetic guy can do anything</td>\n",
       "      <td>poetic guy can do anything</td>\n",
       "      <td>Positive</td>\n",
       "    </tr>\n",
       "    <tr>\n",
       "      <th>2</th>\n",
       "      <td>What’s Up with Cinta?</td>\n",
       "      <td>Aditya Nathan</td>\n",
       "      <td>“What's Up with Cinta?” is a staple of Indones...</td>\n",
       "      <td>Whats Up with Cinta is a staple of Indonesian ...</td>\n",
       "      <td>Positive</td>\n",
       "    </tr>\n",
       "    <tr>\n",
       "      <th>3</th>\n",
       "      <td>What’s Up with Cinta?</td>\n",
       "      <td>kiara :]</td>\n",
       "      <td>before the burn book there was diary book</td>\n",
       "      <td>before the burn book there was diary book</td>\n",
       "      <td>Neutral</td>\n",
       "    </tr>\n",
       "    <tr>\n",
       "      <th>4</th>\n",
       "      <td>What’s Up with Cinta?</td>\n",
       "      <td>BILLY</td>\n",
       "      <td>why do you (as a man) not act like Rangga</td>\n",
       "      <td>why do you  not act like Rangga</td>\n",
       "      <td>Negative</td>\n",
       "    </tr>\n",
       "    <tr>\n",
       "      <th>...</th>\n",
       "      <td>...</td>\n",
       "      <td>...</td>\n",
       "      <td>...</td>\n",
       "      <td>...</td>\n",
       "      <td>...</td>\n",
       "    </tr>\n",
       "    <tr>\n",
       "      <th>1734</th>\n",
       "      <td>In the Absence of the Sun</td>\n",
       "      <td>Artyesha</td>\n",
       "      <td>I love it how this movie describes Jakarta cit...</td>\n",
       "      <td>I love it how this movie describes Jakarta cit...</td>\n",
       "      <td>Positive</td>\n",
       "    </tr>\n",
       "    <tr>\n",
       "      <th>1735</th>\n",
       "      <td>In the Absence of the Sun</td>\n",
       "      <td>_losingdog</td>\n",
       "      <td>hits too close to home</td>\n",
       "      <td>hits too close to home</td>\n",
       "      <td>Negative</td>\n",
       "    </tr>\n",
       "    <tr>\n",
       "      <th>1736</th>\n",
       "      <td>In the Absence of the Sun</td>\n",
       "      <td>imam</td>\n",
       "      <td>I'm not even from Jakarta but Lucky Kuswandi m...</td>\n",
       "      <td>Im not even from Jakarta but Lucky Kuswandi ma...</td>\n",
       "      <td>Neutral</td>\n",
       "    </tr>\n",
       "    <tr>\n",
       "      <th>1737</th>\n",
       "      <td>In the Absence of the Sun</td>\n",
       "      <td>hfzfia</td>\n",
       "      <td>this film is both a love letter to jakarta and...</td>\n",
       "      <td>this film is both a love letter to jakarta and...</td>\n",
       "      <td>Neutral</td>\n",
       "    </tr>\n",
       "    <tr>\n",
       "      <th>1738</th>\n",
       "      <td>In the Absence of the Sun</td>\n",
       "      <td>Yesiska Putri</td>\n",
       "      <td>Over the years, this has become my must watch ...</td>\n",
       "      <td>Over the years this has become my must watch f...</td>\n",
       "      <td>Positive</td>\n",
       "    </tr>\n",
       "  </tbody>\n",
       "</table>\n",
       "<p>1739 rows × 5 columns</p>\n",
       "</div>"
      ],
      "text/plain": [
       "                    Movie Title       Username  \\\n",
       "0         What’s Up with Cinta?           yves   \n",
       "1         What’s Up with Cinta?        cordmer   \n",
       "2         What’s Up with Cinta?  Aditya Nathan   \n",
       "3         What’s Up with Cinta?       kiara :]   \n",
       "4         What’s Up with Cinta?          BILLY   \n",
       "...                         ...            ...   \n",
       "1734  In the Absence of the Sun       Artyesha   \n",
       "1735  In the Absence of the Sun     _losingdog   \n",
       "1736  In the Absence of the Sun           imam   \n",
       "1737  In the Absence of the Sun         hfzfia   \n",
       "1738  In the Absence of the Sun  Yesiska Putri   \n",
       "\n",
       "                                            Full Review  \\\n",
       "0     men should apologize for not being nicholas sa...   \n",
       "1                            poetic guy can do anything   \n",
       "2     “What's Up with Cinta?” is a staple of Indones...   \n",
       "3             before the burn book there was diary book   \n",
       "4             why do you (as a man) not act like Rangga   \n",
       "...                                                 ...   \n",
       "1734  I love it how this movie describes Jakarta cit...   \n",
       "1735                             hits too close to home   \n",
       "1736  I'm not even from Jakarta but Lucky Kuswandi m...   \n",
       "1737  this film is both a love letter to jakarta and...   \n",
       "1738  Over the years, this has become my must watch ...   \n",
       "\n",
       "                                         Cleaned Review Predicted Sentiment  \n",
       "0     men should apologize for not being nicholas sa...             Neutral  \n",
       "1                            poetic guy can do anything            Positive  \n",
       "2     Whats Up with Cinta is a staple of Indonesian ...            Positive  \n",
       "3             before the burn book there was diary book             Neutral  \n",
       "4                       why do you  not act like Rangga            Negative  \n",
       "...                                                 ...                 ...  \n",
       "1734  I love it how this movie describes Jakarta cit...            Positive  \n",
       "1735                             hits too close to home            Negative  \n",
       "1736  Im not even from Jakarta but Lucky Kuswandi ma...             Neutral  \n",
       "1737  this film is both a love letter to jakarta and...             Neutral  \n",
       "1738  Over the years this has become my must watch f...            Positive  \n",
       "\n",
       "[1739 rows x 5 columns]"
      ]
     },
     "execution_count": 12,
     "metadata": {},
     "output_type": "execute_result"
    }
   ],
   "source": [
    "new_data['Predicted Sentiment'] = predictions\n",
    "new_data"
   ]
  },
  {
   "cell_type": "code",
   "execution_count": 13,
   "metadata": {},
   "outputs": [
    {
     "data": {
      "text/plain": [
       "Predicted Sentiment\n",
       "Positive    981\n",
       "Negative    456\n",
       "Neutral     302\n",
       "Name: count, dtype: int64"
      ]
     },
     "execution_count": 13,
     "metadata": {},
     "output_type": "execute_result"
    }
   ],
   "source": [
    "sentiment_counts = new_data['Predicted Sentiment'].value_counts()\n",
    "sentiment_counts"
   ]
  },
  {
   "cell_type": "code",
   "execution_count": 14,
   "metadata": {},
   "outputs": [],
   "source": [
    "sentiment_counts = new_data.groupby(['Movie Title', 'Predicted Sentiment']).size().unstack(fill_value=0)"
   ]
  },
  {
   "cell_type": "code",
   "execution_count": 15,
   "metadata": {},
   "outputs": [
    {
     "data": {
      "text/html": [
       "<div>\n",
       "<style scoped>\n",
       "    .dataframe tbody tr th:only-of-type {\n",
       "        vertical-align: middle;\n",
       "    }\n",
       "\n",
       "    .dataframe tbody tr th {\n",
       "        vertical-align: top;\n",
       "    }\n",
       "\n",
       "    .dataframe thead th {\n",
       "        text-align: right;\n",
       "    }\n",
       "</style>\n",
       "<table border=\"1\" class=\"dataframe\">\n",
       "  <thead>\n",
       "    <tr style=\"text-align: right;\">\n",
       "      <th>Predicted Sentiment</th>\n",
       "      <th>Negative</th>\n",
       "      <th>Neutral</th>\n",
       "      <th>Positive</th>\n",
       "      <th>Total</th>\n",
       "    </tr>\n",
       "    <tr>\n",
       "      <th>Movie Title</th>\n",
       "      <th></th>\n",
       "      <th></th>\n",
       "      <th></th>\n",
       "      <th></th>\n",
       "    </tr>\n",
       "  </thead>\n",
       "  <tbody>\n",
       "    <tr>\n",
       "      <th>13 Bombs</th>\n",
       "      <td>39</td>\n",
       "      <td>16</td>\n",
       "      <td>26</td>\n",
       "      <td>81</td>\n",
       "    </tr>\n",
       "    <tr>\n",
       "      <th>27 Steps of May</th>\n",
       "      <td>22</td>\n",
       "      <td>17</td>\n",
       "      <td>47</td>\n",
       "      <td>86</td>\n",
       "    </tr>\n",
       "    <tr>\n",
       "      <th>Autobiography</th>\n",
       "      <td>27</td>\n",
       "      <td>16</td>\n",
       "      <td>38</td>\n",
       "      <td>81</td>\n",
       "    </tr>\n",
       "    <tr>\n",
       "      <th>Blessed You</th>\n",
       "      <td>25</td>\n",
       "      <td>12</td>\n",
       "      <td>46</td>\n",
       "      <td>83</td>\n",
       "    </tr>\n",
       "    <tr>\n",
       "      <th>Fiction.</th>\n",
       "      <td>19</td>\n",
       "      <td>13</td>\n",
       "      <td>54</td>\n",
       "      <td>86</td>\n",
       "    </tr>\n",
       "    <tr>\n",
       "      <th>Gundala</th>\n",
       "      <td>30</td>\n",
       "      <td>11</td>\n",
       "      <td>38</td>\n",
       "      <td>79</td>\n",
       "    </tr>\n",
       "    <tr>\n",
       "      <th>Hell Torture</th>\n",
       "      <td>65</td>\n",
       "      <td>7</td>\n",
       "      <td>9</td>\n",
       "      <td>81</td>\n",
       "    </tr>\n",
       "    <tr>\n",
       "      <th>In the Absence of the Sun</th>\n",
       "      <td>13</td>\n",
       "      <td>18</td>\n",
       "      <td>55</td>\n",
       "      <td>86</td>\n",
       "    </tr>\n",
       "    <tr>\n",
       "      <th>Kadet 1947</th>\n",
       "      <td>19</td>\n",
       "      <td>10</td>\n",
       "      <td>52</td>\n",
       "      <td>81</td>\n",
       "    </tr>\n",
       "    <tr>\n",
       "      <th>Lovely Man</th>\n",
       "      <td>16</td>\n",
       "      <td>20</td>\n",
       "      <td>49</td>\n",
       "      <td>85</td>\n",
       "    </tr>\n",
       "    <tr>\n",
       "      <th>Marlina the Murderer in Four Acts</th>\n",
       "      <td>17</td>\n",
       "      <td>9</td>\n",
       "      <td>57</td>\n",
       "      <td>83</td>\n",
       "    </tr>\n",
       "    <tr>\n",
       "      <th>Missing Home</th>\n",
       "      <td>18</td>\n",
       "      <td>13</td>\n",
       "      <td>55</td>\n",
       "      <td>86</td>\n",
       "    </tr>\n",
       "    <tr>\n",
       "      <th>Preman Pensiun</th>\n",
       "      <td>12</td>\n",
       "      <td>16</td>\n",
       "      <td>34</td>\n",
       "      <td>62</td>\n",
       "    </tr>\n",
       "    <tr>\n",
       "      <th>Puspa Indah Taman Hati</th>\n",
       "      <td>10</td>\n",
       "      <td>13</td>\n",
       "      <td>62</td>\n",
       "      <td>85</td>\n",
       "    </tr>\n",
       "    <tr>\n",
       "      <th>Sherina’s Adventure</th>\n",
       "      <td>13</td>\n",
       "      <td>18</td>\n",
       "      <td>55</td>\n",
       "      <td>86</td>\n",
       "    </tr>\n",
       "    <tr>\n",
       "      <th>Sherina’s Adventure 2</th>\n",
       "      <td>21</td>\n",
       "      <td>7</td>\n",
       "      <td>58</td>\n",
       "      <td>86</td>\n",
       "    </tr>\n",
       "    <tr>\n",
       "      <th>The Crescent Moon</th>\n",
       "      <td>13</td>\n",
       "      <td>23</td>\n",
       "      <td>54</td>\n",
       "      <td>90</td>\n",
       "    </tr>\n",
       "    <tr>\n",
       "      <th>The Red Point of Marriage</th>\n",
       "      <td>13</td>\n",
       "      <td>10</td>\n",
       "      <td>63</td>\n",
       "      <td>86</td>\n",
       "    </tr>\n",
       "    <tr>\n",
       "      <th>Tjoet Nja’ Dhien</th>\n",
       "      <td>16</td>\n",
       "      <td>17</td>\n",
       "      <td>53</td>\n",
       "      <td>86</td>\n",
       "    </tr>\n",
       "    <tr>\n",
       "      <th>What’s Up with Cinta 2</th>\n",
       "      <td>31</td>\n",
       "      <td>11</td>\n",
       "      <td>39</td>\n",
       "      <td>81</td>\n",
       "    </tr>\n",
       "    <tr>\n",
       "      <th>What’s Up with Cinta?</th>\n",
       "      <td>17</td>\n",
       "      <td>25</td>\n",
       "      <td>37</td>\n",
       "      <td>79</td>\n",
       "    </tr>\n",
       "  </tbody>\n",
       "</table>\n",
       "</div>"
      ],
      "text/plain": [
       "Predicted Sentiment                Negative  Neutral  Positive  Total\n",
       "Movie Title                                                          \n",
       "13 Bombs                                 39       16        26     81\n",
       "27 Steps of May                          22       17        47     86\n",
       "Autobiography                            27       16        38     81\n",
       "Blessed You                              25       12        46     83\n",
       "Fiction.                                 19       13        54     86\n",
       "Gundala                                  30       11        38     79\n",
       "Hell Torture                             65        7         9     81\n",
       "In the Absence of the Sun                13       18        55     86\n",
       "Kadet 1947                               19       10        52     81\n",
       "Lovely Man                               16       20        49     85\n",
       "Marlina the Murderer in Four Acts        17        9        57     83\n",
       "Missing Home                             18       13        55     86\n",
       "Preman Pensiun                           12       16        34     62\n",
       "Puspa Indah Taman Hati                   10       13        62     85\n",
       "Sherina’s Adventure                      13       18        55     86\n",
       "Sherina’s Adventure 2                    21        7        58     86\n",
       "The Crescent Moon                        13       23        54     90\n",
       "The Red Point of Marriage                13       10        63     86\n",
       "Tjoet Nja’ Dhien                         16       17        53     86\n",
       "What’s Up with Cinta 2                   31       11        39     81\n",
       "What’s Up with Cinta?                    17       25        37     79"
      ]
     },
     "execution_count": 15,
     "metadata": {},
     "output_type": "execute_result"
    }
   ],
   "source": [
    "sentiment_counts['Total'] = (\n",
    "    sentiment_counts['Positive'] + sentiment_counts['Negative'] + sentiment_counts['Neutral']\n",
    ")\n",
    "sentiment_counts"
   ]
  },
  {
   "cell_type": "code",
   "execution_count": 16,
   "metadata": {},
   "outputs": [],
   "source": [
    "global_positive_mean = sentiment_counts['Positive'].sum() / sentiment_counts['Total'].sum()\n",
    "global_negative_mean = sentiment_counts['Negative'].sum() / sentiment_counts['Total'].sum()\n",
    "global_neutral_mean = sentiment_counts['Neutral'].sum() / sentiment_counts['Total'].sum()"
   ]
  },
  {
   "cell_type": "code",
   "execution_count": 17,
   "metadata": {},
   "outputs": [],
   "source": [
    "total_counts = sentiment_counts['Total'].sum()\n",
    "positive_ratio = sentiment_counts['Positive'].sum() / total_counts\n",
    "neutral_ratio = sentiment_counts['Neutral'].sum() / total_counts\n",
    "negative_ratio = sentiment_counts['Negative'].sum() / total_counts"
   ]
  },
  {
   "cell_type": "code",
   "execution_count": 18,
   "metadata": {},
   "outputs": [],
   "source": [
    "weight = sentiment_counts['Total'].mean() / 2"
   ]
  },
  {
   "cell_type": "code",
   "execution_count": 19,
   "metadata": {},
   "outputs": [],
   "source": [
    "def bayesian_score(row, global_positive_mean, global_neutral_mean, global_negative_mean, weights, weight=weight):\n",
    "    return (\n",
    "        ((row['Positive'] + global_positive_mean * weights['positive']) /\n",
    "         (row['Total'] + weight)) +\n",
    "        ((row['Neutral'] + global_neutral_mean * weights['neutral']) /\n",
    "         (row['Total'] + weight)) +\n",
    "        ((row['Negative'] + global_negative_mean * weights['negative']) /\n",
    "         (row['Total'] + weight))\n",
    "    )"
   ]
  },
  {
   "cell_type": "code",
   "execution_count": 20,
   "metadata": {},
   "outputs": [],
   "source": [
    "def optimize_weights(sentiment_counts, global_positive_mean, global_neutral_mean, global_negative_mean):\n",
    "    def objective_function(params):\n",
    "        weights = {'positive': params[0], 'neutral': params[1], 'negative': params[2]}\n",
    "        scores = sentiment_counts.apply(\n",
    "            bayesian_score,\n",
    "            axis=1,\n",
    "            global_positive_mean=global_positive_mean,\n",
    "            global_neutral_mean=global_neutral_mean,\n",
    "            global_negative_mean=global_negative_mean,\n",
    "            weights=weights,\n",
    "            weight=weight\n",
    "        )\n",
    "        return -np.corrcoef(scores, sentiment_counts['Total'])[0, 1]\n",
    "\n",
    "    result = minimize(objective_function, initial_weights, bounds=bounds)\n",
    "    return {'positive': result.x[0], 'neutral': result.x[1], 'negative': result.x[2]}"
   ]
  },
  {
   "cell_type": "code",
   "execution_count": 21,
   "metadata": {},
   "outputs": [],
   "source": [
    "initial_weights = [\n",
    "    positive_ratio,\n",
    "    neutral_ratio,\n",
    "    -negative_ratio\n",
    "]"
   ]
  },
  {
   "cell_type": "code",
   "execution_count": 22,
   "metadata": {},
   "outputs": [],
   "source": [
    "bounds = [\n",
    "    (0, 1),\n",
    "    (0, 1),\n",
    "    (-1, 0)\n",
    "]"
   ]
  },
  {
   "cell_type": "code",
   "execution_count": 23,
   "metadata": {},
   "outputs": [
    {
     "name": "stdout",
     "output_type": "stream",
     "text": [
      "Optimal Weights: {'positive': 0.5641173087981599, 'neutral': 0.17366302472685452, 'negative': -0.2622196664749856}\n"
     ]
    }
   ],
   "source": [
    "optimal_weights = optimize_weights(sentiment_counts, global_positive_mean, global_neutral_mean, global_negative_mean)\n",
    "print(\"Optimal Weights:\", optimal_weights)"
   ]
  },
  {
   "cell_type": "code",
   "execution_count": 24,
   "metadata": {},
   "outputs": [],
   "source": [
    "sentiment_counts['Score'] = sentiment_counts.apply(\n",
    "    bayesian_score,\n",
    "    axis=1,\n",
    "    global_positive_mean=global_positive_mean,\n",
    "    global_neutral_mean=global_neutral_mean,\n",
    "    global_negative_mean=global_negative_mean,\n",
    "    weights=optimal_weights,\n",
    "    weight=weight\n",
    ")"
   ]
  },
  {
   "cell_type": "code",
   "execution_count": 25,
   "metadata": {},
   "outputs": [],
   "source": [
    "sorted_movies = sentiment_counts.sort_values(by='Score', ascending=False)"
   ]
  },
  {
   "cell_type": "code",
   "execution_count": 26,
   "metadata": {},
   "outputs": [
    {
     "name": "stdout",
     "output_type": "stream",
     "text": [
      "\n",
      "CNN+Fine-Tuned BERT Movie Recommendation (Sorted by Sentiment Score):\n",
      "1. The Crescent Moon: Bayesian Score=0.6870346760811347, Positive=54.0, Neutral=23.0, Negative=13.0\n",
      "2. 27 Steps of May: Bayesian Score=0.6772088165374289, Positive=47.0, Neutral=17.0, Negative=22.0\n",
      "3. Sherina’s Adventure 2: Bayesian Score=0.6772088165374289, Positive=58.0, Neutral=7.0, Negative=21.0\n",
      "4. Sherina’s Adventure: Bayesian Score=0.6772088165374288, Positive=55.0, Neutral=18.0, Negative=13.0\n",
      "5. Fiction.: Bayesian Score=0.6772088165374288, Positive=54.0, Neutral=13.0, Negative=19.0\n",
      "6. Tjoet Nja’ Dhien: Bayesian Score=0.6772088165374288, Positive=53.0, Neutral=17.0, Negative=16.0\n",
      "7. The Red Point of Marriage: Bayesian Score=0.6772088165374288, Positive=63.0, Neutral=10.0, Negative=13.0\n",
      "8. In the Absence of the Sun: Bayesian Score=0.6772088165374288, Positive=55.0, Neutral=18.0, Negative=13.0\n",
      "9. Missing Home: Bayesian Score=0.6772088165374288, Positive=55.0, Neutral=13.0, Negative=18.0\n",
      "10. Lovely Man: Bayesian Score=0.6746551850238806, Positive=49.0, Neutral=20.0, Negative=16.0\n",
      "11. Puspa Indah Taman Hati: Bayesian Score=0.6746551850238806, Positive=62.0, Neutral=13.0, Negative=10.0\n",
      "12. Marlina the Murderer in Four Acts: Bayesian Score=0.6694247612041688, Positive=57.0, Neutral=9.0, Negative=17.0\n",
      "13. Blessed You: Bayesian Score=0.6694247612041688, Positive=46.0, Neutral=12.0, Negative=25.0\n",
      "14. What’s Up with Cinta 2: Bayesian Score=0.6640234151510955, Positive=39.0, Neutral=11.0, Negative=31.0\n",
      "15. 13 Bombs: Bayesian Score=0.6640234151510955, Positive=26.0, Neutral=16.0, Negative=39.0\n",
      "16. Kadet 1947: Bayesian Score=0.6640234151510955, Positive=52.0, Neutral=10.0, Negative=19.0\n",
      "17. Hell Torture: Bayesian Score=0.6640234151510955, Positive=9.0, Neutral=7.0, Negative=65.0\n",
      "18. Autobiography: Bayesian Score=0.6640234151510955, Positive=38.0, Neutral=16.0, Negative=27.0\n",
      "19. Gundala: Bayesian Score=0.6584426294822587, Positive=38.0, Neutral=11.0, Negative=30.0\n",
      "20. What’s Up with Cinta?: Bayesian Score=0.6584426294822586, Positive=37.0, Neutral=25.0, Negative=17.0\n",
      "21. Preman Pensiun: Bayesian Score=0.6022897483978314, Positive=34.0, Neutral=16.0, Negative=12.0\n"
     ]
    }
   ],
   "source": [
    "print('\\nCNN+Fine-Tuned BERT Movie Recommendation (Sorted by Sentiment Score):')\n",
    "for index, (movie, row) in enumerate(sorted_movies.iterrows(), start=1):\n",
    "    print(f\"{index}. {movie}: Bayesian Score={row['Score']}, Positive={row['Positive']}, Neutral={row['Neutral']}, Negative={row['Negative']}\")"
   ]
  },
  {
   "cell_type": "code",
   "execution_count": 27,
   "metadata": {},
   "outputs": [],
   "source": [
    "movie_titles = [\n",
    "    'Hell Torture', 'Lovely Man', 'Fiction.', 'Preman Pensiun', 'In the Absence of the Sun',\n",
    "    \"What’s Up with Cinta?\", \"What’s Up with Cinta 2\", 'Blessed You', 'Missing Home',\n",
    "    'Gundala', 'Autobiography', 'Tjoet Nja’ Dhien', 'The Crescent Moon', '13 Bombs',\n",
    "    '27 Steps of May', 'Marlina the Murderer in Four Acts', \"Sherina’s Adventure\",\n",
    "    \"Sherina’s Adventure 2\", 'The Red Point of Marriage', 'Puspa Indah Taman Hati', 'Kadet 1947'\n",
    "]\n",
    "\n",
    "movie_imdb_rating = [\n",
    "    4.4, 7.6, 7.7, 6.5, 7.4,\n",
    "    7.7, 7.3, 5.8, 8.0,\n",
    "    6.1, 7.2, 7.8, 7.5, 6.6,\n",
    "    7.9, 6.9, 7.8,\n",
    "    7.2, 7.8, 7.7, 6.3\n",
    "]"
   ]
  },
  {
   "cell_type": "code",
   "execution_count": 28,
   "metadata": {},
   "outputs": [],
   "source": [
    "ndcg_count = sentiment_counts.reindex(movie_titles)\n",
    "ndcg_count['IMDb Rating'] = movie_imdb_rating"
   ]
  },
  {
   "cell_type": "code",
   "execution_count": 29,
   "metadata": {},
   "outputs": [
    {
     "name": "stdout",
     "output_type": "stream",
     "text": [
      "NDCG Score: 0.9680345528533587\n"
     ]
    }
   ],
   "source": [
    "min_rating, max_rating = ndcg_count['IMDb Rating'].min(), ndcg_count['IMDb Rating'].max()\n",
    "normalized_imdb_ratings = (ndcg_count['IMDb Rating'] - min_rating) / (max_rating - min_rating)\n",
    "ndcg = ndcg_score([normalized_imdb_ratings.values], [ndcg_count['Score'].values])\n",
    "print('NDCG Score:', ndcg)"
   ]
  },
  {
   "cell_type": "code",
   "execution_count": 30,
   "metadata": {},
   "outputs": [
    {
     "data": {
      "image/png": "[encoded data removed]",
      "text/plain": [
       "<Figure size 800x350 with 1 Axes>"
      ]
     },
     "metadata": {},
     "output_type": "display_data"
    }
   ],
   "source": [
    "def bayesian_score_shap(values):\n",
    "    scores = []\n",
    "    for row in values:\n",
    "        row_dict = {f: v for f, v in zip(feature_names, row)}\n",
    "        score = (\n",
    "            ((row_dict['Positive'] + global_positive_mean * optimal_weights['positive']) /\n",
    "             (row_dict['Total'] + weight)) +\n",
    "            ((row_dict['Neutral'] + global_neutral_mean * optimal_weights['neutral']) /\n",
    "             (row_dict['Total'] + weight)) +\n",
    "            ((row_dict['Negative'] + global_negative_mean * optimal_weights['negative']) /\n",
    "             (row_dict['Total'] + weight))\n",
    "        )\n",
    "        scores.append(score)\n",
    "    return np.array(scores)\n",
    "    \n",
    "feature_names = ['Positive', 'Neutral', 'Negative', 'Total']\n",
    "\n",
    "shap_data = sentiment_counts[['Positive', 'Neutral', 'Negative', 'Total']].values\n",
    "\n",
    "shap_explainer = shap.Explainer(bayesian_score_shap, shap_data)\n",
    "\n",
    "shap_values = shap_explainer(shap_data)\n",
    "\n",
    "shap_explanation = shap.Explanation(\n",
    "    values=shap_values.values,\n",
    "    base_values=shap_values.base_values,\n",
    "    data=shap_data,\n",
    "    feature_names=feature_names\n",
    ")\n",
    "\n",
    "shap.plots.bar(shap_explanation)"
   ]
  },
  {
   "cell_type": "markdown",
   "metadata": {},
   "source": [
    "**<h1>LOGARITHMIC NORMALIZATION MOVIE RECOMMENDATION**</h1>"
   ]
  },
  {
   "cell_type": "code",
   "execution_count": 7,
   "metadata": {},
   "outputs": [
    {
     "data": {
      "text/html": [
       "<div>\n",
       "<style scoped>\n",
       "    .dataframe tbody tr th:only-of-type {\n",
       "        vertical-align: middle;\n",
       "    }\n",
       "\n",
       "    .dataframe tbody tr th {\n",
       "        vertical-align: top;\n",
       "    }\n",
       "\n",
       "    .dataframe thead th {\n",
       "        text-align: right;\n",
       "    }\n",
       "</style>\n",
       "<table border=\"1\" class=\"dataframe\">\n",
       "  <thead>\n",
       "    <tr style=\"text-align: right;\">\n",
       "      <th></th>\n",
       "      <th>Movie Title</th>\n",
       "      <th>Username</th>\n",
       "      <th>Full Review</th>\n",
       "    </tr>\n",
       "  </thead>\n",
       "  <tbody>\n",
       "    <tr>\n",
       "      <th>0</th>\n",
       "      <td>What’s Up with Cinta?</td>\n",
       "      <td>yves</td>\n",
       "      <td>men should apologize for not being nicholas sa...</td>\n",
       "    </tr>\n",
       "    <tr>\n",
       "      <th>1</th>\n",
       "      <td>What’s Up with Cinta?</td>\n",
       "      <td>cordmer</td>\n",
       "      <td>poetic guy can do anything</td>\n",
       "    </tr>\n",
       "    <tr>\n",
       "      <th>2</th>\n",
       "      <td>What’s Up with Cinta?</td>\n",
       "      <td>Aditya Nathan</td>\n",
       "      <td>“What's Up with Cinta?” is a staple of Indones...</td>\n",
       "    </tr>\n",
       "    <tr>\n",
       "      <th>3</th>\n",
       "      <td>What’s Up with Cinta?</td>\n",
       "      <td>kiara :]</td>\n",
       "      <td>before the burn book there was diary book</td>\n",
       "    </tr>\n",
       "    <tr>\n",
       "      <th>4</th>\n",
       "      <td>What’s Up with Cinta?</td>\n",
       "      <td>BILLY</td>\n",
       "      <td>why do you (as a man) not act like Rangga</td>\n",
       "    </tr>\n",
       "    <tr>\n",
       "      <th>...</th>\n",
       "      <td>...</td>\n",
       "      <td>...</td>\n",
       "      <td>...</td>\n",
       "    </tr>\n",
       "    <tr>\n",
       "      <th>1734</th>\n",
       "      <td>In the Absence of the Sun</td>\n",
       "      <td>Artyesha</td>\n",
       "      <td>I love it how this movie describes Jakarta cit...</td>\n",
       "    </tr>\n",
       "    <tr>\n",
       "      <th>1735</th>\n",
       "      <td>In the Absence of the Sun</td>\n",
       "      <td>_losingdog</td>\n",
       "      <td>hits too close to home</td>\n",
       "    </tr>\n",
       "    <tr>\n",
       "      <th>1736</th>\n",
       "      <td>In the Absence of the Sun</td>\n",
       "      <td>imam</td>\n",
       "      <td>I'm not even from Jakarta but Lucky Kuswandi m...</td>\n",
       "    </tr>\n",
       "    <tr>\n",
       "      <th>1737</th>\n",
       "      <td>In the Absence of the Sun</td>\n",
       "      <td>hfzfia</td>\n",
       "      <td>this film is both a love letter to jakarta and...</td>\n",
       "    </tr>\n",
       "    <tr>\n",
       "      <th>1738</th>\n",
       "      <td>In the Absence of the Sun</td>\n",
       "      <td>Yesiska Putri</td>\n",
       "      <td>Over the years, this has become my must watch ...</td>\n",
       "    </tr>\n",
       "  </tbody>\n",
       "</table>\n",
       "<p>1739 rows × 3 columns</p>\n",
       "</div>"
      ],
      "text/plain": [
       "                    Movie Title       Username  \\\n",
       "0         What’s Up with Cinta?           yves   \n",
       "1         What’s Up with Cinta?        cordmer   \n",
       "2         What’s Up with Cinta?  Aditya Nathan   \n",
       "3         What’s Up with Cinta?       kiara :]   \n",
       "4         What’s Up with Cinta?          BILLY   \n",
       "...                         ...            ...   \n",
       "1734  In the Absence of the Sun       Artyesha   \n",
       "1735  In the Absence of the Sun     _losingdog   \n",
       "1736  In the Absence of the Sun           imam   \n",
       "1737  In the Absence of the Sun         hfzfia   \n",
       "1738  In the Absence of the Sun  Yesiska Putri   \n",
       "\n",
       "                                            Full Review  \n",
       "0     men should apologize for not being nicholas sa...  \n",
       "1                            poetic guy can do anything  \n",
       "2     “What's Up with Cinta?” is a staple of Indones...  \n",
       "3             before the burn book there was diary book  \n",
       "4             why do you (as a man) not act like Rangga  \n",
       "...                                                 ...  \n",
       "1734  I love it how this movie describes Jakarta cit...  \n",
       "1735                             hits too close to home  \n",
       "1736  I'm not even from Jakarta but Lucky Kuswandi m...  \n",
       "1737  this film is both a love letter to jakarta and...  \n",
       "1738  Over the years, this has become my must watch ...  \n",
       "\n",
       "[1739 rows x 3 columns]"
      ]
     },
     "execution_count": 7,
     "metadata": {},
     "output_type": "execute_result"
    }
   ],
   "source": [
    "new_data = pd.read_csv('./letterboxd_movie_reviews_scraped2.csv')\n",
    "new_data"
   ]
  },
  {
   "cell_type": "code",
   "execution_count": 8,
   "metadata": {},
   "outputs": [],
   "source": [
    "def clean_string(text):\n",
    "    if not isinstance(text, str):\n",
    "        return text\n",
    "    text = re.sub(r'\\([^)]*\\)', '', text)\n",
    "    text = re.sub(r'[^\\w\\s.]', '', text)\n",
    "    sentences = text.split('.')\n",
    "    sentences = [sentence.strip() for sentence in sentences if sentence.strip()]\n",
    "    return ' '.join(sentences)"
   ]
  },
  {
   "cell_type": "code",
   "execution_count": 9,
   "metadata": {},
   "outputs": [],
   "source": [
    "new_data['Cleaned Review'] = new_data['Full Review'].apply(clean_string)"
   ]
  },
  {
   "cell_type": "code",
   "execution_count": 10,
   "metadata": {},
   "outputs": [],
   "source": [
    "reviews_list = new_data['Cleaned Review'].tolist()\n",
    "for index, value in enumerate(reviews_list):\n",
    "    if isinstance(value, float):\n",
    "        reviews_list[index] = str(value)"
   ]
  },
  {
   "cell_type": "code",
   "execution_count": 11,
   "metadata": {},
   "outputs": [
    {
     "name": "stdout",
     "output_type": "stream",
     "text": [
      "55/55 [==============================] - 10s 109ms/step\n"
     ]
    }
   ],
   "source": [
    "predictions = predict_sentiments(reviews_list)"
   ]
  },
  {
   "cell_type": "code",
   "execution_count": 12,
   "metadata": {},
   "outputs": [
    {
     "data": {
      "text/html": [
       "<div>\n",
       "<style scoped>\n",
       "    .dataframe tbody tr th:only-of-type {\n",
       "        vertical-align: middle;\n",
       "    }\n",
       "\n",
       "    .dataframe tbody tr th {\n",
       "        vertical-align: top;\n",
       "    }\n",
       "\n",
       "    .dataframe thead th {\n",
       "        text-align: right;\n",
       "    }\n",
       "</style>\n",
       "<table border=\"1\" class=\"dataframe\">\n",
       "  <thead>\n",
       "    <tr style=\"text-align: right;\">\n",
       "      <th></th>\n",
       "      <th>Movie Title</th>\n",
       "      <th>Username</th>\n",
       "      <th>Full Review</th>\n",
       "      <th>Cleaned Review</th>\n",
       "      <th>Predicted Sentiment</th>\n",
       "    </tr>\n",
       "  </thead>\n",
       "  <tbody>\n",
       "    <tr>\n",
       "      <th>0</th>\n",
       "      <td>What’s Up with Cinta?</td>\n",
       "      <td>yves</td>\n",
       "      <td>men should apologize for not being nicholas sa...</td>\n",
       "      <td>men should apologize for not being nicholas sa...</td>\n",
       "      <td>Neutral</td>\n",
       "    </tr>\n",
       "    <tr>\n",
       "      <th>1</th>\n",
       "      <td>What’s Up with Cinta?</td>\n",
       "      <td>cordmer</td>\n",
       "      <td>poetic guy can do anything</td>\n",
       "      <td>poetic guy can do anything</td>\n",
       "      <td>Positive</td>\n",
       "    </tr>\n",
       "    <tr>\n",
       "      <th>2</th>\n",
       "      <td>What’s Up with Cinta?</td>\n",
       "      <td>Aditya Nathan</td>\n",
       "      <td>“What's Up with Cinta?” is a staple of Indones...</td>\n",
       "      <td>Whats Up with Cinta is a staple of Indonesian ...</td>\n",
       "      <td>Positive</td>\n",
       "    </tr>\n",
       "    <tr>\n",
       "      <th>3</th>\n",
       "      <td>What’s Up with Cinta?</td>\n",
       "      <td>kiara :]</td>\n",
       "      <td>before the burn book there was diary book</td>\n",
       "      <td>before the burn book there was diary book</td>\n",
       "      <td>Neutral</td>\n",
       "    </tr>\n",
       "    <tr>\n",
       "      <th>4</th>\n",
       "      <td>What’s Up with Cinta?</td>\n",
       "      <td>BILLY</td>\n",
       "      <td>why do you (as a man) not act like Rangga</td>\n",
       "      <td>why do you  not act like Rangga</td>\n",
       "      <td>Negative</td>\n",
       "    </tr>\n",
       "    <tr>\n",
       "      <th>...</th>\n",
       "      <td>...</td>\n",
       "      <td>...</td>\n",
       "      <td>...</td>\n",
       "      <td>...</td>\n",
       "      <td>...</td>\n",
       "    </tr>\n",
       "    <tr>\n",
       "      <th>1734</th>\n",
       "      <td>In the Absence of the Sun</td>\n",
       "      <td>Artyesha</td>\n",
       "      <td>I love it how this movie describes Jakarta cit...</td>\n",
       "      <td>I love it how this movie describes Jakarta cit...</td>\n",
       "      <td>Positive</td>\n",
       "    </tr>\n",
       "    <tr>\n",
       "      <th>1735</th>\n",
       "      <td>In the Absence of the Sun</td>\n",
       "      <td>_losingdog</td>\n",
       "      <td>hits too close to home</td>\n",
       "      <td>hits too close to home</td>\n",
       "      <td>Negative</td>\n",
       "    </tr>\n",
       "    <tr>\n",
       "      <th>1736</th>\n",
       "      <td>In the Absence of the Sun</td>\n",
       "      <td>imam</td>\n",
       "      <td>I'm not even from Jakarta but Lucky Kuswandi m...</td>\n",
       "      <td>Im not even from Jakarta but Lucky Kuswandi ma...</td>\n",
       "      <td>Neutral</td>\n",
       "    </tr>\n",
       "    <tr>\n",
       "      <th>1737</th>\n",
       "      <td>In the Absence of the Sun</td>\n",
       "      <td>hfzfia</td>\n",
       "      <td>this film is both a love letter to jakarta and...</td>\n",
       "      <td>this film is both a love letter to jakarta and...</td>\n",
       "      <td>Neutral</td>\n",
       "    </tr>\n",
       "    <tr>\n",
       "      <th>1738</th>\n",
       "      <td>In the Absence of the Sun</td>\n",
       "      <td>Yesiska Putri</td>\n",
       "      <td>Over the years, this has become my must watch ...</td>\n",
       "      <td>Over the years this has become my must watch f...</td>\n",
       "      <td>Positive</td>\n",
       "    </tr>\n",
       "  </tbody>\n",
       "</table>\n",
       "<p>1739 rows × 5 columns</p>\n",
       "</div>"
      ],
      "text/plain": [
       "                    Movie Title       Username  \\\n",
       "0         What’s Up with Cinta?           yves   \n",
       "1         What’s Up with Cinta?        cordmer   \n",
       "2         What’s Up with Cinta?  Aditya Nathan   \n",
       "3         What’s Up with Cinta?       kiara :]   \n",
       "4         What’s Up with Cinta?          BILLY   \n",
       "...                         ...            ...   \n",
       "1734  In the Absence of the Sun       Artyesha   \n",
       "1735  In the Absence of the Sun     _losingdog   \n",
       "1736  In the Absence of the Sun           imam   \n",
       "1737  In the Absence of the Sun         hfzfia   \n",
       "1738  In the Absence of the Sun  Yesiska Putri   \n",
       "\n",
       "                                            Full Review  \\\n",
       "0     men should apologize for not being nicholas sa...   \n",
       "1                            poetic guy can do anything   \n",
       "2     “What's Up with Cinta?” is a staple of Indones...   \n",
       "3             before the burn book there was diary book   \n",
       "4             why do you (as a man) not act like Rangga   \n",
       "...                                                 ...   \n",
       "1734  I love it how this movie describes Jakarta cit...   \n",
       "1735                             hits too close to home   \n",
       "1736  I'm not even from Jakarta but Lucky Kuswandi m...   \n",
       "1737  this film is both a love letter to jakarta and...   \n",
       "1738  Over the years, this has become my must watch ...   \n",
       "\n",
       "                                         Cleaned Review Predicted Sentiment  \n",
       "0     men should apologize for not being nicholas sa...             Neutral  \n",
       "1                            poetic guy can do anything            Positive  \n",
       "2     Whats Up with Cinta is a staple of Indonesian ...            Positive  \n",
       "3             before the burn book there was diary book             Neutral  \n",
       "4                       why do you  not act like Rangga            Negative  \n",
       "...                                                 ...                 ...  \n",
       "1734  I love it how this movie describes Jakarta cit...            Positive  \n",
       "1735                             hits too close to home            Negative  \n",
       "1736  Im not even from Jakarta but Lucky Kuswandi ma...             Neutral  \n",
       "1737  this film is both a love letter to jakarta and...             Neutral  \n",
       "1738  Over the years this has become my must watch f...            Positive  \n",
       "\n",
       "[1739 rows x 5 columns]"
      ]
     },
     "execution_count": 12,
     "metadata": {},
     "output_type": "execute_result"
    }
   ],
   "source": [
    "new_data['Predicted Sentiment'] = predictions\n",
    "new_data"
   ]
  },
  {
   "cell_type": "code",
   "execution_count": 13,
   "metadata": {},
   "outputs": [
    {
     "data": {
      "text/plain": [
       "Predicted Sentiment\n",
       "Positive    981\n",
       "Negative    456\n",
       "Neutral     302\n",
       "Name: count, dtype: int64"
      ]
     },
     "execution_count": 13,
     "metadata": {},
     "output_type": "execute_result"
    }
   ],
   "source": [
    "sentiment_counts = new_data['Predicted Sentiment'].value_counts()\n",
    "sentiment_counts"
   ]
  },
  {
   "cell_type": "code",
   "execution_count": 14,
   "metadata": {},
   "outputs": [],
   "source": [
    "sentiment_counts = new_data.groupby(['Movie Title', 'Predicted Sentiment']).size().unstack(fill_value=0)"
   ]
  },
  {
   "cell_type": "code",
   "execution_count": 15,
   "metadata": {},
   "outputs": [
    {
     "data": {
      "text/html": [
       "<div>\n",
       "<style scoped>\n",
       "    .dataframe tbody tr th:only-of-type {\n",
       "        vertical-align: middle;\n",
       "    }\n",
       "\n",
       "    .dataframe tbody tr th {\n",
       "        vertical-align: top;\n",
       "    }\n",
       "\n",
       "    .dataframe thead th {\n",
       "        text-align: right;\n",
       "    }\n",
       "</style>\n",
       "<table border=\"1\" class=\"dataframe\">\n",
       "  <thead>\n",
       "    <tr style=\"text-align: right;\">\n",
       "      <th>Predicted Sentiment</th>\n",
       "      <th>Negative</th>\n",
       "      <th>Neutral</th>\n",
       "      <th>Positive</th>\n",
       "      <th>Total</th>\n",
       "    </tr>\n",
       "    <tr>\n",
       "      <th>Movie Title</th>\n",
       "      <th></th>\n",
       "      <th></th>\n",
       "      <th></th>\n",
       "      <th></th>\n",
       "    </tr>\n",
       "  </thead>\n",
       "  <tbody>\n",
       "    <tr>\n",
       "      <th>13 Bombs</th>\n",
       "      <td>39</td>\n",
       "      <td>16</td>\n",
       "      <td>26</td>\n",
       "      <td>81</td>\n",
       "    </tr>\n",
       "    <tr>\n",
       "      <th>27 Steps of May</th>\n",
       "      <td>22</td>\n",
       "      <td>17</td>\n",
       "      <td>47</td>\n",
       "      <td>86</td>\n",
       "    </tr>\n",
       "    <tr>\n",
       "      <th>Autobiography</th>\n",
       "      <td>27</td>\n",
       "      <td>16</td>\n",
       "      <td>38</td>\n",
       "      <td>81</td>\n",
       "    </tr>\n",
       "    <tr>\n",
       "      <th>Blessed You</th>\n",
       "      <td>25</td>\n",
       "      <td>12</td>\n",
       "      <td>46</td>\n",
       "      <td>83</td>\n",
       "    </tr>\n",
       "    <tr>\n",
       "      <th>Fiction.</th>\n",
       "      <td>19</td>\n",
       "      <td>13</td>\n",
       "      <td>54</td>\n",
       "      <td>86</td>\n",
       "    </tr>\n",
       "    <tr>\n",
       "      <th>Gundala</th>\n",
       "      <td>30</td>\n",
       "      <td>11</td>\n",
       "      <td>38</td>\n",
       "      <td>79</td>\n",
       "    </tr>\n",
       "    <tr>\n",
       "      <th>Hell Torture</th>\n",
       "      <td>65</td>\n",
       "      <td>7</td>\n",
       "      <td>9</td>\n",
       "      <td>81</td>\n",
       "    </tr>\n",
       "    <tr>\n",
       "      <th>In the Absence of the Sun</th>\n",
       "      <td>13</td>\n",
       "      <td>18</td>\n",
       "      <td>55</td>\n",
       "      <td>86</td>\n",
       "    </tr>\n",
       "    <tr>\n",
       "      <th>Kadet 1947</th>\n",
       "      <td>19</td>\n",
       "      <td>10</td>\n",
       "      <td>52</td>\n",
       "      <td>81</td>\n",
       "    </tr>\n",
       "    <tr>\n",
       "      <th>Lovely Man</th>\n",
       "      <td>16</td>\n",
       "      <td>20</td>\n",
       "      <td>49</td>\n",
       "      <td>85</td>\n",
       "    </tr>\n",
       "    <tr>\n",
       "      <th>Marlina the Murderer in Four Acts</th>\n",
       "      <td>17</td>\n",
       "      <td>9</td>\n",
       "      <td>57</td>\n",
       "      <td>83</td>\n",
       "    </tr>\n",
       "    <tr>\n",
       "      <th>Missing Home</th>\n",
       "      <td>18</td>\n",
       "      <td>13</td>\n",
       "      <td>55</td>\n",
       "      <td>86</td>\n",
       "    </tr>\n",
       "    <tr>\n",
       "      <th>Preman Pensiun</th>\n",
       "      <td>12</td>\n",
       "      <td>16</td>\n",
       "      <td>34</td>\n",
       "      <td>62</td>\n",
       "    </tr>\n",
       "    <tr>\n",
       "      <th>Puspa Indah Taman Hati</th>\n",
       "      <td>10</td>\n",
       "      <td>13</td>\n",
       "      <td>62</td>\n",
       "      <td>85</td>\n",
       "    </tr>\n",
       "    <tr>\n",
       "      <th>Sherina’s Adventure</th>\n",
       "      <td>13</td>\n",
       "      <td>18</td>\n",
       "      <td>55</td>\n",
       "      <td>86</td>\n",
       "    </tr>\n",
       "    <tr>\n",
       "      <th>Sherina’s Adventure 2</th>\n",
       "      <td>21</td>\n",
       "      <td>7</td>\n",
       "      <td>58</td>\n",
       "      <td>86</td>\n",
       "    </tr>\n",
       "    <tr>\n",
       "      <th>The Crescent Moon</th>\n",
       "      <td>13</td>\n",
       "      <td>23</td>\n",
       "      <td>54</td>\n",
       "      <td>90</td>\n",
       "    </tr>\n",
       "    <tr>\n",
       "      <th>The Red Point of Marriage</th>\n",
       "      <td>13</td>\n",
       "      <td>10</td>\n",
       "      <td>63</td>\n",
       "      <td>86</td>\n",
       "    </tr>\n",
       "    <tr>\n",
       "      <th>Tjoet Nja’ Dhien</th>\n",
       "      <td>16</td>\n",
       "      <td>17</td>\n",
       "      <td>53</td>\n",
       "      <td>86</td>\n",
       "    </tr>\n",
       "    <tr>\n",
       "      <th>What’s Up with Cinta 2</th>\n",
       "      <td>31</td>\n",
       "      <td>11</td>\n",
       "      <td>39</td>\n",
       "      <td>81</td>\n",
       "    </tr>\n",
       "    <tr>\n",
       "      <th>What’s Up with Cinta?</th>\n",
       "      <td>17</td>\n",
       "      <td>25</td>\n",
       "      <td>37</td>\n",
       "      <td>79</td>\n",
       "    </tr>\n",
       "  </tbody>\n",
       "</table>\n",
       "</div>"
      ],
      "text/plain": [
       "Predicted Sentiment                Negative  Neutral  Positive  Total\n",
       "Movie Title                                                          \n",
       "13 Bombs                                 39       16        26     81\n",
       "27 Steps of May                          22       17        47     86\n",
       "Autobiography                            27       16        38     81\n",
       "Blessed You                              25       12        46     83\n",
       "Fiction.                                 19       13        54     86\n",
       "Gundala                                  30       11        38     79\n",
       "Hell Torture                             65        7         9     81\n",
       "In the Absence of the Sun                13       18        55     86\n",
       "Kadet 1947                               19       10        52     81\n",
       "Lovely Man                               16       20        49     85\n",
       "Marlina the Murderer in Four Acts        17        9        57     83\n",
       "Missing Home                             18       13        55     86\n",
       "Preman Pensiun                           12       16        34     62\n",
       "Puspa Indah Taman Hati                   10       13        62     85\n",
       "Sherina’s Adventure                      13       18        55     86\n",
       "Sherina’s Adventure 2                    21        7        58     86\n",
       "The Crescent Moon                        13       23        54     90\n",
       "The Red Point of Marriage                13       10        63     86\n",
       "Tjoet Nja’ Dhien                         16       17        53     86\n",
       "What’s Up with Cinta 2                   31       11        39     81\n",
       "What’s Up with Cinta?                    17       25        37     79"
      ]
     },
     "execution_count": 15,
     "metadata": {},
     "output_type": "execute_result"
    }
   ],
   "source": [
    "sentiment_counts['Total'] = (\n",
    "    sentiment_counts['Positive'] + sentiment_counts['Negative'] + sentiment_counts['Neutral']\n",
    ")\n",
    "sentiment_counts"
   ]
  },
  {
   "cell_type": "code",
   "execution_count": 16,
   "metadata": {},
   "outputs": [],
   "source": [
    "sentiment_counts['Pos. Freq.'] = sentiment_counts['Positive'] / sentiment_counts['Total']\n",
    "sentiment_counts['Neu. Freq.'] = sentiment_counts['Neutral'] / sentiment_counts['Total']\n",
    "sentiment_counts['Neg. Freq.'] = sentiment_counts['Negative'] / sentiment_counts['Total']"
   ]
  },
  {
   "cell_type": "code",
   "execution_count": 17,
   "metadata": {},
   "outputs": [],
   "source": [
    "positive_ratio = sentiment_counts['Positive'].sum() / sentiment_counts['Total'].sum()\n",
    "neutral_ratio = sentiment_counts['Neutral'].sum() / sentiment_counts['Total'].sum()\n",
    "negative_ratio = sentiment_counts['Negative'].sum() / sentiment_counts['Total'].sum()"
   ]
  },
  {
   "cell_type": "code",
   "execution_count": 18,
   "metadata": {},
   "outputs": [],
   "source": [
    "def log_score(row, weights):\n",
    "    return (\n",
    "        np.log1p(row['Pos. Freq.']) * weights['positive'] +\n",
    "        np.log1p(row['Neu. Freq.']) * weights['neutral'] +\n",
    "        np.log1p(row['Neg. Freq.']) * weights['negative']\n",
    "    )"
   ]
  },
  {
   "cell_type": "code",
   "execution_count": 19,
   "metadata": {},
   "outputs": [],
   "source": [
    "def optimize_log_weights(sentiment_counts):\n",
    "    def objective_function(params):\n",
    "        weights = {'positive': params[0], 'neutral': params[1], 'negative': params[2]}\n",
    "        scores = sentiment_counts.apply(log_score, axis=1, weights=weights)\n",
    "        return -np.corrcoef(scores, sentiment_counts['Total'])[0, 1]\n",
    "\n",
    "    initial_weights = [positive_ratio, neutral_ratio, -negative_ratio]\n",
    "    bounds = [(0, 1), (0, 1), (-1, 0)]\n",
    "\n",
    "    result = minimize(objective_function, initial_weights, bounds=bounds)\n",
    "    return {'positive': result.x[0], 'neutral': result.x[1], 'negative': result.x[2]}"
   ]
  },
  {
   "cell_type": "code",
   "execution_count": 20,
   "metadata": {},
   "outputs": [
    {
     "name": "stdout",
     "output_type": "stream",
     "text": [
      "Optimal Weights: {'positive': 0.7491292024807663, 'neutral': 0.0, 'negative': 0.0}\n"
     ]
    }
   ],
   "source": [
    "optimal_weights = optimize_log_weights(sentiment_counts)\n",
    "print(\"Optimal Weights:\", optimal_weights)"
   ]
  },
  {
   "cell_type": "code",
   "execution_count": 21,
   "metadata": {},
   "outputs": [],
   "source": [
    "sentiment_counts['Log. Pos.'] = np.log1p(sentiment_counts['Pos. Freq.']) * optimal_weights['positive']\n",
    "sentiment_counts['Log. Neu.'] = np.log1p(sentiment_counts['Neu. Freq.']) * optimal_weights['neutral']\n",
    "sentiment_counts['Log. Neg.'] = np.log1p(sentiment_counts['Neg. Freq.']) * optimal_weights['negative']"
   ]
  },
  {
   "cell_type": "code",
   "execution_count": 22,
   "metadata": {},
   "outputs": [],
   "source": [
    "sentiment_counts['Score'] = sentiment_counts['Log. Pos.'] + sentiment_counts['Log. Neu.'] + sentiment_counts['Log. Neg.']"
   ]
  },
  {
   "cell_type": "code",
   "execution_count": 23,
   "metadata": {},
   "outputs": [],
   "source": [
    "sorted_movies = sentiment_counts.sort_values(by='Score', ascending=False)"
   ]
  },
  {
   "cell_type": "code",
   "execution_count": 24,
   "metadata": {},
   "outputs": [
    {
     "name": "stdout",
     "output_type": "stream",
     "text": [
      "\n",
      "CNN+Fine-Tuned BERT Movie Recommendation (Sorted by Sentiment Score):\n",
      "1. The Red Point of Marriage: Log. Norm. Score=0.41172066781475053, Positive=63.0, Neutral=10.0, Negative=13.0\n",
      "2. Puspa Indah Taman Hati: Log. Norm. Score=0.41035899109281715, Positive=62.0, Neutral=13.0, Negative=10.0\n",
      "3. Marlina the Murderer in Four Acts: Log. Norm. Score=0.39164610658614, Positive=57.0, Neutral=9.0, Negative=17.0\n",
      "4. Sherina’s Adventure 2: Log. Norm. Score=0.38615063597492716, Positive=58.0, Neutral=7.0, Negative=21.0\n",
      "5. Kadet 1947: Log. Norm. Score=0.37149315169523145, Positive=52.0, Neutral=10.0, Negative=19.0\n",
      "6. In the Absence of the Sun: Log. Norm. Score=0.37037891233305376, Positive=55.0, Neutral=18.0, Negative=13.0\n",
      "7. Missing Home: Log. Norm. Score=0.37037891233305376, Positive=55.0, Neutral=13.0, Negative=18.0\n",
      "8. Sherina’s Adventure: Log. Norm. Score=0.37037891233305376, Positive=55.0, Neutral=18.0, Negative=13.0\n",
      "9. Fiction.: Log. Norm. Score=0.36504700937968215, Positive=54.0, Neutral=13.0, Negative=19.0\n",
      "10. Tjoet Nja’ Dhien: Log. Norm. Score=0.3596768845735773, Positive=53.0, Neutral=17.0, Negative=16.0\n",
      "11. The Crescent Moon: Log. Norm. Score=0.35209344393992364, Positive=54.0, Neutral=23.0, Negative=13.0\n",
      "12. Lovely Man: Log. Norm. Score=0.3409950305410171, Positive=49.0, Neutral=20.0, Negative=16.0\n",
      "13. Blessed You: Log. Norm. Score=0.33034485027730476, Positive=46.0, Neutral=12.0, Negative=25.0\n",
      "14. Preman Pensiun: Log. Norm. Score=0.32752963011905084, Positive=34.0, Neutral=16.0, Negative=12.0\n",
      "15. 27 Steps of May: Log. Norm. Score=0.3266217046625252, Positive=47.0, Neutral=17.0, Negative=22.0\n",
      "16. What’s Up with Cinta 2: Log. Norm. Score=0.2944396805715264, Positive=39.0, Neutral=11.0, Negative=31.0\n",
      "17. Gundala: Log. Norm. Score=0.294202576849819, Positive=38.0, Neutral=11.0, Negative=30.0\n",
      "18. Autobiography: Log. Norm. Score=0.28817078036969235, Positive=38.0, Neutral=16.0, Negative=27.0\n",
      "19. What’s Up with Cinta?: Log. Norm. Score=0.2877722437839876, Positive=37.0, Neutral=25.0, Negative=17.0\n",
      "20. 13 Bombs: Log. Norm. Score=0.20854234750753478, Positive=26.0, Neutral=16.0, Negative=39.0\n",
      "21. Hell Torture: Log. Norm. Score=0.07892863906770971, Positive=9.0, Neutral=7.0, Negative=65.0\n"
     ]
    }
   ],
   "source": [
    "print('\\nCNN+Fine-Tuned BERT Movie Recommendation (Sorted by Sentiment Score):')\n",
    "for index, (movie, row) in enumerate(sorted_movies.iterrows(), start=1):\n",
    "    print(f\"{index}. {movie}: Log. Norm. Score={row['Score']}, Positive={row['Positive']}, Neutral={row['Neutral']}, Negative={row['Negative']}\")"
   ]
  },
  {
   "cell_type": "code",
   "execution_count": 25,
   "metadata": {},
   "outputs": [],
   "source": [
    "movie_titles = [\n",
    "    'Hell Torture', 'Lovely Man', 'Fiction.', 'Preman Pensiun', 'In the Absence of the Sun',\n",
    "    \"What’s Up with Cinta?\", \"What’s Up with Cinta 2\", 'Blessed You', 'Missing Home',\n",
    "    'Gundala', 'Autobiography', 'Tjoet Nja’ Dhien', 'The Crescent Moon', '13 Bombs',\n",
    "    '27 Steps of May', 'Marlina the Murderer in Four Acts', \"Sherina’s Adventure\",\n",
    "    \"Sherina’s Adventure 2\", 'The Red Point of Marriage', 'Puspa Indah Taman Hati', 'Kadet 1947'\n",
    "]\n",
    "\n",
    "movie_imdb_rating = [\n",
    "    4.4, 7.6, 7.7, 6.5, 7.4,\n",
    "    7.7, 7.3, 5.8, 8.0,\n",
    "    6.1, 7.2, 7.8, 7.5, 6.6,\n",
    "    7.9, 6.9, 7.8,\n",
    "    7.2, 7.8, 7.7, 6.3\n",
    "]"
   ]
  },
  {
   "cell_type": "code",
   "execution_count": 26,
   "metadata": {},
   "outputs": [],
   "source": [
    "ndcg_count = sentiment_counts.reindex(movie_titles)\n",
    "ndcg_count['IMDb Rating'] = movie_imdb_rating"
   ]
  },
  {
   "cell_type": "code",
   "execution_count": 27,
   "metadata": {},
   "outputs": [
    {
     "name": "stdout",
     "output_type": "stream",
     "text": [
      "NDCG Score: 0.9619464152240786\n"
     ]
    }
   ],
   "source": [
    "min_rating, max_rating = ndcg_count['IMDb Rating'].min(), ndcg_count['IMDb Rating'].max()\n",
    "normalized_imdb_ratings = (ndcg_count['IMDb Rating'] - min_rating) / (max_rating - min_rating)\n",
    "ndcg = ndcg_score([normalized_imdb_ratings.values], [ndcg_count['Score'].values])\n",
    "print('NDCG Score:', ndcg)"
   ]
  },
  {
   "cell_type": "code",
   "execution_count": 29,
   "metadata": {},
   "outputs": [
    {
     "data": {
      "image/png": "[encoded data removed]",
      "text/plain": [
       "<Figure size 800x350 with 1 Axes>"
      ]
     },
     "metadata": {},
     "output_type": "display_data"
    }
   ],
   "source": [
    "def shap_log_normalisation_score(data):\n",
    "    results = []\n",
    "    for values in data:\n",
    "        row = pd.Series({f: v for f, v in zip(features, values)})\n",
    "        score = (\n",
    "            np.log1p(row['Positive'] / row['Total']) * optimal_weights['positive'] +\n",
    "            np.log1p(row['Neutral'] / row['Total']) * optimal_weights['neutral'] +\n",
    "            np.log1p(row['Negative'] / row['Total']) * optimal_weights['negative']\n",
    "        )\n",
    "        results.append(score)\n",
    "    return np.array(results)\n",
    "\n",
    "features = ['Positive', 'Neutral', 'Negative', 'Total']\n",
    "\n",
    "shap_data = sentiment_counts[features].values\n",
    "\n",
    "shap_explainer_ln = shap.Explainer(shap_log_normalisation_score, shap_data)\n",
    "\n",
    "shap_values_ln = shap_explainer_ln(shap_data)\n",
    "\n",
    "shap_explanation_ln = shap.Explanation(\n",
    "    values=shap_values_ln.values,\n",
    "    base_values=shap_values_ln.base_values,\n",
    "    data=shap_data,\n",
    "    feature_names=features\n",
    ")\n",
    "\n",
    "shap.plots.bar(shap_explanation_ln)"
   ]
  },
  {
   "cell_type": "markdown",
   "metadata": {},
   "source": [
    "**<h1>TF-IDF WEIGHTING MOVIE RECOMMENDATION**</h1>"
   ]
  },
  {
   "cell_type": "code",
   "execution_count": 7,
   "metadata": {},
   "outputs": [
    {
     "data": {
      "text/html": [
       "<div>\n",
       "<style scoped>\n",
       "    .dataframe tbody tr th:only-of-type {\n",
       "        vertical-align: middle;\n",
       "    }\n",
       "\n",
       "    .dataframe tbody tr th {\n",
       "        vertical-align: top;\n",
       "    }\n",
       "\n",
       "    .dataframe thead th {\n",
       "        text-align: right;\n",
       "    }\n",
       "</style>\n",
       "<table border=\"1\" class=\"dataframe\">\n",
       "  <thead>\n",
       "    <tr style=\"text-align: right;\">\n",
       "      <th></th>\n",
       "      <th>Movie Title</th>\n",
       "      <th>Username</th>\n",
       "      <th>Full Review</th>\n",
       "    </tr>\n",
       "  </thead>\n",
       "  <tbody>\n",
       "    <tr>\n",
       "      <th>0</th>\n",
       "      <td>What’s Up with Cinta?</td>\n",
       "      <td>yves</td>\n",
       "      <td>men should apologize for not being nicholas sa...</td>\n",
       "    </tr>\n",
       "    <tr>\n",
       "      <th>1</th>\n",
       "      <td>What’s Up with Cinta?</td>\n",
       "      <td>cordmer</td>\n",
       "      <td>poetic guy can do anything</td>\n",
       "    </tr>\n",
       "    <tr>\n",
       "      <th>2</th>\n",
       "      <td>What’s Up with Cinta?</td>\n",
       "      <td>Aditya Nathan</td>\n",
       "      <td>“What's Up with Cinta?” is a staple of Indones...</td>\n",
       "    </tr>\n",
       "    <tr>\n",
       "      <th>3</th>\n",
       "      <td>What’s Up with Cinta?</td>\n",
       "      <td>kiara :]</td>\n",
       "      <td>before the burn book there was diary book</td>\n",
       "    </tr>\n",
       "    <tr>\n",
       "      <th>4</th>\n",
       "      <td>What’s Up with Cinta?</td>\n",
       "      <td>BILLY</td>\n",
       "      <td>why do you (as a man) not act like Rangga</td>\n",
       "    </tr>\n",
       "    <tr>\n",
       "      <th>...</th>\n",
       "      <td>...</td>\n",
       "      <td>...</td>\n",
       "      <td>...</td>\n",
       "    </tr>\n",
       "    <tr>\n",
       "      <th>1734</th>\n",
       "      <td>In the Absence of the Sun</td>\n",
       "      <td>Artyesha</td>\n",
       "      <td>I love it how this movie describes Jakarta cit...</td>\n",
       "    </tr>\n",
       "    <tr>\n",
       "      <th>1735</th>\n",
       "      <td>In the Absence of the Sun</td>\n",
       "      <td>_losingdog</td>\n",
       "      <td>hits too close to home</td>\n",
       "    </tr>\n",
       "    <tr>\n",
       "      <th>1736</th>\n",
       "      <td>In the Absence of the Sun</td>\n",
       "      <td>imam</td>\n",
       "      <td>I'm not even from Jakarta but Lucky Kuswandi m...</td>\n",
       "    </tr>\n",
       "    <tr>\n",
       "      <th>1737</th>\n",
       "      <td>In the Absence of the Sun</td>\n",
       "      <td>hfzfia</td>\n",
       "      <td>this film is both a love letter to jakarta and...</td>\n",
       "    </tr>\n",
       "    <tr>\n",
       "      <th>1738</th>\n",
       "      <td>In the Absence of the Sun</td>\n",
       "      <td>Yesiska Putri</td>\n",
       "      <td>Over the years, this has become my must watch ...</td>\n",
       "    </tr>\n",
       "  </tbody>\n",
       "</table>\n",
       "<p>1739 rows × 3 columns</p>\n",
       "</div>"
      ],
      "text/plain": [
       "                    Movie Title       Username  \\\n",
       "0         What’s Up with Cinta?           yves   \n",
       "1         What’s Up with Cinta?        cordmer   \n",
       "2         What’s Up with Cinta?  Aditya Nathan   \n",
       "3         What’s Up with Cinta?       kiara :]   \n",
       "4         What’s Up with Cinta?          BILLY   \n",
       "...                         ...            ...   \n",
       "1734  In the Absence of the Sun       Artyesha   \n",
       "1735  In the Absence of the Sun     _losingdog   \n",
       "1736  In the Absence of the Sun           imam   \n",
       "1737  In the Absence of the Sun         hfzfia   \n",
       "1738  In the Absence of the Sun  Yesiska Putri   \n",
       "\n",
       "                                            Full Review  \n",
       "0     men should apologize for not being nicholas sa...  \n",
       "1                            poetic guy can do anything  \n",
       "2     “What's Up with Cinta?” is a staple of Indones...  \n",
       "3             before the burn book there was diary book  \n",
       "4             why do you (as a man) not act like Rangga  \n",
       "...                                                 ...  \n",
       "1734  I love it how this movie describes Jakarta cit...  \n",
       "1735                             hits too close to home  \n",
       "1736  I'm not even from Jakarta but Lucky Kuswandi m...  \n",
       "1737  this film is both a love letter to jakarta and...  \n",
       "1738  Over the years, this has become my must watch ...  \n",
       "\n",
       "[1739 rows x 3 columns]"
      ]
     },
     "execution_count": 7,
     "metadata": {},
     "output_type": "execute_result"
    }
   ],
   "source": [
    "new_data = pd.read_csv('./letterboxd_movie_reviews_scraped2.csv')\n",
    "new_data"
   ]
  },
  {
   "cell_type": "code",
   "execution_count": 8,
   "metadata": {},
   "outputs": [],
   "source": [
    "def clean_string(text):\n",
    "    if not isinstance(text, str):\n",
    "        return text\n",
    "    text = re.sub(r'\\([^)]*\\)', '', text)\n",
    "    text = re.sub(r'[^\\w\\s.]', '', text)\n",
    "    sentences = text.split('.')\n",
    "    sentences = [sentence.strip() for sentence in sentences if sentence.strip()]\n",
    "    return ' '.join(sentences)"
   ]
  },
  {
   "cell_type": "code",
   "execution_count": 9,
   "metadata": {},
   "outputs": [],
   "source": [
    "new_data['Cleaned Review'] = new_data['Full Review'].apply(clean_string)"
   ]
  },
  {
   "cell_type": "code",
   "execution_count": 10,
   "metadata": {},
   "outputs": [],
   "source": [
    "reviews_list = new_data['Cleaned Review'].tolist()\n",
    "for index, value in enumerate(reviews_list):\n",
    "    if isinstance(value, float):\n",
    "        reviews_list[index] = str(value)"
   ]
  },
  {
   "cell_type": "code",
   "execution_count": 11,
   "metadata": {},
   "outputs": [
    {
     "name": "stdout",
     "output_type": "stream",
     "text": [
      "55/55 [==============================] - 10s 109ms/step\n"
     ]
    }
   ],
   "source": [
    "predictions = predict_sentiments(reviews_list)"
   ]
  },
  {
   "cell_type": "code",
   "execution_count": 12,
   "metadata": {},
   "outputs": [],
   "source": [
    "new_data['Predicted Sentiment'] = predictions"
   ]
  },
  {
   "cell_type": "code",
   "execution_count": 13,
   "metadata": {},
   "outputs": [
    {
     "data": {
      "text/plain": [
       "Predicted Sentiment\n",
       "Positive    981\n",
       "Negative    456\n",
       "Neutral     302\n",
       "Name: count, dtype: int64"
      ]
     },
     "execution_count": 13,
     "metadata": {},
     "output_type": "execute_result"
    }
   ],
   "source": [
    "sentiment_counts = new_data['Predicted Sentiment'].value_counts()\n",
    "sentiment_counts"
   ]
  },
  {
   "cell_type": "code",
   "execution_count": 14,
   "metadata": {},
   "outputs": [],
   "source": [
    "sentiment_counts = new_data.groupby(['Movie Title', 'Predicted Sentiment']).size().unstack(fill_value=0)"
   ]
  },
  {
   "cell_type": "code",
   "execution_count": 15,
   "metadata": {},
   "outputs": [
    {
     "data": {
      "text/html": [
       "<div>\n",
       "<style scoped>\n",
       "    .dataframe tbody tr th:only-of-type {\n",
       "        vertical-align: middle;\n",
       "    }\n",
       "\n",
       "    .dataframe tbody tr th {\n",
       "        vertical-align: top;\n",
       "    }\n",
       "\n",
       "    .dataframe thead th {\n",
       "        text-align: right;\n",
       "    }\n",
       "</style>\n",
       "<table border=\"1\" class=\"dataframe\">\n",
       "  <thead>\n",
       "    <tr style=\"text-align: right;\">\n",
       "      <th>Predicted Sentiment</th>\n",
       "      <th>Negative</th>\n",
       "      <th>Neutral</th>\n",
       "      <th>Positive</th>\n",
       "      <th>Total</th>\n",
       "    </tr>\n",
       "    <tr>\n",
       "      <th>Movie Title</th>\n",
       "      <th></th>\n",
       "      <th></th>\n",
       "      <th></th>\n",
       "      <th></th>\n",
       "    </tr>\n",
       "  </thead>\n",
       "  <tbody>\n",
       "    <tr>\n",
       "      <th>13 Bombs</th>\n",
       "      <td>39</td>\n",
       "      <td>16</td>\n",
       "      <td>26</td>\n",
       "      <td>81</td>\n",
       "    </tr>\n",
       "    <tr>\n",
       "      <th>27 Steps of May</th>\n",
       "      <td>22</td>\n",
       "      <td>17</td>\n",
       "      <td>47</td>\n",
       "      <td>86</td>\n",
       "    </tr>\n",
       "    <tr>\n",
       "      <th>Autobiography</th>\n",
       "      <td>27</td>\n",
       "      <td>16</td>\n",
       "      <td>38</td>\n",
       "      <td>81</td>\n",
       "    </tr>\n",
       "    <tr>\n",
       "      <th>Blessed You</th>\n",
       "      <td>25</td>\n",
       "      <td>12</td>\n",
       "      <td>46</td>\n",
       "      <td>83</td>\n",
       "    </tr>\n",
       "    <tr>\n",
       "      <th>Fiction.</th>\n",
       "      <td>19</td>\n",
       "      <td>13</td>\n",
       "      <td>54</td>\n",
       "      <td>86</td>\n",
       "    </tr>\n",
       "    <tr>\n",
       "      <th>Gundala</th>\n",
       "      <td>30</td>\n",
       "      <td>11</td>\n",
       "      <td>38</td>\n",
       "      <td>79</td>\n",
       "    </tr>\n",
       "    <tr>\n",
       "      <th>Hell Torture</th>\n",
       "      <td>65</td>\n",
       "      <td>7</td>\n",
       "      <td>9</td>\n",
       "      <td>81</td>\n",
       "    </tr>\n",
       "    <tr>\n",
       "      <th>In the Absence of the Sun</th>\n",
       "      <td>13</td>\n",
       "      <td>18</td>\n",
       "      <td>55</td>\n",
       "      <td>86</td>\n",
       "    </tr>\n",
       "    <tr>\n",
       "      <th>Kadet 1947</th>\n",
       "      <td>19</td>\n",
       "      <td>10</td>\n",
       "      <td>52</td>\n",
       "      <td>81</td>\n",
       "    </tr>\n",
       "    <tr>\n",
       "      <th>Lovely Man</th>\n",
       "      <td>16</td>\n",
       "      <td>20</td>\n",
       "      <td>49</td>\n",
       "      <td>85</td>\n",
       "    </tr>\n",
       "    <tr>\n",
       "      <th>Marlina the Murderer in Four Acts</th>\n",
       "      <td>17</td>\n",
       "      <td>9</td>\n",
       "      <td>57</td>\n",
       "      <td>83</td>\n",
       "    </tr>\n",
       "    <tr>\n",
       "      <th>Missing Home</th>\n",
       "      <td>18</td>\n",
       "      <td>13</td>\n",
       "      <td>55</td>\n",
       "      <td>86</td>\n",
       "    </tr>\n",
       "    <tr>\n",
       "      <th>Preman Pensiun</th>\n",
       "      <td>12</td>\n",
       "      <td>16</td>\n",
       "      <td>34</td>\n",
       "      <td>62</td>\n",
       "    </tr>\n",
       "    <tr>\n",
       "      <th>Puspa Indah Taman Hati</th>\n",
       "      <td>10</td>\n",
       "      <td>13</td>\n",
       "      <td>62</td>\n",
       "      <td>85</td>\n",
       "    </tr>\n",
       "    <tr>\n",
       "      <th>Sherina’s Adventure</th>\n",
       "      <td>13</td>\n",
       "      <td>18</td>\n",
       "      <td>55</td>\n",
       "      <td>86</td>\n",
       "    </tr>\n",
       "    <tr>\n",
       "      <th>Sherina’s Adventure 2</th>\n",
       "      <td>21</td>\n",
       "      <td>7</td>\n",
       "      <td>58</td>\n",
       "      <td>86</td>\n",
       "    </tr>\n",
       "    <tr>\n",
       "      <th>The Crescent Moon</th>\n",
       "      <td>13</td>\n",
       "      <td>23</td>\n",
       "      <td>54</td>\n",
       "      <td>90</td>\n",
       "    </tr>\n",
       "    <tr>\n",
       "      <th>The Red Point of Marriage</th>\n",
       "      <td>13</td>\n",
       "      <td>10</td>\n",
       "      <td>63</td>\n",
       "      <td>86</td>\n",
       "    </tr>\n",
       "    <tr>\n",
       "      <th>Tjoet Nja’ Dhien</th>\n",
       "      <td>16</td>\n",
       "      <td>17</td>\n",
       "      <td>53</td>\n",
       "      <td>86</td>\n",
       "    </tr>\n",
       "    <tr>\n",
       "      <th>What’s Up with Cinta 2</th>\n",
       "      <td>31</td>\n",
       "      <td>11</td>\n",
       "      <td>39</td>\n",
       "      <td>81</td>\n",
       "    </tr>\n",
       "    <tr>\n",
       "      <th>What’s Up with Cinta?</th>\n",
       "      <td>17</td>\n",
       "      <td>25</td>\n",
       "      <td>37</td>\n",
       "      <td>79</td>\n",
       "    </tr>\n",
       "  </tbody>\n",
       "</table>\n",
       "</div>"
      ],
      "text/plain": [
       "Predicted Sentiment                Negative  Neutral  Positive  Total\n",
       "Movie Title                                                          \n",
       "13 Bombs                                 39       16        26     81\n",
       "27 Steps of May                          22       17        47     86\n",
       "Autobiography                            27       16        38     81\n",
       "Blessed You                              25       12        46     83\n",
       "Fiction.                                 19       13        54     86\n",
       "Gundala                                  30       11        38     79\n",
       "Hell Torture                             65        7         9     81\n",
       "In the Absence of the Sun                13       18        55     86\n",
       "Kadet 1947                               19       10        52     81\n",
       "Lovely Man                               16       20        49     85\n",
       "Marlina the Murderer in Four Acts        17        9        57     83\n",
       "Missing Home                             18       13        55     86\n",
       "Preman Pensiun                           12       16        34     62\n",
       "Puspa Indah Taman Hati                   10       13        62     85\n",
       "Sherina’s Adventure                      13       18        55     86\n",
       "Sherina’s Adventure 2                    21        7        58     86\n",
       "The Crescent Moon                        13       23        54     90\n",
       "The Red Point of Marriage                13       10        63     86\n",
       "Tjoet Nja’ Dhien                         16       17        53     86\n",
       "What’s Up with Cinta 2                   31       11        39     81\n",
       "What’s Up with Cinta?                    17       25        37     79"
      ]
     },
     "execution_count": 15,
     "metadata": {},
     "output_type": "execute_result"
    }
   ],
   "source": [
    "sentiment_counts['Total'] = (\n",
    "    sentiment_counts['Positive'] + sentiment_counts['Negative'] + sentiment_counts['Neutral']\n",
    ")\n",
    "sentiment_counts"
   ]
  },
  {
   "cell_type": "code",
   "execution_count": 16,
   "metadata": {},
   "outputs": [],
   "source": [
    "def tf_score(row, weights):\n",
    "    return (\n",
    "        (weights['positive'] * (row['Positive'] / row['Total'])) +\n",
    "        (weights['neutral'] * (row['Neutral'] / row['Total'])) +\n",
    "        (weights['negative'] * (row['Negative'] / row['Total']))\n",
    "    )"
   ]
  },
  {
   "cell_type": "code",
   "execution_count": 17,
   "metadata": {},
   "outputs": [],
   "source": [
    "def objective_function(params):\n",
    "    weights = {'positive': params[0], 'neutral': params[1], 'negative': params[2]}\n",
    "    sentiment_counts['Score'] = sentiment_counts.apply(\n",
    "        tf_score, axis=1, weights=weights\n",
    "    )\n",
    "    return -np.corrcoef(sentiment_counts['Score'], sentiment_counts['Total'])[0, 1]"
   ]
  },
  {
   "cell_type": "code",
   "execution_count": 18,
   "metadata": {},
   "outputs": [],
   "source": [
    "total_counts = sentiment_counts[['Positive', 'Neutral', 'Negative']].sum().sum()"
   ]
  },
  {
   "cell_type": "code",
   "execution_count": 19,
   "metadata": {},
   "outputs": [],
   "source": [
    "positive_proportion = sentiment_counts['Positive'].sum() / total_counts\n",
    "neutral_proportion = sentiment_counts['Neutral'].sum() / total_counts\n",
    "negative_proportion = sentiment_counts['Negative'].sum() / total_counts"
   ]
  },
  {
   "cell_type": "code",
   "execution_count": 20,
   "metadata": {},
   "outputs": [],
   "source": [
    "initial_weights = [\n",
    "    positive_proportion,\n",
    "    neutral_proportion,\n",
    "    -negative_proportion\n",
    "]"
   ]
  },
  {
   "cell_type": "code",
   "execution_count": 21,
   "metadata": {},
   "outputs": [],
   "source": [
    "bounds = [(0, 1), (0, 1), (-1, 0)]"
   ]
  },
  {
   "cell_type": "code",
   "execution_count": 22,
   "metadata": {},
   "outputs": [],
   "source": [
    "result = minimize(objective_function, initial_weights, bounds=bounds, method='L-BFGS-B')"
   ]
  },
  {
   "cell_type": "code",
   "execution_count": 23,
   "metadata": {},
   "outputs": [
    {
     "name": "stdout",
     "output_type": "stream",
     "text": [
      "Optimal Weights: {'positive': 0.7565789338092522, 'neutral': 0.0, 'negative': 0.0}\n"
     ]
    }
   ],
   "source": [
    "optimal_weights = {'positive': result.x[0], 'neutral': result.x[1], 'negative': result.x[2]}\n",
    "print(\"Optimal Weights:\", optimal_weights)"
   ]
  },
  {
   "cell_type": "code",
   "execution_count": 24,
   "metadata": {},
   "outputs": [],
   "source": [
    "sentiment_counts['Score'] = sentiment_counts.apply(\n",
    "    tf_score, axis=1, weights=optimal_weights\n",
    ")"
   ]
  },
  {
   "cell_type": "code",
   "execution_count": 25,
   "metadata": {},
   "outputs": [],
   "source": [
    "sorted_movies = sentiment_counts.sort_values(by='Score', ascending=False)"
   ]
  },
  {
   "cell_type": "code",
   "execution_count": 26,
   "metadata": {},
   "outputs": [
    {
     "name": "stdout",
     "output_type": "stream",
     "text": [
      "\n",
      "CNN+Fine-Tuned BERT Movie Recommendation (Sorted by Sentiment Score):\n",
      "1. The Red Point of Marriage: TF Score=0.5542380561625917, Positive=63.0, Neutral=10.0, Negative=13.0\n",
      "2. Puspa Indah Taman Hati: TF Score=0.5518575752491016, Positive=62.0, Neutral=13.0, Negative=10.0\n",
      "3. Marlina the Murderer in Four Acts: TF Score=0.5195783039412937, Positive=57.0, Neutral=9.0, Negative=17.0\n",
      "4. Sherina’s Adventure 2: TF Score=0.5102509088481003, Positive=58.0, Neutral=7.0, Negative=21.0\n",
      "5. Kadet 1947: TF Score=0.4857049945442113, Positive=52.0, Neutral=10.0, Negative=19.0\n",
      "6. In the Absence of the Sun: TF Score=0.48385862045940553, Positive=55.0, Neutral=18.0, Negative=13.0\n",
      "7. Missing Home: TF Score=0.48385862045940553, Positive=55.0, Neutral=13.0, Negative=18.0\n",
      "8. Sherina’s Adventure: TF Score=0.48385862045940553, Positive=55.0, Neutral=18.0, Negative=13.0\n",
      "9. Fiction.: TF Score=0.47506119099650723, Positive=54.0, Neutral=13.0, Negative=19.0\n",
      "10. Tjoet Nja’ Dhien: TF Score=0.46626376153360893, Positive=53.0, Neutral=17.0, Negative=16.0\n",
      "11. The Crescent Moon: TF Score=0.4539473602855513, Positive=54.0, Neutral=23.0, Negative=13.0\n",
      "12. Lovely Man: TF Score=0.43614550301945126, Positive=49.0, Neutral=20.0, Negative=16.0\n",
      "13. Blessed You: TF Score=0.4193088066894651, Positive=46.0, Neutral=12.0, Negative=25.0\n",
      "14. Preman Pensiun: TF Score=0.41489812499217055, Positive=34.0, Neutral=16.0, Negative=12.0\n",
      "15. 27 Steps of May: TF Score=0.4134791847562192, Positive=47.0, Neutral=17.0, Negative=22.0\n",
      "16. What’s Up with Cinta 2: TF Score=0.36427874590815845, Positive=39.0, Neutral=11.0, Negative=31.0\n",
      "17. Gundala: TF Score=0.36392404411077955, Positive=38.0, Neutral=11.0, Negative=30.0\n",
      "18. Autobiography: TF Score=0.3549382652438467, Positive=38.0, Neutral=16.0, Negative=27.0\n",
      "19. What’s Up with Cinta?: TF Score=0.35434709558154853, Positive=37.0, Neutral=25.0, Negative=17.0\n",
      "20. 13 Bombs: TF Score=0.24285249727210564, Positive=26.0, Neutral=16.0, Negative=39.0\n",
      "21. Hell Torture: TF Score=0.0840643259788058, Positive=9.0, Neutral=7.0, Negative=65.0\n"
     ]
    }
   ],
   "source": [
    "print('\\nCNN+Fine-Tuned BERT Movie Recommendation (Sorted by Sentiment Score):')\n",
    "for index, (movie, row) in enumerate(sorted_movies.iterrows(), start=1):\n",
    "    print(f\"{index}. {movie}: TF Score={row['Score']}, Positive={row['Positive']}, Neutral={row['Neutral']}, Negative={row['Negative']}\")"
   ]
  },
  {
   "cell_type": "code",
   "execution_count": 27,
   "metadata": {},
   "outputs": [],
   "source": [
    "movie_titles = [\n",
    "    'Hell Torture', 'Lovely Man', 'Fiction.', 'Preman Pensiun', 'In the Absence of the Sun',\n",
    "    \"What’s Up with Cinta?\", \"What’s Up with Cinta 2\", 'Blessed You', 'Missing Home',\n",
    "    'Gundala', 'Autobiography', 'Tjoet Nja’ Dhien', 'The Crescent Moon', '13 Bombs',\n",
    "    '27 Steps of May', 'Marlina the Murderer in Four Acts', \"Sherina’s Adventure\",\n",
    "    \"Sherina’s Adventure 2\", 'The Red Point of Marriage', 'Puspa Indah Taman Hati', 'Kadet 1947'\n",
    "]\n",
    "\n",
    "movie_imdb_rating = [\n",
    "    4.4, 7.6, 7.7, 6.5, 7.4,\n",
    "    7.7, 7.3, 5.8, 8.0,\n",
    "    6.1, 7.2, 7.8, 7.5, 6.6,\n",
    "    7.9, 6.9, 7.8,\n",
    "    7.2, 7.8, 7.7, 6.3\n",
    "]"
   ]
  },
  {
   "cell_type": "code",
   "execution_count": 28,
   "metadata": {},
   "outputs": [],
   "source": [
    "ndcg_count = sentiment_counts.reindex(movie_titles)  # Align index with movie_titles\n",
    "ndcg_count['IMDb Rating'] = movie_imdb_rating"
   ]
  },
  {
   "cell_type": "code",
   "execution_count": 29,
   "metadata": {},
   "outputs": [
    {
     "name": "stdout",
     "output_type": "stream",
     "text": [
      "NDCG Score: 0.9619464152240786\n"
     ]
    }
   ],
   "source": [
    "min_rating, max_rating = ndcg_count['IMDb Rating'].min(), ndcg_count['IMDb Rating'].max()\n",
    "normalized_imdb_ratings = (ndcg_count['IMDb Rating'] - min_rating) / (max_rating - min_rating)\n",
    "ndcg = ndcg_score([normalized_imdb_ratings.values], [ndcg_count['Score'].values])\n",
    "print('NDCG Score:', ndcg)"
   ]
  },
  {
   "cell_type": "code",
   "execution_count": 30,
   "metadata": {},
   "outputs": [
    {
     "data": {
      "image/png": "[encoded data removed]",
      "text/plain": [
       "<Figure size 800x350 with 1 Axes>"
      ]
     },
     "metadata": {},
     "output_type": "display_data"
    }
   ],
   "source": [
    "def shap_term_frequency_score(values):\n",
    "    positive = values[:, 0]\n",
    "    neutral = values[:, 1]\n",
    "    negative = values[:, 2]\n",
    "    total = values[:, 3]\n",
    "\n",
    "    # Apply term frequency formula with optimal weights\n",
    "    score = (\n",
    "        optimal_weights['positive'] * (positive / total) +\n",
    "        optimal_weights['neutral'] * (neutral / total) +\n",
    "        optimal_weights['negative'] * (negative / total)\n",
    "    )\n",
    "    return np.array([score]).T\n",
    "\n",
    "features = ['Positive', 'Neutral', 'Negative', 'Total']\n",
    "\n",
    "shap_data = sentiment_counts[features].values\n",
    "\n",
    "shap_explainer_tf = shap.Explainer(shap_term_frequency_score, shap_data)\n",
    "\n",
    "shap_values_tf = shap_explainer_tf(shap_data)\n",
    "\n",
    "shap_explanation_tf = shap.Explanation(\n",
    "    values=shap_values_tf.values,\n",
    "    base_values=shap_values_tf.base_values,\n",
    "    data=shap_data,\n",
    "    feature_names=features\n",
    ")\n",
    "\n",
    "shap.plots.bar(shap_explanation_tf)"
   ]
  },
  {
   "cell_type": "code",
   "execution_count": null,
   "metadata": {},
   "outputs": [],
   "source": []
  }
 ],
 "metadata": {
  "accelerator": "GPU",
  "colab": {
   "gpuType": "A100",
   "machine_shape": "hm",
   "provenance": []
  },
  "kernelspec": {
   "display_name": "Python 3 (ipykernel)",
   "language": "python",
   "name": "python3"
  },
  "language_info": {
   "codemirror_mode": {
    "name": "ipython",
    "version": 3
   },
   "file_extension": ".py",
   "mimetype": "text/x-python",
   "name": "python",
   "nbconvert_exporter": "python",
   "pygments_lexer": "ipython3",
   "version": "3.10.14"
  },
  "widgets": {
   "application/vnd.jupyter.widget-state+json": {
    "0613b33cda5a4c9ebe0535fabcbb3d69": {
     "model_module": "@jupyter-widgets/controls",
     "model_module_version": "1.5.0",
     "model_name": "FloatProgressModel",
     "state": {
      "_dom_classes": [],
      "_model_module": "@jupyter-widgets/controls",
      "_model_module_version": "1.5.0",
      "_model_name": "FloatProgressModel",
      "_view_count": null,
      "_view_module": "@jupyter-widgets/controls",
      "_view_module_version": "1.5.0",
      "_view_name": "ProgressView",
      "bar_style": "success",
      "description": "",
      "description_tooltip": null,
      "layout": "IPY_MODEL_72d2a0683105468c8e6a7f7ef2382cee",
      "max": 440449768,
      "min": 0,
      "orientation": "horizontal",
      "style": "IPY_MODEL_3738cee36ffb4d69999560058d7a66a1",
      "value": 440449768
     }
    },
    "0f175ec0e82f44c5a72eb8d28d90a67f": {
     "model_module": "@jupyter-widgets/base",
     "model_module_version": "1.2.0",
     "model_name": "LayoutModel",
     "state": {
      "_model_module": "@jupyter-widgets/base",
      "_model_module_version": "1.2.0",
      "_model_name": "LayoutModel",
      "_view_count": null,
      "_view_module": "@jupyter-widgets/base",
      "_view_module_version": "1.2.0",
      "_view_name": "LayoutView",
      "align_content": null,
      "align_items": null,
      "align_self": null,
      "border": null,
      "bottom": null,
      "display": null,
      "flex": null,
      "flex_flow": null,
      "grid_area": null,
      "grid_auto_columns": null,
      "grid_auto_flow": null,
      "grid_auto_rows": null,
      "grid_column": null,
      "grid_gap": null,
      "grid_row": null,
      "grid_template_areas": null,
      "grid_template_columns": null,
      "grid_template_rows": null,
      "height": null,
      "justify_content": null,
      "justify_items": null,
      "left": null,
      "margin": null,
      "max_height": null,
      "max_width": null,
      "min_height": null,
      "min_width": null,
      "object_fit": null,
      "object_position": null,
      "order": null,
      "overflow": null,
      "overflow_x": null,
      "overflow_y": null,
      "padding": null,
      "right": null,
      "top": null,
      "visibility": null,
      "width": null
     }
    },
    "0f5a1de38c9e4abe9004d5509e3f9b83": {
     "model_module": "@jupyter-widgets/controls",
     "model_module_version": "1.5.0",
     "model_name": "ProgressStyleModel",
     "state": {
      "_model_module": "@jupyter-widgets/controls",
      "_model_module_version": "1.5.0",
      "_model_name": "ProgressStyleModel",
      "_view_count": null,
      "_view_module": "@jupyter-widgets/base",
      "_view_module_version": "1.2.0",
      "_view_name": "StyleView",
      "bar_color": null,
      "description_width": ""
     }
    },
    "0fd4d91176294b57ad81771b9ce3d529": {
     "model_module": "@jupyter-widgets/controls",
     "model_module_version": "1.5.0",
     "model_name": "DescriptionStyleModel",
     "state": {
      "_model_module": "@jupyter-widgets/controls",
      "_model_module_version": "1.5.0",
      "_model_name": "DescriptionStyleModel",
      "_view_count": null,
      "_view_module": "@jupyter-widgets/base",
      "_view_module_version": "1.2.0",
      "_view_name": "StyleView",
      "description_width": ""
     }
    },
    "101542b381de4038ab00c9ec1ef4b3c7": {
     "model_module": "@jupyter-widgets/controls",
     "model_module_version": "1.5.0",
     "model_name": "FloatProgressModel",
     "state": {
      "_dom_classes": [],
      "_model_module": "@jupyter-widgets/controls",
      "_model_module_version": "1.5.0",
      "_model_name": "FloatProgressModel",
      "_view_count": null,
      "_view_module": "@jupyter-widgets/controls",
      "_view_module_version": "1.5.0",
      "_view_name": "ProgressView",
      "bar_style": "success",
      "description": "",
      "description_tooltip": null,
      "layout": "IPY_MODEL_d770251998d64b18a9f4087c27a96b88",
      "max": 231508,
      "min": 0,
      "orientation": "horizontal",
      "style": "IPY_MODEL_0f5a1de38c9e4abe9004d5509e3f9b83",
      "value": 231508
     }
    },
    "137a3a66d524483c9f01dc3715fae59e": {
     "model_module": "@jupyter-widgets/controls",
     "model_module_version": "1.5.0",
     "model_name": "DescriptionStyleModel",
     "state": {
      "_model_module": "@jupyter-widgets/controls",
      "_model_module_version": "1.5.0",
      "_model_name": "DescriptionStyleModel",
      "_view_count": null,
      "_view_module": "@jupyter-widgets/base",
      "_view_module_version": "1.2.0",
      "_view_name": "StyleView",
      "description_width": ""
     }
    },
    "15c81794660a42a7b87c8e1f4c1ab188": {
     "model_module": "@jupyter-widgets/controls",
     "model_module_version": "1.5.0",
     "model_name": "HBoxModel",
     "state": {
      "_dom_classes": [],
      "_model_module": "@jupyter-widgets/controls",
      "_model_module_version": "1.5.0",
      "_model_name": "HBoxModel",
      "_view_count": null,
      "_view_module": "@jupyter-widgets/controls",
      "_view_module_version": "1.5.0",
      "_view_name": "HBoxView",
      "box_style": "",
      "children": [
       "IPY_MODEL_d433a3f106b04d7994a0d43b234599e4",
       "IPY_MODEL_463e5023e2474211a42989515a072a9c",
       "IPY_MODEL_5adc149ff3dd49d9be2d1b5a02dec841"
      ],
      "layout": "IPY_MODEL_c4a046a7963e454998b5845005b1e6b6"
     }
    },
    "22ce55eaca344eeda5323cc49e6934a1": {
     "model_module": "@jupyter-widgets/controls",
     "model_module_version": "1.5.0",
     "model_name": "HTMLModel",
     "state": {
      "_dom_classes": [],
      "_model_module": "@jupyter-widgets/controls",
      "_model_module_version": "1.5.0",
      "_model_name": "HTMLModel",
      "_view_count": null,
      "_view_module": "@jupyter-widgets/controls",
      "_view_module_version": "1.5.0",
      "_view_name": "HTMLView",
      "description": "",
      "description_tooltip": null,
      "layout": "IPY_MODEL_818989f8309e4111af2316043126f3d0",
      "placeholder": "​",
      "style": "IPY_MODEL_559e5495365b49848f500996a727f60e",
      "value": "config.json: 100%"
     }
    },
    "31c5faf1a37d42db8e711b491167b784": {
     "model_module": "@jupyter-widgets/controls",
     "model_module_version": "1.5.0",
     "model_name": "HTMLModel",
     "state": {
      "_dom_classes": [],
      "_model_module": "@jupyter-widgets/controls",
      "_model_module_version": "1.5.0",
      "_model_name": "HTMLModel",
      "_view_count": null,
      "_view_module": "@jupyter-widgets/controls",
      "_view_module_version": "1.5.0",
      "_view_name": "HTMLView",
      "description": "",
      "description_tooltip": null,
      "layout": "IPY_MODEL_4a2b540f1ecf48cab3234de0bd71fb73",
      "placeholder": "​",
      "style": "IPY_MODEL_fb54412677444c37a86de9d34974c921",
      "value": " 440M/440M [00:05&lt;00:00, 91.8MB/s]"
     }
    },
    "3504eb03afc2443a957b44cf8a5f751e": {
     "model_module": "@jupyter-widgets/base",
     "model_module_version": "1.2.0",
     "model_name": "LayoutModel",
     "state": {
      "_model_module": "@jupyter-widgets/base",
      "_model_module_version": "1.2.0",
      "_model_name": "LayoutModel",
      "_view_count": null,
      "_view_module": "@jupyter-widgets/base",
      "_view_module_version": "1.2.0",
      "_view_name": "LayoutView",
      "align_content": null,
      "align_items": null,
      "align_self": null,
      "border": null,
      "bottom": null,
      "display": null,
      "flex": null,
      "flex_flow": null,
      "grid_area": null,
      "grid_auto_columns": null,
      "grid_auto_flow": null,
      "grid_auto_rows": null,
      "grid_column": null,
      "grid_gap": null,
      "grid_row": null,
      "grid_template_areas": null,
      "grid_template_columns": null,
      "grid_template_rows": null,
      "height": null,
      "justify_content": null,
      "justify_items": null,
      "left": null,
      "margin": null,
      "max_height": null,
      "max_width": null,
      "min_height": null,
      "min_width": null,
      "object_fit": null,
      "object_position": null,
      "order": null,
      "overflow": null,
      "overflow_x": null,
      "overflow_y": null,
      "padding": null,
      "right": null,
      "top": null,
      "visibility": null,
      "width": null
     }
    },
    "3738cee36ffb4d69999560058d7a66a1": {
     "model_module": "@jupyter-widgets/controls",
     "model_module_version": "1.5.0",
     "model_name": "ProgressStyleModel",
     "state": {
      "_model_module": "@jupyter-widgets/controls",
      "_model_module_version": "1.5.0",
      "_model_name": "ProgressStyleModel",
      "_view_count": null,
      "_view_module": "@jupyter-widgets/base",
      "_view_module_version": "1.2.0",
      "_view_name": "StyleView",
      "bar_color": null,
      "description_width": ""
     }
    },
    "463e5023e2474211a42989515a072a9c": {
     "model_module": "@jupyter-widgets/controls",
     "model_module_version": "1.5.0",
     "model_name": "FloatProgressModel",
     "state": {
      "_dom_classes": [],
      "_model_module": "@jupyter-widgets/controls",
      "_model_module_version": "1.5.0",
      "_model_name": "FloatProgressModel",
      "_view_count": null,
      "_view_module": "@jupyter-widgets/controls",
      "_view_module_version": "1.5.0",
      "_view_name": "ProgressView",
      "bar_style": "success",
      "description": "",
      "description_tooltip": null,
      "layout": "IPY_MODEL_5e8d1726ff7249ef82daa895d6f3b9c8",
      "max": 48,
      "min": 0,
      "orientation": "horizontal",
      "style": "IPY_MODEL_837a518cd3c04179b29d2b33f6a38826",
      "value": 48
     }
    },
    "4a2b540f1ecf48cab3234de0bd71fb73": {
     "model_module": "@jupyter-widgets/base",
     "model_module_version": "1.2.0",
     "model_name": "LayoutModel",
     "state": {
      "_model_module": "@jupyter-widgets/base",
      "_model_module_version": "1.2.0",
      "_model_name": "LayoutModel",
      "_view_count": null,
      "_view_module": "@jupyter-widgets/base",
      "_view_module_version": "1.2.0",
      "_view_name": "LayoutView",
      "align_content": null,
      "align_items": null,
      "align_self": null,
      "border": null,
      "bottom": null,
      "display": null,
      "flex": null,
      "flex_flow": null,
      "grid_area": null,
      "grid_auto_columns": null,
      "grid_auto_flow": null,
      "grid_auto_rows": null,
      "grid_column": null,
      "grid_gap": null,
      "grid_row": null,
      "grid_template_areas": null,
      "grid_template_columns": null,
      "grid_template_rows": null,
      "height": null,
      "justify_content": null,
      "justify_items": null,
      "left": null,
      "margin": null,
      "max_height": null,
      "max_width": null,
      "min_height": null,
      "min_width": null,
      "object_fit": null,
      "object_position": null,
      "order": null,
      "overflow": null,
      "overflow_x": null,
      "overflow_y": null,
      "padding": null,
      "right": null,
      "top": null,
      "visibility": null,
      "width": null
     }
    },
    "559e5495365b49848f500996a727f60e": {
     "model_module": "@jupyter-widgets/controls",
     "model_module_version": "1.5.0",
     "model_name": "DescriptionStyleModel",
     "state": {
      "_model_module": "@jupyter-widgets/controls",
      "_model_module_version": "1.5.0",
      "_model_name": "DescriptionStyleModel",
      "_view_count": null,
      "_view_module": "@jupyter-widgets/base",
      "_view_module_version": "1.2.0",
      "_view_name": "StyleView",
      "description_width": ""
     }
    },
    "5adc149ff3dd49d9be2d1b5a02dec841": {
     "model_module": "@jupyter-widgets/controls",
     "model_module_version": "1.5.0",
     "model_name": "HTMLModel",
     "state": {
      "_dom_classes": [],
      "_model_module": "@jupyter-widgets/controls",
      "_model_module_version": "1.5.0",
      "_model_name": "HTMLModel",
      "_view_count": null,
      "_view_module": "@jupyter-widgets/controls",
      "_view_module_version": "1.5.0",
      "_view_name": "HTMLView",
      "description": "",
      "description_tooltip": null,
      "layout": "IPY_MODEL_0f175ec0e82f44c5a72eb8d28d90a67f",
      "placeholder": "​",
      "style": "IPY_MODEL_0fd4d91176294b57ad81771b9ce3d529",
      "value": " 48.0/48.0 [00:00&lt;00:00, 4.03kB/s]"
     }
    },
    "5e8d1726ff7249ef82daa895d6f3b9c8": {
     "model_module": "@jupyter-widgets/base",
     "model_module_version": "1.2.0",
     "model_name": "LayoutModel",
     "state": {
      "_model_module": "@jupyter-widgets/base",
      "_model_module_version": "1.2.0",
      "_model_name": "LayoutModel",
      "_view_count": null,
      "_view_module": "@jupyter-widgets/base",
      "_view_module_version": "1.2.0",
      "_view_name": "LayoutView",
      "align_content": null,
      "align_items": null,
      "align_self": null,
      "border": null,
      "bottom": null,
      "display": null,
      "flex": null,
      "flex_flow": null,
      "grid_area": null,
      "grid_auto_columns": null,
      "grid_auto_flow": null,
      "grid_auto_rows": null,
      "grid_column": null,
      "grid_gap": null,
      "grid_row": null,
      "grid_template_areas": null,
      "grid_template_columns": null,
      "grid_template_rows": null,
      "height": null,
      "justify_content": null,
      "justify_items": null,
      "left": null,
      "margin": null,
      "max_height": null,
      "max_width": null,
      "min_height": null,
      "min_width": null,
      "object_fit": null,
      "object_position": null,
      "order": null,
      "overflow": null,
      "overflow_x": null,
      "overflow_y": null,
      "padding": null,
      "right": null,
      "top": null,
      "visibility": null,
      "width": null
     }
    },
    "6a39c4b2409244f9b3b147cd1d6eb99f": {
     "model_module": "@jupyter-widgets/base",
     "model_module_version": "1.2.0",
     "model_name": "LayoutModel",
     "state": {
      "_model_module": "@jupyter-widgets/base",
      "_model_module_version": "1.2.0",
      "_model_name": "LayoutModel",
      "_view_count": null,
      "_view_module": "@jupyter-widgets/base",
      "_view_module_version": "1.2.0",
      "_view_name": "LayoutView",
      "align_content": null,
      "align_items": null,
      "align_self": null,
      "border": null,
      "bottom": null,
      "display": null,
      "flex": null,
      "flex_flow": null,
      "grid_area": null,
      "grid_auto_columns": null,
      "grid_auto_flow": null,
      "grid_auto_rows": null,
      "grid_column": null,
      "grid_gap": null,
      "grid_row": null,
      "grid_template_areas": null,
      "grid_template_columns": null,
      "grid_template_rows": null,
      "height": null,
      "justify_content": null,
      "justify_items": null,
      "left": null,
      "margin": null,
      "max_height": null,
      "max_width": null,
      "min_height": null,
      "min_width": null,
      "object_fit": null,
      "object_position": null,
      "order": null,
      "overflow": null,
      "overflow_x": null,
      "overflow_y": null,
      "padding": null,
      "right": null,
      "top": null,
      "visibility": null,
      "width": null
     }
    },
    "72d2a0683105468c8e6a7f7ef2382cee": {
     "model_module": "@jupyter-widgets/base",
     "model_module_version": "1.2.0",
     "model_name": "LayoutModel",
     "state": {
      "_model_module": "@jupyter-widgets/base",
      "_model_module_version": "1.2.0",
      "_model_name": "LayoutModel",
      "_view_count": null,
      "_view_module": "@jupyter-widgets/base",
      "_view_module_version": "1.2.0",
      "_view_name": "LayoutView",
      "align_content": null,
      "align_items": null,
      "align_self": null,
      "border": null,
      "bottom": null,
      "display": null,
      "flex": null,
      "flex_flow": null,
      "grid_area": null,
      "grid_auto_columns": null,
      "grid_auto_flow": null,
      "grid_auto_rows": null,
      "grid_column": null,
      "grid_gap": null,
      "grid_row": null,
      "grid_template_areas": null,
      "grid_template_columns": null,
      "grid_template_rows": null,
      "height": null,
      "justify_content": null,
      "justify_items": null,
      "left": null,
      "margin": null,
      "max_height": null,
      "max_width": null,
      "min_height": null,
      "min_width": null,
      "object_fit": null,
      "object_position": null,
      "order": null,
      "overflow": null,
      "overflow_x": null,
      "overflow_y": null,
      "padding": null,
      "right": null,
      "top": null,
      "visibility": null,
      "width": null
     }
    },
    "77c99253fc6446a2b9f784d037737fc3": {
     "model_module": "@jupyter-widgets/base",
     "model_module_version": "1.2.0",
     "model_name": "LayoutModel",
     "state": {
      "_model_module": "@jupyter-widgets/base",
      "_model_module_version": "1.2.0",
      "_model_name": "LayoutModel",
      "_view_count": null,
      "_view_module": "@jupyter-widgets/base",
      "_view_module_version": "1.2.0",
      "_view_name": "LayoutView",
      "align_content": null,
      "align_items": null,
      "align_self": null,
      "border": null,
      "bottom": null,
      "display": null,
      "flex": null,
      "flex_flow": null,
      "grid_area": null,
      "grid_auto_columns": null,
      "grid_auto_flow": null,
      "grid_auto_rows": null,
      "grid_column": null,
      "grid_gap": null,
      "grid_row": null,
      "grid_template_areas": null,
      "grid_template_columns": null,
      "grid_template_rows": null,
      "height": null,
      "justify_content": null,
      "justify_items": null,
      "left": null,
      "margin": null,
      "max_height": null,
      "max_width": null,
      "min_height": null,
      "min_width": null,
      "object_fit": null,
      "object_position": null,
      "order": null,
      "overflow": null,
      "overflow_x": null,
      "overflow_y": null,
      "padding": null,
      "right": null,
      "top": null,
      "visibility": null,
      "width": null
     }
    },
    "80b2cf177ead43c5a5a051d9a4312316": {
     "model_module": "@jupyter-widgets/controls",
     "model_module_version": "1.5.0",
     "model_name": "DescriptionStyleModel",
     "state": {
      "_model_module": "@jupyter-widgets/controls",
      "_model_module_version": "1.5.0",
      "_model_name": "DescriptionStyleModel",
      "_view_count": null,
      "_view_module": "@jupyter-widgets/base",
      "_view_module_version": "1.2.0",
      "_view_name": "StyleView",
      "description_width": ""
     }
    },
    "818989f8309e4111af2316043126f3d0": {
     "model_module": "@jupyter-widgets/base",
     "model_module_version": "1.2.0",
     "model_name": "LayoutModel",
     "state": {
      "_model_module": "@jupyter-widgets/base",
      "_model_module_version": "1.2.0",
      "_model_name": "LayoutModel",
      "_view_count": null,
      "_view_module": "@jupyter-widgets/base",
      "_view_module_version": "1.2.0",
      "_view_name": "LayoutView",
      "align_content": null,
      "align_items": null,
      "align_self": null,
      "border": null,
      "bottom": null,
      "display": null,
      "flex": null,
      "flex_flow": null,
      "grid_area": null,
      "grid_auto_columns": null,
      "grid_auto_flow": null,
      "grid_auto_rows": null,
      "grid_column": null,
      "grid_gap": null,
      "grid_row": null,
      "grid_template_areas": null,
      "grid_template_columns": null,
      "grid_template_rows": null,
      "height": null,
      "justify_content": null,
      "justify_items": null,
      "left": null,
      "margin": null,
      "max_height": null,
      "max_width": null,
      "min_height": null,
      "min_width": null,
      "object_fit": null,
      "object_position": null,
      "order": null,
      "overflow": null,
      "overflow_x": null,
      "overflow_y": null,
      "padding": null,
      "right": null,
      "top": null,
      "visibility": null,
      "width": null
     }
    },
    "837a518cd3c04179b29d2b33f6a38826": {
     "model_module": "@jupyter-widgets/controls",
     "model_module_version": "1.5.0",
     "model_name": "ProgressStyleModel",
     "state": {
      "_model_module": "@jupyter-widgets/controls",
      "_model_module_version": "1.5.0",
      "_model_name": "ProgressStyleModel",
      "_view_count": null,
      "_view_module": "@jupyter-widgets/base",
      "_view_module_version": "1.2.0",
      "_view_name": "StyleView",
      "bar_color": null,
      "description_width": ""
     }
    },
    "845024fb8e964d79b08bd1db947a503a": {
     "model_module": "@jupyter-widgets/controls",
     "model_module_version": "1.5.0",
     "model_name": "DescriptionStyleModel",
     "state": {
      "_model_module": "@jupyter-widgets/controls",
      "_model_module_version": "1.5.0",
      "_model_name": "DescriptionStyleModel",
      "_view_count": null,
      "_view_module": "@jupyter-widgets/base",
      "_view_module_version": "1.2.0",
      "_view_name": "StyleView",
      "description_width": ""
     }
    },
    "8fda7f0d14704d82942b1336796d7f27": {
     "model_module": "@jupyter-widgets/base",
     "model_module_version": "1.2.0",
     "model_name": "LayoutModel",
     "state": {
      "_model_module": "@jupyter-widgets/base",
      "_model_module_version": "1.2.0",
      "_model_name": "LayoutModel",
      "_view_count": null,
      "_view_module": "@jupyter-widgets/base",
      "_view_module_version": "1.2.0",
      "_view_name": "LayoutView",
      "align_content": null,
      "align_items": null,
      "align_self": null,
      "border": null,
      "bottom": null,
      "display": null,
      "flex": null,
      "flex_flow": null,
      "grid_area": null,
      "grid_auto_columns": null,
      "grid_auto_flow": null,
      "grid_auto_rows": null,
      "grid_column": null,
      "grid_gap": null,
      "grid_row": null,
      "grid_template_areas": null,
      "grid_template_columns": null,
      "grid_template_rows": null,
      "height": null,
      "justify_content": null,
      "justify_items": null,
      "left": null,
      "margin": null,
      "max_height": null,
      "max_width": null,
      "min_height": null,
      "min_width": null,
      "object_fit": null,
      "object_position": null,
      "order": null,
      "overflow": null,
      "overflow_x": null,
      "overflow_y": null,
      "padding": null,
      "right": null,
      "top": null,
      "visibility": null,
      "width": null
     }
    },
    "91a4e84200c340758e462173ed3201e6": {
     "model_module": "@jupyter-widgets/controls",
     "model_module_version": "1.5.0",
     "model_name": "HBoxModel",
     "state": {
      "_dom_classes": [],
      "_model_module": "@jupyter-widgets/controls",
      "_model_module_version": "1.5.0",
      "_model_name": "HBoxModel",
      "_view_count": null,
      "_view_module": "@jupyter-widgets/controls",
      "_view_module_version": "1.5.0",
      "_view_name": "HBoxView",
      "box_style": "",
      "children": [
       "IPY_MODEL_cb4c0141ceaa4750a21aa5f731c80cfb",
       "IPY_MODEL_0613b33cda5a4c9ebe0535fabcbb3d69",
       "IPY_MODEL_31c5faf1a37d42db8e711b491167b784"
      ],
      "layout": "IPY_MODEL_d7f66b9d8b054a8a9906d9c229a9ed6a"
     }
    },
    "99a65858f74f4d87be2166d7d95c0db0": {
     "model_module": "@jupyter-widgets/controls",
     "model_module_version": "1.5.0",
     "model_name": "HTMLModel",
     "state": {
      "_dom_classes": [],
      "_model_module": "@jupyter-widgets/controls",
      "_model_module_version": "1.5.0",
      "_model_name": "HTMLModel",
      "_view_count": null,
      "_view_module": "@jupyter-widgets/controls",
      "_view_module_version": "1.5.0",
      "_view_name": "HTMLView",
      "description": "",
      "description_tooltip": null,
      "layout": "IPY_MODEL_ce1d4ef1fbb94414ab0aaab8d3ef6af1",
      "placeholder": "​",
      "style": "IPY_MODEL_845024fb8e964d79b08bd1db947a503a",
      "value": " 570/570 [00:00&lt;00:00, 50.3kB/s]"
     }
    },
    "a2a7d975ef2d4cb09b804e32288dcf92": {
     "model_module": "@jupyter-widgets/controls",
     "model_module_version": "1.5.0",
     "model_name": "HBoxModel",
     "state": {
      "_dom_classes": [],
      "_model_module": "@jupyter-widgets/controls",
      "_model_module_version": "1.5.0",
      "_model_name": "HBoxModel",
      "_view_count": null,
      "_view_module": "@jupyter-widgets/controls",
      "_view_module_version": "1.5.0",
      "_view_name": "HBoxView",
      "box_style": "",
      "children": [
       "IPY_MODEL_22ce55eaca344eeda5323cc49e6934a1",
       "IPY_MODEL_c56f9d85ec844a0fa646bf8c4944e3d1",
       "IPY_MODEL_99a65858f74f4d87be2166d7d95c0db0"
      ],
      "layout": "IPY_MODEL_8fda7f0d14704d82942b1336796d7f27"
     }
    },
    "aec18e0749a04b658bc8dd5b89fb1d7e": {
     "model_module": "@jupyter-widgets/controls",
     "model_module_version": "1.5.0",
     "model_name": "ProgressStyleModel",
     "state": {
      "_model_module": "@jupyter-widgets/controls",
      "_model_module_version": "1.5.0",
      "_model_name": "ProgressStyleModel",
      "_view_count": null,
      "_view_module": "@jupyter-widgets/base",
      "_view_module_version": "1.2.0",
      "_view_name": "StyleView",
      "bar_color": null,
      "description_width": ""
     }
    },
    "b767f64273e2490cb6a79111810310bc": {
     "model_module": "@jupyter-widgets/base",
     "model_module_version": "1.2.0",
     "model_name": "LayoutModel",
     "state": {
      "_model_module": "@jupyter-widgets/base",
      "_model_module_version": "1.2.0",
      "_model_name": "LayoutModel",
      "_view_count": null,
      "_view_module": "@jupyter-widgets/base",
      "_view_module_version": "1.2.0",
      "_view_name": "LayoutView",
      "align_content": null,
      "align_items": null,
      "align_self": null,
      "border": null,
      "bottom": null,
      "display": null,
      "flex": null,
      "flex_flow": null,
      "grid_area": null,
      "grid_auto_columns": null,
      "grid_auto_flow": null,
      "grid_auto_rows": null,
      "grid_column": null,
      "grid_gap": null,
      "grid_row": null,
      "grid_template_areas": null,
      "grid_template_columns": null,
      "grid_template_rows": null,
      "height": null,
      "justify_content": null,
      "justify_items": null,
      "left": null,
      "margin": null,
      "max_height": null,
      "max_width": null,
      "min_height": null,
      "min_width": null,
      "object_fit": null,
      "object_position": null,
      "order": null,
      "overflow": null,
      "overflow_x": null,
      "overflow_y": null,
      "padding": null,
      "right": null,
      "top": null,
      "visibility": null,
      "width": null
     }
    },
    "c0ce659661794738961e0fa62f5ad790": {
     "model_module": "@jupyter-widgets/controls",
     "model_module_version": "1.5.0",
     "model_name": "HBoxModel",
     "state": {
      "_dom_classes": [],
      "_model_module": "@jupyter-widgets/controls",
      "_model_module_version": "1.5.0",
      "_model_name": "HBoxModel",
      "_view_count": null,
      "_view_module": "@jupyter-widgets/controls",
      "_view_module_version": "1.5.0",
      "_view_name": "HBoxView",
      "box_style": "",
      "children": [
       "IPY_MODEL_e470c875d23148b18363c32b3f03c4a9",
       "IPY_MODEL_101542b381de4038ab00c9ec1ef4b3c7",
       "IPY_MODEL_e4b7bcf06885460f82c16a8e2289c0ef"
      ],
      "layout": "IPY_MODEL_c40cd20700a14b58996017c9d1521e0a"
     }
    },
    "c40cd20700a14b58996017c9d1521e0a": {
     "model_module": "@jupyter-widgets/base",
     "model_module_version": "1.2.0",
     "model_name": "LayoutModel",
     "state": {
      "_model_module": "@jupyter-widgets/base",
      "_model_module_version": "1.2.0",
      "_model_name": "LayoutModel",
      "_view_count": null,
      "_view_module": "@jupyter-widgets/base",
      "_view_module_version": "1.2.0",
      "_view_name": "LayoutView",
      "align_content": null,
      "align_items": null,
      "align_self": null,
      "border": null,
      "bottom": null,
      "display": null,
      "flex": null,
      "flex_flow": null,
      "grid_area": null,
      "grid_auto_columns": null,
      "grid_auto_flow": null,
      "grid_auto_rows": null,
      "grid_column": null,
      "grid_gap": null,
      "grid_row": null,
      "grid_template_areas": null,
      "grid_template_columns": null,
      "grid_template_rows": null,
      "height": null,
      "justify_content": null,
      "justify_items": null,
      "left": null,
      "margin": null,
      "max_height": null,
      "max_width": null,
      "min_height": null,
      "min_width": null,
      "object_fit": null,
      "object_position": null,
      "order": null,
      "overflow": null,
      "overflow_x": null,
      "overflow_y": null,
      "padding": null,
      "right": null,
      "top": null,
      "visibility": null,
      "width": null
     }
    },
    "c4a046a7963e454998b5845005b1e6b6": {
     "model_module": "@jupyter-widgets/base",
     "model_module_version": "1.2.0",
     "model_name": "LayoutModel",
     "state": {
      "_model_module": "@jupyter-widgets/base",
      "_model_module_version": "1.2.0",
      "_model_name": "LayoutModel",
      "_view_count": null,
      "_view_module": "@jupyter-widgets/base",
      "_view_module_version": "1.2.0",
      "_view_name": "LayoutView",
      "align_content": null,
      "align_items": null,
      "align_self": null,
      "border": null,
      "bottom": null,
      "display": null,
      "flex": null,
      "flex_flow": null,
      "grid_area": null,
      "grid_auto_columns": null,
      "grid_auto_flow": null,
      "grid_auto_rows": null,
      "grid_column": null,
      "grid_gap": null,
      "grid_row": null,
      "grid_template_areas": null,
      "grid_template_columns": null,
      "grid_template_rows": null,
      "height": null,
      "justify_content": null,
      "justify_items": null,
      "left": null,
      "margin": null,
      "max_height": null,
      "max_width": null,
      "min_height": null,
      "min_width": null,
      "object_fit": null,
      "object_position": null,
      "order": null,
      "overflow": null,
      "overflow_x": null,
      "overflow_y": null,
      "padding": null,
      "right": null,
      "top": null,
      "visibility": null,
      "width": null
     }
    },
    "c56f9d85ec844a0fa646bf8c4944e3d1": {
     "model_module": "@jupyter-widgets/controls",
     "model_module_version": "1.5.0",
     "model_name": "FloatProgressModel",
     "state": {
      "_dom_classes": [],
      "_model_module": "@jupyter-widgets/controls",
      "_model_module_version": "1.5.0",
      "_model_name": "FloatProgressModel",
      "_view_count": null,
      "_view_module": "@jupyter-widgets/controls",
      "_view_module_version": "1.5.0",
      "_view_name": "ProgressView",
      "bar_style": "success",
      "description": "",
      "description_tooltip": null,
      "layout": "IPY_MODEL_b767f64273e2490cb6a79111810310bc",
      "max": 570,
      "min": 0,
      "orientation": "horizontal",
      "style": "IPY_MODEL_aec18e0749a04b658bc8dd5b89fb1d7e",
      "value": 570
     }
    },
    "ca672fa8ce424a9381491ab96adcae5a": {
     "model_module": "@jupyter-widgets/controls",
     "model_module_version": "1.5.0",
     "model_name": "DescriptionStyleModel",
     "state": {
      "_model_module": "@jupyter-widgets/controls",
      "_model_module_version": "1.5.0",
      "_model_name": "DescriptionStyleModel",
      "_view_count": null,
      "_view_module": "@jupyter-widgets/base",
      "_view_module_version": "1.2.0",
      "_view_name": "StyleView",
      "description_width": ""
     }
    },
    "cb4c0141ceaa4750a21aa5f731c80cfb": {
     "model_module": "@jupyter-widgets/controls",
     "model_module_version": "1.5.0",
     "model_name": "HTMLModel",
     "state": {
      "_dom_classes": [],
      "_model_module": "@jupyter-widgets/controls",
      "_model_module_version": "1.5.0",
      "_model_name": "HTMLModel",
      "_view_count": null,
      "_view_module": "@jupyter-widgets/controls",
      "_view_module_version": "1.5.0",
      "_view_name": "HTMLView",
      "description": "",
      "description_tooltip": null,
      "layout": "IPY_MODEL_ecb86a8ed0834233a02806b49a43407f",
      "placeholder": "​",
      "style": "IPY_MODEL_ea443ed643b942899f41f97d65c15ec7",
      "value": "model.safetensors: 100%"
     }
    },
    "ce1d4ef1fbb94414ab0aaab8d3ef6af1": {
     "model_module": "@jupyter-widgets/base",
     "model_module_version": "1.2.0",
     "model_name": "LayoutModel",
     "state": {
      "_model_module": "@jupyter-widgets/base",
      "_model_module_version": "1.2.0",
      "_model_name": "LayoutModel",
      "_view_count": null,
      "_view_module": "@jupyter-widgets/base",
      "_view_module_version": "1.2.0",
      "_view_name": "LayoutView",
      "align_content": null,
      "align_items": null,
      "align_self": null,
      "border": null,
      "bottom": null,
      "display": null,
      "flex": null,
      "flex_flow": null,
      "grid_area": null,
      "grid_auto_columns": null,
      "grid_auto_flow": null,
      "grid_auto_rows": null,
      "grid_column": null,
      "grid_gap": null,
      "grid_row": null,
      "grid_template_areas": null,
      "grid_template_columns": null,
      "grid_template_rows": null,
      "height": null,
      "justify_content": null,
      "justify_items": null,
      "left": null,
      "margin": null,
      "max_height": null,
      "max_width": null,
      "min_height": null,
      "min_width": null,
      "object_fit": null,
      "object_position": null,
      "order": null,
      "overflow": null,
      "overflow_x": null,
      "overflow_y": null,
      "padding": null,
      "right": null,
      "top": null,
      "visibility": null,
      "width": null
     }
    },
    "d433a3f106b04d7994a0d43b234599e4": {
     "model_module": "@jupyter-widgets/controls",
     "model_module_version": "1.5.0",
     "model_name": "HTMLModel",
     "state": {
      "_dom_classes": [],
      "_model_module": "@jupyter-widgets/controls",
      "_model_module_version": "1.5.0",
      "_model_name": "HTMLModel",
      "_view_count": null,
      "_view_module": "@jupyter-widgets/controls",
      "_view_module_version": "1.5.0",
      "_view_name": "HTMLView",
      "description": "",
      "description_tooltip": null,
      "layout": "IPY_MODEL_77c99253fc6446a2b9f784d037737fc3",
      "placeholder": "​",
      "style": "IPY_MODEL_ca672fa8ce424a9381491ab96adcae5a",
      "value": "tokenizer_config.json: 100%"
     }
    },
    "d770251998d64b18a9f4087c27a96b88": {
     "model_module": "@jupyter-widgets/base",
     "model_module_version": "1.2.0",
     "model_name": "LayoutModel",
     "state": {
      "_model_module": "@jupyter-widgets/base",
      "_model_module_version": "1.2.0",
      "_model_name": "LayoutModel",
      "_view_count": null,
      "_view_module": "@jupyter-widgets/base",
      "_view_module_version": "1.2.0",
      "_view_name": "LayoutView",
      "align_content": null,
      "align_items": null,
      "align_self": null,
      "border": null,
      "bottom": null,
      "display": null,
      "flex": null,
      "flex_flow": null,
      "grid_area": null,
      "grid_auto_columns": null,
      "grid_auto_flow": null,
      "grid_auto_rows": null,
      "grid_column": null,
      "grid_gap": null,
      "grid_row": null,
      "grid_template_areas": null,
      "grid_template_columns": null,
      "grid_template_rows": null,
      "height": null,
      "justify_content": null,
      "justify_items": null,
      "left": null,
      "margin": null,
      "max_height": null,
      "max_width": null,
      "min_height": null,
      "min_width": null,
      "object_fit": null,
      "object_position": null,
      "order": null,
      "overflow": null,
      "overflow_x": null,
      "overflow_y": null,
      "padding": null,
      "right": null,
      "top": null,
      "visibility": null,
      "width": null
     }
    },
    "d7f66b9d8b054a8a9906d9c229a9ed6a": {
     "model_module": "@jupyter-widgets/base",
     "model_module_version": "1.2.0",
     "model_name": "LayoutModel",
     "state": {
      "_model_module": "@jupyter-widgets/base",
      "_model_module_version": "1.2.0",
      "_model_name": "LayoutModel",
      "_view_count": null,
      "_view_module": "@jupyter-widgets/base",
      "_view_module_version": "1.2.0",
      "_view_name": "LayoutView",
      "align_content": null,
      "align_items": null,
      "align_self": null,
      "border": null,
      "bottom": null,
      "display": null,
      "flex": null,
      "flex_flow": null,
      "grid_area": null,
      "grid_auto_columns": null,
      "grid_auto_flow": null,
      "grid_auto_rows": null,
      "grid_column": null,
      "grid_gap": null,
      "grid_row": null,
      "grid_template_areas": null,
      "grid_template_columns": null,
      "grid_template_rows": null,
      "height": null,
      "justify_content": null,
      "justify_items": null,
      "left": null,
      "margin": null,
      "max_height": null,
      "max_width": null,
      "min_height": null,
      "min_width": null,
      "object_fit": null,
      "object_position": null,
      "order": null,
      "overflow": null,
      "overflow_x": null,
      "overflow_y": null,
      "padding": null,
      "right": null,
      "top": null,
      "visibility": null,
      "width": null
     }
    },
    "e470c875d23148b18363c32b3f03c4a9": {
     "model_module": "@jupyter-widgets/controls",
     "model_module_version": "1.5.0",
     "model_name": "HTMLModel",
     "state": {
      "_dom_classes": [],
      "_model_module": "@jupyter-widgets/controls",
      "_model_module_version": "1.5.0",
      "_model_name": "HTMLModel",
      "_view_count": null,
      "_view_module": "@jupyter-widgets/controls",
      "_view_module_version": "1.5.0",
      "_view_name": "HTMLView",
      "description": "",
      "description_tooltip": null,
      "layout": "IPY_MODEL_3504eb03afc2443a957b44cf8a5f751e",
      "placeholder": "​",
      "style": "IPY_MODEL_80b2cf177ead43c5a5a051d9a4312316",
      "value": "vocab.txt: 100%"
     }
    },
    "e4b7bcf06885460f82c16a8e2289c0ef": {
     "model_module": "@jupyter-widgets/controls",
     "model_module_version": "1.5.0",
     "model_name": "HTMLModel",
     "state": {
      "_dom_classes": [],
      "_model_module": "@jupyter-widgets/controls",
      "_model_module_version": "1.5.0",
      "_model_name": "HTMLModel",
      "_view_count": null,
      "_view_module": "@jupyter-widgets/controls",
      "_view_module_version": "1.5.0",
      "_view_name": "HTMLView",
      "description": "",
      "description_tooltip": null,
      "layout": "IPY_MODEL_6a39c4b2409244f9b3b147cd1d6eb99f",
      "placeholder": "​",
      "style": "IPY_MODEL_137a3a66d524483c9f01dc3715fae59e",
      "value": " 232k/232k [00:00&lt;00:00, 1.69MB/s]"
     }
    },
    "ea443ed643b942899f41f97d65c15ec7": {
     "model_module": "@jupyter-widgets/controls",
     "model_module_version": "1.5.0",
     "model_name": "DescriptionStyleModel",
     "state": {
      "_model_module": "@jupyter-widgets/controls",
      "_model_module_version": "1.5.0",
      "_model_name": "DescriptionStyleModel",
      "_view_count": null,
      "_view_module": "@jupyter-widgets/base",
      "_view_module_version": "1.2.0",
      "_view_name": "StyleView",
      "description_width": ""
     }
    },
    "ecb86a8ed0834233a02806b49a43407f": {
     "model_module": "@jupyter-widgets/base",
     "model_module_version": "1.2.0",
     "model_name": "LayoutModel",
     "state": {
      "_model_module": "@jupyter-widgets/base",
      "_model_module_version": "1.2.0",
      "_model_name": "LayoutModel",
      "_view_count": null,
      "_view_module": "@jupyter-widgets/base",
      "_view_module_version": "1.2.0",
      "_view_name": "LayoutView",
      "align_content": null,
      "align_items": null,
      "align_self": null,
      "border": null,
      "bottom": null,
      "display": null,
      "flex": null,
      "flex_flow": null,
      "grid_area": null,
      "grid_auto_columns": null,
      "grid_auto_flow": null,
      "grid_auto_rows": null,
      "grid_column": null,
      "grid_gap": null,
      "grid_row": null,
      "grid_template_areas": null,
      "grid_template_columns": null,
      "grid_template_rows": null,
      "height": null,
      "justify_content": null,
      "justify_items": null,
      "left": null,
      "margin": null,
      "max_height": null,
      "max_width": null,
      "min_height": null,
      "min_width": null,
      "object_fit": null,
      "object_position": null,
      "order": null,
      "overflow": null,
      "overflow_x": null,
      "overflow_y": null,
      "padding": null,
      "right": null,
      "top": null,
      "visibility": null,
      "width": null
     }
    },
    "fb54412677444c37a86de9d34974c921": {
     "model_module": "@jupyter-widgets/controls",
     "model_module_version": "1.5.0",
     "model_name": "DescriptionStyleModel",
     "state": {
      "_model_module": "@jupyter-widgets/controls",
      "_model_module_version": "1.5.0",
      "_model_name": "DescriptionStyleModel",
      "_view_count": null,
      "_view_module": "@jupyter-widgets/base",
      "_view_module_version": "1.2.0",
      "_view_name": "StyleView",
      "description_width": ""
     }
    }
   }
  }
 },
 "nbformat": 4,
 "nbformat_minor": 4
}
